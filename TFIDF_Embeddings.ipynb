{
  "nbformat": 4,
  "nbformat_minor": 0,
  "metadata": {
    "colab": {
      "name": "TFIDF Embeddings.ipynb",
      "provenance": [],
      "toc_visible": true
    },
    "kernelspec": {
      "name": "python3",
      "display_name": "Python 3"
    },
    "language_info": {
      "name": "python"
    }
  },
  "cells": [
    {
      "cell_type": "code",
      "metadata": {
        "colab": {
          "base_uri": "https://localhost:8080/"
        },
        "id": "lGxnVw3EwkMC",
        "outputId": "9cab1af9-a158-49a7-b946-7e8bb4fd149e"
      },
      "source": [
        "from google.colab import drive\n",
        "drive.mount('/content/drive')"
      ],
      "execution_count": null,
      "outputs": [
        {
          "output_type": "stream",
          "text": [
            "Mounted at /content/drive\n"
          ],
          "name": "stdout"
        }
      ]
    },
    {
      "cell_type": "code",
      "metadata": {
        "colab": {
          "base_uri": "https://localhost:8080/"
        },
        "id": "8Zax22E9wpAf",
        "outputId": "f1ea2282-f96a-4fdd-c41d-315259804e24"
      },
      "source": [
        "import pandas as pd\n",
        "import numpy as np\n",
        "\n",
        "from sklearn.feature_extraction.text import CountVectorizer\n",
        "from sklearn.feature_extraction.text import TfidfTransformer\n",
        "from sklearn.metrics import classification_report\n",
        "from sklearn.model_selection import GridSearchCV\n",
        "from sklearn.ensemble import RandomForestClassifier, GradientBoostingClassifier\n",
        "from sklearn.linear_model import LogisticRegression, SGDClassifier\n",
        "from sklearn.svm import LinearSVC\n",
        "\n",
        "from nltk.corpus import stopwords \n",
        "from nltk.tokenize import word_tokenize\n",
        "import nltk\n",
        "nltk.download('stopwords')\n",
        "import regex as re\n",
        "\n",
        "import matplotlib.pyplot as plt\n"
      ],
      "execution_count": null,
      "outputs": [
        {
          "output_type": "stream",
          "text": [
            "[nltk_data] Downloading package stopwords to /root/nltk_data...\n",
            "[nltk_data]   Package stopwords is already up-to-date!\n"
          ],
          "name": "stdout"
        }
      ]
    },
    {
      "cell_type": "code",
      "metadata": {
        "id": "mzrS8hUH6WYM"
      },
      "source": [
        "def get_data2(path,g=1,c=None,tf=None,train=1):\n",
        "    d = pd.read_csv(path)\n",
        "    d['Body_joined'] = d['Body']+d['Title']\n",
        "    d['Body_joined'].apply(cleaning_text)\n",
        "    d['Body_joined'].apply(rem_stop_words)\n",
        "    if train == 1:\n",
        "        c = CountVectorizer(ngram_range=(1,g))\n",
        "        counts = c.fit_transform(d.Body_joined)\n",
        "        tf = TfidfTransformer()\n",
        "        d_tfidf = tf.fit_transform(counts)\n",
        "    else:\n",
        "        assert c != None\n",
        "        assert tf != None\n",
        "        counts = c.transform(d.Body_joined)\n",
        "        d_tfidf = tf.transform(counts)\n",
        "    return d_tfidf,c,tf,d['Y']\n",
        "\n",
        "def cleaning_text(text):\n",
        "    text = text.lower()\n",
        "    text = re.sub(r'[^(a-zA-Z)\\s]','', text)\n",
        "    return text\n",
        "\n",
        "stop_words = set(stopwords.words('english'))\n",
        "def rem_stop_words(words):\n",
        "    l = [x for x in words.split(' ') if not x in stop_words]\n",
        "    return ' '.join(l)"
      ],
      "execution_count": null,
      "outputs": []
    },
    {
      "cell_type": "markdown",
      "metadata": {
        "id": "iBfbzjYVyEdl"
      },
      "source": [
        "# Loading data - 1-gram\n",
        "\n",
        "Loading data considering only single words as tokens."
      ]
    },
    {
      "cell_type": "code",
      "metadata": {
        "colab": {
          "base_uri": "https://localhost:8080/"
        },
        "id": "QauWxITwTZOo",
        "outputId": "22cc54e6-8898-4e01-93b4-4a4c24a73a9b"
      },
      "source": [
        "train_path = 'drive/MyDrive/EE769Project/train.csv'\n",
        "test_path = 'drive/MyDrive/EE769Project/valid.csv'\n",
        "d_train,c_train,tf_train,y_train = get_data2(train_path)\n",
        "d_test,c_train,tf_train,y_test = get_data2(test_path,c=c_train,tf=tf_train,train=0)\n",
        "\n",
        "print(d_train.shape)\n",
        "print(d_test.shape)\n",
        "\n",
        "new_values = {'HQ':2, 'LQ_EDIT':1, 'LQ_CLOSE':0}\n",
        "y_train  = y_train.replace(new_values)\n",
        "y_test = y_test.replace(new_values)\n",
        "\n",
        "print(y_train.shape)\n",
        "print(y_test.shape)"
      ],
      "execution_count": null,
      "outputs": [
        {
          "output_type": "stream",
          "text": [
            "(45000, 204728)\n",
            "(15000, 204728)\n",
            "(45000,)\n",
            "(15000,)\n"
          ],
          "name": "stdout"
        }
      ]
    },
    {
      "cell_type": "code",
      "metadata": {
        "id": "DA5cW1wSsKvG"
      },
      "source": [
        "feature_array = np.array(tfidf.get_feature_names())\n",
        "tfidf_sorting = np.argsort(response.toarray()).flatten()[::-1]\n",
        "\n",
        "n = 3\n",
        "top_n = feature_array[tfidf_sorting][:n]"
      ],
      "execution_count": null,
      "outputs": []
    },
    {
      "cell_type": "markdown",
      "metadata": {
        "id": "OpIlFUEe3hFt"
      },
      "source": [
        "# Model Training and Testing"
      ]
    },
    {
      "cell_type": "code",
      "metadata": {
        "id": "pSEYBJCf6WWO"
      },
      "source": [
        "clf_dict = {\n",
        "    'LogisticRegression': LogisticRegression(),\n",
        "    'SGDClassifier': SGDClassifier(),\n",
        "    'LinearSVC': LinearSVC(),\n",
        "    'RandomForestClassifier': RandomForestClassifier(),\n",
        "    'GradientBoostingClassifier': GradientBoostingClassifier(),\n",
        "}\n",
        "\n",
        "def do_gridSearch(clf,d_train,y_train,d_test,y_test,hyperparams):\n",
        "    opt = GridSearchCV(clf, cv=5, param_grid=hyperparams,  scoring='f1_weighted', verbose=2.1)\n",
        "    opt.fit(d_train, np.squeeze(y_train))\n",
        "    print('Best parameters:')\n",
        "    print(opt.best_params_)\n",
        "    scoring='f1_weighted'\n",
        "    print('Best' + scoring + \":\" + str(opt.best_score_))\n",
        "    print('Train classification report:')\n",
        "    y_true, y_pred = np.squeeze(y_train), opt.predict(d_train)\n",
        "    print(classification_report(y_true, y_pred))\n",
        "    print('Test classification report:')\n",
        "    y_true, y_pred = np.squeeze(y_test), opt.predict(d_test)\n",
        "    print(classification_report(y_true, y_pred))\n",
        "    return opt"
      ],
      "execution_count": null,
      "outputs": []
    },
    {
      "cell_type": "code",
      "metadata": {
        "colab": {
          "base_uri": "https://localhost:8080/",
          "height": 1000
        },
        "id": "TYe0stGH6WRw",
        "outputId": "62558665-3ce3-4522-b4f2-93ec5b615e64"
      },
      "source": [
        "result_dict = {}\n",
        "model_order = ['LogisticRegression','LinearSVC','RandomForestClassifier','GradientBoostingClassifier']\n",
        "for clf_str in model_order:\n",
        "    if clf_str == 'LogisticRegression':\n",
        "        params = {'C':[0.01,0.1,1.0,10.0,100.0],'max_iter':[50,150,300,600],'multi_class':['auto']}\n",
        "    elif clf_str == 'RandomForestClassifier':\n",
        "        params = {'n_estimators': [50,200,600],\n",
        "                  'max_depth': [10,15,20]}\n",
        "    elif clf_str == 'GradientBoostingClassifier':\n",
        "        params = {'n_estimators': [50,200,600],\n",
        "                  'learning_rate': [0.01,0.1,0.5]}\n",
        "    elif clf_str == 'LinearSVC':\n",
        "        params = {'C':[0.01,0.1,1.0,10.0,100.0]}\n",
        "    elif clf_str == 'SGDClassifier':\n",
        "        params = {'loss':['hinge'],'alpha':[0.0001,0.001,0.01],'penalty':['elasticnet'],'l1_ratio':[0,0.2,0.7,1.0]}\n",
        "    clf_fn = clf_dict[clf_str]\n",
        "    print(\" \")\n",
        "    print(\"##########################################################################################################\")\n",
        "    print(\"Now doing\",clf_str)\n",
        "    opt = do_gridSearch(clf_fn,d_train,y_train,d_test,y_test,params)\n",
        "    result_dict[clf_str] = opt"
      ],
      "execution_count": null,
      "outputs": [
        {
          "output_type": "stream",
          "text": [
            " \n",
            "##########################################################################################################\n",
            "Now doing LogisticRegression\n",
            "Fitting 5 folds for each of 20 candidates, totalling 100 fits\n",
            "[CV] C=0.01, max_iter=50, multi_class=auto ...........................\n"
          ],
          "name": "stdout"
        },
        {
          "output_type": "stream",
          "text": [
            "[Parallel(n_jobs=1)]: Using backend SequentialBackend with 1 concurrent workers.\n"
          ],
          "name": "stderr"
        },
        {
          "output_type": "stream",
          "text": [
            "[CV]  C=0.01, max_iter=50, multi_class=auto, score=0.682, total=   6.8s\n",
            "[CV] C=0.01, max_iter=50, multi_class=auto ...........................\n"
          ],
          "name": "stdout"
        },
        {
          "output_type": "stream",
          "text": [
            "[Parallel(n_jobs=1)]: Done   1 out of   1 | elapsed:    6.8s remaining:    0.0s\n"
          ],
          "name": "stderr"
        },
        {
          "output_type": "stream",
          "text": [
            "[CV]  C=0.01, max_iter=50, multi_class=auto, score=0.688, total=   6.7s\n",
            "[CV] C=0.01, max_iter=50, multi_class=auto ...........................\n"
          ],
          "name": "stdout"
        },
        {
          "output_type": "stream",
          "text": [
            "[Parallel(n_jobs=1)]: Done   2 out of   2 | elapsed:   13.5s remaining:    0.0s\n"
          ],
          "name": "stderr"
        },
        {
          "output_type": "stream",
          "text": [
            "[CV]  C=0.01, max_iter=50, multi_class=auto, score=0.700, total=   5.7s\n",
            "[CV] C=0.01, max_iter=50, multi_class=auto ...........................\n",
            "[CV]  C=0.01, max_iter=50, multi_class=auto, score=0.702, total=   5.7s\n",
            "[CV] C=0.01, max_iter=50, multi_class=auto ...........................\n",
            "[CV]  C=0.01, max_iter=50, multi_class=auto, score=0.692, total=   6.3s\n",
            "[CV] C=0.01, max_iter=150, multi_class=auto ..........................\n",
            "[CV]  C=0.01, max_iter=150, multi_class=auto, score=0.682, total=   6.9s\n",
            "[CV] C=0.01, max_iter=150, multi_class=auto ..........................\n",
            "[CV]  C=0.01, max_iter=150, multi_class=auto, score=0.688, total=   6.8s\n",
            "[CV] C=0.01, max_iter=150, multi_class=auto ..........................\n",
            "[CV]  C=0.01, max_iter=150, multi_class=auto, score=0.700, total=   5.6s\n",
            "[CV] C=0.01, max_iter=150, multi_class=auto ..........................\n",
            "[CV]  C=0.01, max_iter=150, multi_class=auto, score=0.702, total=   5.8s\n",
            "[CV] C=0.01, max_iter=150, multi_class=auto ..........................\n",
            "[CV]  C=0.01, max_iter=150, multi_class=auto, score=0.692, total=   6.1s\n",
            "[CV] C=0.01, max_iter=300, multi_class=auto ..........................\n",
            "[CV]  C=0.01, max_iter=300, multi_class=auto, score=0.682, total=   6.6s\n",
            "[CV] C=0.01, max_iter=300, multi_class=auto ..........................\n",
            "[CV]  C=0.01, max_iter=300, multi_class=auto, score=0.688, total=   6.6s\n",
            "[CV] C=0.01, max_iter=300, multi_class=auto ..........................\n",
            "[CV]  C=0.01, max_iter=300, multi_class=auto, score=0.700, total=   5.5s\n",
            "[CV] C=0.01, max_iter=300, multi_class=auto ..........................\n",
            "[CV]  C=0.01, max_iter=300, multi_class=auto, score=0.702, total=   5.7s\n",
            "[CV] C=0.01, max_iter=300, multi_class=auto ..........................\n",
            "[CV]  C=0.01, max_iter=300, multi_class=auto, score=0.692, total=   6.1s\n",
            "[CV] C=0.01, max_iter=600, multi_class=auto ..........................\n",
            "[CV]  C=0.01, max_iter=600, multi_class=auto, score=0.682, total=   6.4s\n",
            "[CV] C=0.01, max_iter=600, multi_class=auto ..........................\n",
            "[CV]  C=0.01, max_iter=600, multi_class=auto, score=0.688, total=   6.6s\n",
            "[CV] C=0.01, max_iter=600, multi_class=auto ..........................\n",
            "[CV]  C=0.01, max_iter=600, multi_class=auto, score=0.700, total=   5.6s\n",
            "[CV] C=0.01, max_iter=600, multi_class=auto ..........................\n",
            "[CV]  C=0.01, max_iter=600, multi_class=auto, score=0.702, total=   5.8s\n",
            "[CV] C=0.01, max_iter=600, multi_class=auto ..........................\n",
            "[CV]  C=0.01, max_iter=600, multi_class=auto, score=0.692, total=   6.2s\n",
            "[CV] C=0.1, max_iter=50, multi_class=auto ............................\n",
            "[CV]  C=0.1, max_iter=50, multi_class=auto, score=0.770, total=   9.3s\n",
            "[CV] C=0.1, max_iter=50, multi_class=auto ............................\n",
            "[CV]  C=0.1, max_iter=50, multi_class=auto, score=0.776, total=  11.8s\n",
            "[CV] C=0.1, max_iter=50, multi_class=auto ............................\n"
          ],
          "name": "stdout"
        },
        {
          "output_type": "stream",
          "text": [
            "/usr/local/lib/python3.7/dist-packages/sklearn/linear_model/_logistic.py:940: ConvergenceWarning: lbfgs failed to converge (status=1):\n",
            "STOP: TOTAL NO. of ITERATIONS REACHED LIMIT.\n",
            "\n",
            "Increase the number of iterations (max_iter) or scale the data as shown in:\n",
            "    https://scikit-learn.org/stable/modules/preprocessing.html\n",
            "Please also refer to the documentation for alternative solver options:\n",
            "    https://scikit-learn.org/stable/modules/linear_model.html#logistic-regression\n",
            "  extra_warning_msg=_LOGISTIC_SOLVER_CONVERGENCE_MSG)\n"
          ],
          "name": "stderr"
        },
        {
          "output_type": "stream",
          "text": [
            "[CV]  C=0.1, max_iter=50, multi_class=auto, score=0.787, total=  11.3s\n",
            "[CV] C=0.1, max_iter=50, multi_class=auto ............................\n"
          ],
          "name": "stdout"
        },
        {
          "output_type": "stream",
          "text": [
            "/usr/local/lib/python3.7/dist-packages/sklearn/linear_model/_logistic.py:940: ConvergenceWarning: lbfgs failed to converge (status=1):\n",
            "STOP: TOTAL NO. of ITERATIONS REACHED LIMIT.\n",
            "\n",
            "Increase the number of iterations (max_iter) or scale the data as shown in:\n",
            "    https://scikit-learn.org/stable/modules/preprocessing.html\n",
            "Please also refer to the documentation for alternative solver options:\n",
            "    https://scikit-learn.org/stable/modules/linear_model.html#logistic-regression\n",
            "  extra_warning_msg=_LOGISTIC_SOLVER_CONVERGENCE_MSG)\n"
          ],
          "name": "stderr"
        },
        {
          "output_type": "stream",
          "text": [
            "[CV]  C=0.1, max_iter=50, multi_class=auto, score=0.783, total=  12.3s\n",
            "[CV] C=0.1, max_iter=50, multi_class=auto ............................\n"
          ],
          "name": "stdout"
        },
        {
          "output_type": "stream",
          "text": [
            "/usr/local/lib/python3.7/dist-packages/sklearn/linear_model/_logistic.py:940: ConvergenceWarning: lbfgs failed to converge (status=1):\n",
            "STOP: TOTAL NO. of ITERATIONS REACHED LIMIT.\n",
            "\n",
            "Increase the number of iterations (max_iter) or scale the data as shown in:\n",
            "    https://scikit-learn.org/stable/modules/preprocessing.html\n",
            "Please also refer to the documentation for alternative solver options:\n",
            "    https://scikit-learn.org/stable/modules/linear_model.html#logistic-regression\n",
            "  extra_warning_msg=_LOGISTIC_SOLVER_CONVERGENCE_MSG)\n"
          ],
          "name": "stderr"
        },
        {
          "output_type": "stream",
          "text": [
            "[CV]  C=0.1, max_iter=50, multi_class=auto, score=0.780, total=  11.6s\n",
            "[CV] C=0.1, max_iter=150, multi_class=auto ...........................\n",
            "[CV]  C=0.1, max_iter=150, multi_class=auto, score=0.770, total=   9.7s\n",
            "[CV] C=0.1, max_iter=150, multi_class=auto ...........................\n",
            "[CV]  C=0.1, max_iter=150, multi_class=auto, score=0.776, total=  11.9s\n",
            "[CV] C=0.1, max_iter=150, multi_class=auto ...........................\n",
            "[CV]  C=0.1, max_iter=150, multi_class=auto, score=0.787, total=  15.9s\n",
            "[CV] C=0.1, max_iter=150, multi_class=auto ...........................\n",
            "[CV]  C=0.1, max_iter=150, multi_class=auto, score=0.783, total=  14.4s\n",
            "[CV] C=0.1, max_iter=150, multi_class=auto ...........................\n",
            "[CV]  C=0.1, max_iter=150, multi_class=auto, score=0.780, total=  17.5s\n",
            "[CV] C=0.1, max_iter=300, multi_class=auto ...........................\n",
            "[CV]  C=0.1, max_iter=300, multi_class=auto, score=0.770, total=   9.3s\n",
            "[CV] C=0.1, max_iter=300, multi_class=auto ...........................\n",
            "[CV]  C=0.1, max_iter=300, multi_class=auto, score=0.776, total=  12.1s\n",
            "[CV] C=0.1, max_iter=300, multi_class=auto ...........................\n",
            "[CV]  C=0.1, max_iter=300, multi_class=auto, score=0.787, total=  15.5s\n",
            "[CV] C=0.1, max_iter=300, multi_class=auto ...........................\n",
            "[CV]  C=0.1, max_iter=300, multi_class=auto, score=0.783, total=  13.9s\n",
            "[CV] C=0.1, max_iter=300, multi_class=auto ...........................\n",
            "[CV]  C=0.1, max_iter=300, multi_class=auto, score=0.780, total=  17.0s\n",
            "[CV] C=0.1, max_iter=600, multi_class=auto ...........................\n",
            "[CV]  C=0.1, max_iter=600, multi_class=auto, score=0.770, total=   9.6s\n",
            "[CV] C=0.1, max_iter=600, multi_class=auto ...........................\n",
            "[CV]  C=0.1, max_iter=600, multi_class=auto, score=0.776, total=  11.7s\n",
            "[CV] C=0.1, max_iter=600, multi_class=auto ...........................\n",
            "[CV]  C=0.1, max_iter=600, multi_class=auto, score=0.787, total=  15.6s\n",
            "[CV] C=0.1, max_iter=600, multi_class=auto ...........................\n",
            "[CV]  C=0.1, max_iter=600, multi_class=auto, score=0.783, total=  13.6s\n",
            "[CV] C=0.1, max_iter=600, multi_class=auto ...........................\n",
            "[CV]  C=0.1, max_iter=600, multi_class=auto, score=0.780, total=  17.1s\n",
            "[CV] C=1.0, max_iter=50, multi_class=auto ............................\n"
          ],
          "name": "stdout"
        },
        {
          "output_type": "stream",
          "text": [
            "/usr/local/lib/python3.7/dist-packages/sklearn/linear_model/_logistic.py:940: ConvergenceWarning: lbfgs failed to converge (status=1):\n",
            "STOP: TOTAL NO. of ITERATIONS REACHED LIMIT.\n",
            "\n",
            "Increase the number of iterations (max_iter) or scale the data as shown in:\n",
            "    https://scikit-learn.org/stable/modules/preprocessing.html\n",
            "Please also refer to the documentation for alternative solver options:\n",
            "    https://scikit-learn.org/stable/modules/linear_model.html#logistic-regression\n",
            "  extra_warning_msg=_LOGISTIC_SOLVER_CONVERGENCE_MSG)\n"
          ],
          "name": "stderr"
        },
        {
          "output_type": "stream",
          "text": [
            "[CV]  C=1.0, max_iter=50, multi_class=auto, score=0.808, total=  11.0s\n",
            "[CV] C=1.0, max_iter=50, multi_class=auto ............................\n"
          ],
          "name": "stdout"
        },
        {
          "output_type": "stream",
          "text": [
            "/usr/local/lib/python3.7/dist-packages/sklearn/linear_model/_logistic.py:940: ConvergenceWarning: lbfgs failed to converge (status=1):\n",
            "STOP: TOTAL NO. of ITERATIONS REACHED LIMIT.\n",
            "\n",
            "Increase the number of iterations (max_iter) or scale the data as shown in:\n",
            "    https://scikit-learn.org/stable/modules/preprocessing.html\n",
            "Please also refer to the documentation for alternative solver options:\n",
            "    https://scikit-learn.org/stable/modules/linear_model.html#logistic-regression\n",
            "  extra_warning_msg=_LOGISTIC_SOLVER_CONVERGENCE_MSG)\n"
          ],
          "name": "stderr"
        },
        {
          "output_type": "stream",
          "text": [
            "[CV]  C=1.0, max_iter=50, multi_class=auto, score=0.812, total=  10.8s\n",
            "[CV] C=1.0, max_iter=50, multi_class=auto ............................\n"
          ],
          "name": "stdout"
        },
        {
          "output_type": "stream",
          "text": [
            "/usr/local/lib/python3.7/dist-packages/sklearn/linear_model/_logistic.py:940: ConvergenceWarning: lbfgs failed to converge (status=1):\n",
            "STOP: TOTAL NO. of ITERATIONS REACHED LIMIT.\n",
            "\n",
            "Increase the number of iterations (max_iter) or scale the data as shown in:\n",
            "    https://scikit-learn.org/stable/modules/preprocessing.html\n",
            "Please also refer to the documentation for alternative solver options:\n",
            "    https://scikit-learn.org/stable/modules/linear_model.html#logistic-regression\n",
            "  extra_warning_msg=_LOGISTIC_SOLVER_CONVERGENCE_MSG)\n"
          ],
          "name": "stderr"
        },
        {
          "output_type": "stream",
          "text": [
            "[CV]  C=1.0, max_iter=50, multi_class=auto, score=0.822, total=  11.0s\n",
            "[CV] C=1.0, max_iter=50, multi_class=auto ............................\n"
          ],
          "name": "stdout"
        },
        {
          "output_type": "stream",
          "text": [
            "/usr/local/lib/python3.7/dist-packages/sklearn/linear_model/_logistic.py:940: ConvergenceWarning: lbfgs failed to converge (status=1):\n",
            "STOP: TOTAL NO. of ITERATIONS REACHED LIMIT.\n",
            "\n",
            "Increase the number of iterations (max_iter) or scale the data as shown in:\n",
            "    https://scikit-learn.org/stable/modules/preprocessing.html\n",
            "Please also refer to the documentation for alternative solver options:\n",
            "    https://scikit-learn.org/stable/modules/linear_model.html#logistic-regression\n",
            "  extra_warning_msg=_LOGISTIC_SOLVER_CONVERGENCE_MSG)\n"
          ],
          "name": "stderr"
        },
        {
          "output_type": "stream",
          "text": [
            "[CV]  C=1.0, max_iter=50, multi_class=auto, score=0.821, total=  11.5s\n",
            "[CV] C=1.0, max_iter=50, multi_class=auto ............................\n"
          ],
          "name": "stdout"
        },
        {
          "output_type": "stream",
          "text": [
            "/usr/local/lib/python3.7/dist-packages/sklearn/linear_model/_logistic.py:940: ConvergenceWarning: lbfgs failed to converge (status=1):\n",
            "STOP: TOTAL NO. of ITERATIONS REACHED LIMIT.\n",
            "\n",
            "Increase the number of iterations (max_iter) or scale the data as shown in:\n",
            "    https://scikit-learn.org/stable/modules/preprocessing.html\n",
            "Please also refer to the documentation for alternative solver options:\n",
            "    https://scikit-learn.org/stable/modules/linear_model.html#logistic-regression\n",
            "  extra_warning_msg=_LOGISTIC_SOLVER_CONVERGENCE_MSG)\n"
          ],
          "name": "stderr"
        },
        {
          "output_type": "stream",
          "text": [
            "[CV]  C=1.0, max_iter=50, multi_class=auto, score=0.816, total=  11.1s\n",
            "[CV] C=1.0, max_iter=150, multi_class=auto ...........................\n"
          ],
          "name": "stdout"
        },
        {
          "output_type": "stream",
          "text": [
            "/usr/local/lib/python3.7/dist-packages/sklearn/linear_model/_logistic.py:940: ConvergenceWarning: lbfgs failed to converge (status=1):\n",
            "STOP: TOTAL NO. of ITERATIONS REACHED LIMIT.\n",
            "\n",
            "Increase the number of iterations (max_iter) or scale the data as shown in:\n",
            "    https://scikit-learn.org/stable/modules/preprocessing.html\n",
            "Please also refer to the documentation for alternative solver options:\n",
            "    https://scikit-learn.org/stable/modules/linear_model.html#logistic-regression\n",
            "  extra_warning_msg=_LOGISTIC_SOLVER_CONVERGENCE_MSG)\n"
          ],
          "name": "stderr"
        },
        {
          "output_type": "stream",
          "text": [
            "[CV]  C=1.0, max_iter=150, multi_class=auto, score=0.809, total=  36.0s\n",
            "[CV] C=1.0, max_iter=150, multi_class=auto ...........................\n"
          ],
          "name": "stdout"
        },
        {
          "output_type": "stream",
          "text": [
            "/usr/local/lib/python3.7/dist-packages/sklearn/linear_model/_logistic.py:940: ConvergenceWarning: lbfgs failed to converge (status=1):\n",
            "STOP: TOTAL NO. of ITERATIONS REACHED LIMIT.\n",
            "\n",
            "Increase the number of iterations (max_iter) or scale the data as shown in:\n",
            "    https://scikit-learn.org/stable/modules/preprocessing.html\n",
            "Please also refer to the documentation for alternative solver options:\n",
            "    https://scikit-learn.org/stable/modules/linear_model.html#logistic-regression\n",
            "  extra_warning_msg=_LOGISTIC_SOLVER_CONVERGENCE_MSG)\n"
          ],
          "name": "stderr"
        },
        {
          "output_type": "stream",
          "text": [
            "[CV]  C=1.0, max_iter=150, multi_class=auto, score=0.813, total=  32.4s\n",
            "[CV] C=1.0, max_iter=150, multi_class=auto ...........................\n"
          ],
          "name": "stdout"
        },
        {
          "output_type": "stream",
          "text": [
            "/usr/local/lib/python3.7/dist-packages/sklearn/linear_model/_logistic.py:940: ConvergenceWarning: lbfgs failed to converge (status=1):\n",
            "STOP: TOTAL NO. of ITERATIONS REACHED LIMIT.\n",
            "\n",
            "Increase the number of iterations (max_iter) or scale the data as shown in:\n",
            "    https://scikit-learn.org/stable/modules/preprocessing.html\n",
            "Please also refer to the documentation for alternative solver options:\n",
            "    https://scikit-learn.org/stable/modules/linear_model.html#logistic-regression\n",
            "  extra_warning_msg=_LOGISTIC_SOLVER_CONVERGENCE_MSG)\n"
          ],
          "name": "stderr"
        },
        {
          "output_type": "stream",
          "text": [
            "[CV]  C=1.0, max_iter=150, multi_class=auto, score=0.822, total=  31.8s\n",
            "[CV] C=1.0, max_iter=150, multi_class=auto ...........................\n"
          ],
          "name": "stdout"
        },
        {
          "output_type": "stream",
          "text": [
            "/usr/local/lib/python3.7/dist-packages/sklearn/linear_model/_logistic.py:940: ConvergenceWarning: lbfgs failed to converge (status=1):\n",
            "STOP: TOTAL NO. of ITERATIONS REACHED LIMIT.\n",
            "\n",
            "Increase the number of iterations (max_iter) or scale the data as shown in:\n",
            "    https://scikit-learn.org/stable/modules/preprocessing.html\n",
            "Please also refer to the documentation for alternative solver options:\n",
            "    https://scikit-learn.org/stable/modules/linear_model.html#logistic-regression\n",
            "  extra_warning_msg=_LOGISTIC_SOLVER_CONVERGENCE_MSG)\n"
          ],
          "name": "stderr"
        },
        {
          "output_type": "stream",
          "text": [
            "[CV]  C=1.0, max_iter=150, multi_class=auto, score=0.822, total=  32.9s\n",
            "[CV] C=1.0, max_iter=150, multi_class=auto ...........................\n"
          ],
          "name": "stdout"
        },
        {
          "output_type": "stream",
          "text": [
            "/usr/local/lib/python3.7/dist-packages/sklearn/linear_model/_logistic.py:940: ConvergenceWarning: lbfgs failed to converge (status=1):\n",
            "STOP: TOTAL NO. of ITERATIONS REACHED LIMIT.\n",
            "\n",
            "Increase the number of iterations (max_iter) or scale the data as shown in:\n",
            "    https://scikit-learn.org/stable/modules/preprocessing.html\n",
            "Please also refer to the documentation for alternative solver options:\n",
            "    https://scikit-learn.org/stable/modules/linear_model.html#logistic-regression\n",
            "  extra_warning_msg=_LOGISTIC_SOLVER_CONVERGENCE_MSG)\n"
          ],
          "name": "stderr"
        },
        {
          "output_type": "stream",
          "text": [
            "[CV]  C=1.0, max_iter=150, multi_class=auto, score=0.819, total=  33.3s\n",
            "[CV] C=1.0, max_iter=300, multi_class=auto ...........................\n",
            "[CV]  C=1.0, max_iter=300, multi_class=auto, score=0.809, total=  44.5s\n",
            "[CV] C=1.0, max_iter=300, multi_class=auto ...........................\n",
            "[CV]  C=1.0, max_iter=300, multi_class=auto, score=0.813, total=  44.2s\n",
            "[CV] C=1.0, max_iter=300, multi_class=auto ...........................\n",
            "[CV]  C=1.0, max_iter=300, multi_class=auto, score=0.822, total=  43.8s\n",
            "[CV] C=1.0, max_iter=300, multi_class=auto ...........................\n",
            "[CV]  C=1.0, max_iter=300, multi_class=auto, score=0.822, total=  46.6s\n",
            "[CV] C=1.0, max_iter=300, multi_class=auto ...........................\n",
            "[CV]  C=1.0, max_iter=300, multi_class=auto, score=0.818, total=  46.0s\n",
            "[CV] C=1.0, max_iter=600, multi_class=auto ...........................\n",
            "[CV]  C=1.0, max_iter=600, multi_class=auto, score=0.809, total=  46.0s\n",
            "[CV] C=1.0, max_iter=600, multi_class=auto ...........................\n",
            "[CV]  C=1.0, max_iter=600, multi_class=auto, score=0.813, total=  46.0s\n",
            "[CV] C=1.0, max_iter=600, multi_class=auto ...........................\n",
            "[CV]  C=1.0, max_iter=600, multi_class=auto, score=0.822, total=  45.2s\n",
            "[CV] C=1.0, max_iter=600, multi_class=auto ...........................\n",
            "[CV]  C=1.0, max_iter=600, multi_class=auto, score=0.822, total=  47.8s\n",
            "[CV] C=1.0, max_iter=600, multi_class=auto ...........................\n",
            "[CV]  C=1.0, max_iter=600, multi_class=auto, score=0.818, total=  45.4s\n",
            "[CV] C=10.0, max_iter=50, multi_class=auto ...........................\n"
          ],
          "name": "stdout"
        },
        {
          "output_type": "stream",
          "text": [
            "/usr/local/lib/python3.7/dist-packages/sklearn/linear_model/_logistic.py:940: ConvergenceWarning: lbfgs failed to converge (status=1):\n",
            "STOP: TOTAL NO. of ITERATIONS REACHED LIMIT.\n",
            "\n",
            "Increase the number of iterations (max_iter) or scale the data as shown in:\n",
            "    https://scikit-learn.org/stable/modules/preprocessing.html\n",
            "Please also refer to the documentation for alternative solver options:\n",
            "    https://scikit-learn.org/stable/modules/linear_model.html#logistic-regression\n",
            "  extra_warning_msg=_LOGISTIC_SOLVER_CONVERGENCE_MSG)\n"
          ],
          "name": "stderr"
        },
        {
          "output_type": "stream",
          "text": [
            "[CV]  C=10.0, max_iter=50, multi_class=auto, score=0.805, total=  12.6s\n",
            "[CV] C=10.0, max_iter=50, multi_class=auto ...........................\n"
          ],
          "name": "stdout"
        },
        {
          "output_type": "stream",
          "text": [
            "/usr/local/lib/python3.7/dist-packages/sklearn/linear_model/_logistic.py:940: ConvergenceWarning: lbfgs failed to converge (status=1):\n",
            "STOP: TOTAL NO. of ITERATIONS REACHED LIMIT.\n",
            "\n",
            "Increase the number of iterations (max_iter) or scale the data as shown in:\n",
            "    https://scikit-learn.org/stable/modules/preprocessing.html\n",
            "Please also refer to the documentation for alternative solver options:\n",
            "    https://scikit-learn.org/stable/modules/linear_model.html#logistic-regression\n",
            "  extra_warning_msg=_LOGISTIC_SOLVER_CONVERGENCE_MSG)\n"
          ],
          "name": "stderr"
        },
        {
          "output_type": "stream",
          "text": [
            "[CV]  C=10.0, max_iter=50, multi_class=auto, score=0.822, total=  11.8s\n",
            "[CV] C=10.0, max_iter=50, multi_class=auto ...........................\n"
          ],
          "name": "stdout"
        },
        {
          "output_type": "stream",
          "text": [
            "/usr/local/lib/python3.7/dist-packages/sklearn/linear_model/_logistic.py:940: ConvergenceWarning: lbfgs failed to converge (status=1):\n",
            "STOP: TOTAL NO. of ITERATIONS REACHED LIMIT.\n",
            "\n",
            "Increase the number of iterations (max_iter) or scale the data as shown in:\n",
            "    https://scikit-learn.org/stable/modules/preprocessing.html\n",
            "Please also refer to the documentation for alternative solver options:\n",
            "    https://scikit-learn.org/stable/modules/linear_model.html#logistic-regression\n",
            "  extra_warning_msg=_LOGISTIC_SOLVER_CONVERGENCE_MSG)\n"
          ],
          "name": "stderr"
        },
        {
          "output_type": "stream",
          "text": [
            "[CV]  C=10.0, max_iter=50, multi_class=auto, score=0.818, total=  11.3s\n",
            "[CV] C=10.0, max_iter=50, multi_class=auto ...........................\n"
          ],
          "name": "stdout"
        },
        {
          "output_type": "stream",
          "text": [
            "/usr/local/lib/python3.7/dist-packages/sklearn/linear_model/_logistic.py:940: ConvergenceWarning: lbfgs failed to converge (status=1):\n",
            "STOP: TOTAL NO. of ITERATIONS REACHED LIMIT.\n",
            "\n",
            "Increase the number of iterations (max_iter) or scale the data as shown in:\n",
            "    https://scikit-learn.org/stable/modules/preprocessing.html\n",
            "Please also refer to the documentation for alternative solver options:\n",
            "    https://scikit-learn.org/stable/modules/linear_model.html#logistic-regression\n",
            "  extra_warning_msg=_LOGISTIC_SOLVER_CONVERGENCE_MSG)\n"
          ],
          "name": "stderr"
        },
        {
          "output_type": "stream",
          "text": [
            "[CV]  C=10.0, max_iter=50, multi_class=auto, score=0.822, total=  10.9s\n",
            "[CV] C=10.0, max_iter=50, multi_class=auto ...........................\n"
          ],
          "name": "stdout"
        },
        {
          "output_type": "stream",
          "text": [
            "/usr/local/lib/python3.7/dist-packages/sklearn/linear_model/_logistic.py:940: ConvergenceWarning: lbfgs failed to converge (status=1):\n",
            "STOP: TOTAL NO. of ITERATIONS REACHED LIMIT.\n",
            "\n",
            "Increase the number of iterations (max_iter) or scale the data as shown in:\n",
            "    https://scikit-learn.org/stable/modules/preprocessing.html\n",
            "Please also refer to the documentation for alternative solver options:\n",
            "    https://scikit-learn.org/stable/modules/linear_model.html#logistic-regression\n",
            "  extra_warning_msg=_LOGISTIC_SOLVER_CONVERGENCE_MSG)\n"
          ],
          "name": "stderr"
        },
        {
          "output_type": "stream",
          "text": [
            "[CV]  C=10.0, max_iter=50, multi_class=auto, score=0.817, total=  11.5s\n",
            "[CV] C=10.0, max_iter=150, multi_class=auto ..........................\n"
          ],
          "name": "stdout"
        },
        {
          "output_type": "stream",
          "text": [
            "/usr/local/lib/python3.7/dist-packages/sklearn/linear_model/_logistic.py:940: ConvergenceWarning: lbfgs failed to converge (status=1):\n",
            "STOP: TOTAL NO. of ITERATIONS REACHED LIMIT.\n",
            "\n",
            "Increase the number of iterations (max_iter) or scale the data as shown in:\n",
            "    https://scikit-learn.org/stable/modules/preprocessing.html\n",
            "Please also refer to the documentation for alternative solver options:\n",
            "    https://scikit-learn.org/stable/modules/linear_model.html#logistic-regression\n",
            "  extra_warning_msg=_LOGISTIC_SOLVER_CONVERGENCE_MSG)\n"
          ],
          "name": "stderr"
        },
        {
          "output_type": "stream",
          "text": [
            "[CV]  C=10.0, max_iter=150, multi_class=auto, score=0.804, total=  33.1s\n",
            "[CV] C=10.0, max_iter=150, multi_class=auto ..........................\n"
          ],
          "name": "stdout"
        },
        {
          "output_type": "stream",
          "text": [
            "/usr/local/lib/python3.7/dist-packages/sklearn/linear_model/_logistic.py:940: ConvergenceWarning: lbfgs failed to converge (status=1):\n",
            "STOP: TOTAL NO. of ITERATIONS REACHED LIMIT.\n",
            "\n",
            "Increase the number of iterations (max_iter) or scale the data as shown in:\n",
            "    https://scikit-learn.org/stable/modules/preprocessing.html\n",
            "Please also refer to the documentation for alternative solver options:\n",
            "    https://scikit-learn.org/stable/modules/linear_model.html#logistic-regression\n",
            "  extra_warning_msg=_LOGISTIC_SOLVER_CONVERGENCE_MSG)\n"
          ],
          "name": "stderr"
        },
        {
          "output_type": "stream",
          "text": [
            "[CV]  C=10.0, max_iter=150, multi_class=auto, score=0.814, total=  34.6s\n",
            "[CV] C=10.0, max_iter=150, multi_class=auto ..........................\n"
          ],
          "name": "stdout"
        },
        {
          "output_type": "stream",
          "text": [
            "/usr/local/lib/python3.7/dist-packages/sklearn/linear_model/_logistic.py:940: ConvergenceWarning: lbfgs failed to converge (status=1):\n",
            "STOP: TOTAL NO. of ITERATIONS REACHED LIMIT.\n",
            "\n",
            "Increase the number of iterations (max_iter) or scale the data as shown in:\n",
            "    https://scikit-learn.org/stable/modules/preprocessing.html\n",
            "Please also refer to the documentation for alternative solver options:\n",
            "    https://scikit-learn.org/stable/modules/linear_model.html#logistic-regression\n",
            "  extra_warning_msg=_LOGISTIC_SOLVER_CONVERGENCE_MSG)\n"
          ],
          "name": "stderr"
        },
        {
          "output_type": "stream",
          "text": [
            "[CV]  C=10.0, max_iter=150, multi_class=auto, score=0.821, total=  34.0s\n",
            "[CV] C=10.0, max_iter=150, multi_class=auto ..........................\n"
          ],
          "name": "stdout"
        },
        {
          "output_type": "stream",
          "text": [
            "/usr/local/lib/python3.7/dist-packages/sklearn/linear_model/_logistic.py:940: ConvergenceWarning: lbfgs failed to converge (status=1):\n",
            "STOP: TOTAL NO. of ITERATIONS REACHED LIMIT.\n",
            "\n",
            "Increase the number of iterations (max_iter) or scale the data as shown in:\n",
            "    https://scikit-learn.org/stable/modules/preprocessing.html\n",
            "Please also refer to the documentation for alternative solver options:\n",
            "    https://scikit-learn.org/stable/modules/linear_model.html#logistic-regression\n",
            "  extra_warning_msg=_LOGISTIC_SOLVER_CONVERGENCE_MSG)\n"
          ],
          "name": "stderr"
        },
        {
          "output_type": "stream",
          "text": [
            "[CV]  C=10.0, max_iter=150, multi_class=auto, score=0.820, total=  33.4s\n",
            "[CV] C=10.0, max_iter=150, multi_class=auto ..........................\n"
          ],
          "name": "stdout"
        },
        {
          "output_type": "stream",
          "text": [
            "/usr/local/lib/python3.7/dist-packages/sklearn/linear_model/_logistic.py:940: ConvergenceWarning: lbfgs failed to converge (status=1):\n",
            "STOP: TOTAL NO. of ITERATIONS REACHED LIMIT.\n",
            "\n",
            "Increase the number of iterations (max_iter) or scale the data as shown in:\n",
            "    https://scikit-learn.org/stable/modules/preprocessing.html\n",
            "Please also refer to the documentation for alternative solver options:\n",
            "    https://scikit-learn.org/stable/modules/linear_model.html#logistic-regression\n",
            "  extra_warning_msg=_LOGISTIC_SOLVER_CONVERGENCE_MSG)\n"
          ],
          "name": "stderr"
        },
        {
          "output_type": "stream",
          "text": [
            "[CV]  C=10.0, max_iter=150, multi_class=auto, score=0.815, total=  33.0s\n",
            "[CV] C=10.0, max_iter=300, multi_class=auto ..........................\n"
          ],
          "name": "stdout"
        },
        {
          "output_type": "stream",
          "text": [
            "/usr/local/lib/python3.7/dist-packages/sklearn/linear_model/_logistic.py:940: ConvergenceWarning: lbfgs failed to converge (status=1):\n",
            "STOP: TOTAL NO. of ITERATIONS REACHED LIMIT.\n",
            "\n",
            "Increase the number of iterations (max_iter) or scale the data as shown in:\n",
            "    https://scikit-learn.org/stable/modules/preprocessing.html\n",
            "Please also refer to the documentation for alternative solver options:\n",
            "    https://scikit-learn.org/stable/modules/linear_model.html#logistic-regression\n",
            "  extra_warning_msg=_LOGISTIC_SOLVER_CONVERGENCE_MSG)\n"
          ],
          "name": "stderr"
        },
        {
          "output_type": "stream",
          "text": [
            "[CV]  C=10.0, max_iter=300, multi_class=auto, score=0.802, total= 1.1min\n",
            "[CV] C=10.0, max_iter=300, multi_class=auto ..........................\n"
          ],
          "name": "stdout"
        },
        {
          "output_type": "stream",
          "text": [
            "/usr/local/lib/python3.7/dist-packages/sklearn/linear_model/_logistic.py:940: ConvergenceWarning: lbfgs failed to converge (status=1):\n",
            "STOP: TOTAL NO. of ITERATIONS REACHED LIMIT.\n",
            "\n",
            "Increase the number of iterations (max_iter) or scale the data as shown in:\n",
            "    https://scikit-learn.org/stable/modules/preprocessing.html\n",
            "Please also refer to the documentation for alternative solver options:\n",
            "    https://scikit-learn.org/stable/modules/linear_model.html#logistic-regression\n",
            "  extra_warning_msg=_LOGISTIC_SOLVER_CONVERGENCE_MSG)\n"
          ],
          "name": "stderr"
        },
        {
          "output_type": "stream",
          "text": [
            "[CV]  C=10.0, max_iter=300, multi_class=auto, score=0.814, total= 1.1min\n",
            "[CV] C=10.0, max_iter=300, multi_class=auto ..........................\n"
          ],
          "name": "stdout"
        },
        {
          "output_type": "stream",
          "text": [
            "/usr/local/lib/python3.7/dist-packages/sklearn/linear_model/_logistic.py:940: ConvergenceWarning: lbfgs failed to converge (status=1):\n",
            "STOP: TOTAL NO. of ITERATIONS REACHED LIMIT.\n",
            "\n",
            "Increase the number of iterations (max_iter) or scale the data as shown in:\n",
            "    https://scikit-learn.org/stable/modules/preprocessing.html\n",
            "Please also refer to the documentation for alternative solver options:\n",
            "    https://scikit-learn.org/stable/modules/linear_model.html#logistic-regression\n",
            "  extra_warning_msg=_LOGISTIC_SOLVER_CONVERGENCE_MSG)\n"
          ],
          "name": "stderr"
        },
        {
          "output_type": "stream",
          "text": [
            "[CV]  C=10.0, max_iter=300, multi_class=auto, score=0.820, total= 1.1min\n",
            "[CV] C=10.0, max_iter=300, multi_class=auto ..........................\n"
          ],
          "name": "stdout"
        },
        {
          "output_type": "stream",
          "text": [
            "/usr/local/lib/python3.7/dist-packages/sklearn/linear_model/_logistic.py:940: ConvergenceWarning: lbfgs failed to converge (status=1):\n",
            "STOP: TOTAL NO. of ITERATIONS REACHED LIMIT.\n",
            "\n",
            "Increase the number of iterations (max_iter) or scale the data as shown in:\n",
            "    https://scikit-learn.org/stable/modules/preprocessing.html\n",
            "Please also refer to the documentation for alternative solver options:\n",
            "    https://scikit-learn.org/stable/modules/linear_model.html#logistic-regression\n",
            "  extra_warning_msg=_LOGISTIC_SOLVER_CONVERGENCE_MSG)\n"
          ],
          "name": "stderr"
        },
        {
          "output_type": "stream",
          "text": [
            "[CV]  C=10.0, max_iter=300, multi_class=auto, score=0.820, total= 1.1min\n",
            "[CV] C=10.0, max_iter=300, multi_class=auto ..........................\n"
          ],
          "name": "stdout"
        },
        {
          "output_type": "stream",
          "text": [
            "/usr/local/lib/python3.7/dist-packages/sklearn/linear_model/_logistic.py:940: ConvergenceWarning: lbfgs failed to converge (status=1):\n",
            "STOP: TOTAL NO. of ITERATIONS REACHED LIMIT.\n",
            "\n",
            "Increase the number of iterations (max_iter) or scale the data as shown in:\n",
            "    https://scikit-learn.org/stable/modules/preprocessing.html\n",
            "Please also refer to the documentation for alternative solver options:\n",
            "    https://scikit-learn.org/stable/modules/linear_model.html#logistic-regression\n",
            "  extra_warning_msg=_LOGISTIC_SOLVER_CONVERGENCE_MSG)\n"
          ],
          "name": "stderr"
        },
        {
          "output_type": "stream",
          "text": [
            "[CV]  C=10.0, max_iter=300, multi_class=auto, score=0.815, total= 1.1min\n",
            "[CV] C=10.0, max_iter=600, multi_class=auto ..........................\n",
            "[CV]  C=10.0, max_iter=600, multi_class=auto, score=0.802, total= 1.8min\n",
            "[CV] C=10.0, max_iter=600, multi_class=auto ..........................\n",
            "[CV]  C=10.0, max_iter=600, multi_class=auto, score=0.814, total= 1.7min\n",
            "[CV] C=10.0, max_iter=600, multi_class=auto ..........................\n",
            "[CV]  C=10.0, max_iter=600, multi_class=auto, score=0.819, total= 1.8min\n",
            "[CV] C=10.0, max_iter=600, multi_class=auto ..........................\n",
            "[CV]  C=10.0, max_iter=600, multi_class=auto, score=0.820, total= 1.8min\n",
            "[CV] C=10.0, max_iter=600, multi_class=auto ..........................\n",
            "[CV]  C=10.0, max_iter=600, multi_class=auto, score=0.815, total= 1.5min\n",
            "[CV] C=100.0, max_iter=50, multi_class=auto ..........................\n"
          ],
          "name": "stdout"
        },
        {
          "output_type": "stream",
          "text": [
            "/usr/local/lib/python3.7/dist-packages/sklearn/linear_model/_logistic.py:940: ConvergenceWarning: lbfgs failed to converge (status=1):\n",
            "STOP: TOTAL NO. of ITERATIONS REACHED LIMIT.\n",
            "\n",
            "Increase the number of iterations (max_iter) or scale the data as shown in:\n",
            "    https://scikit-learn.org/stable/modules/preprocessing.html\n",
            "Please also refer to the documentation for alternative solver options:\n",
            "    https://scikit-learn.org/stable/modules/linear_model.html#logistic-regression\n",
            "  extra_warning_msg=_LOGISTIC_SOLVER_CONVERGENCE_MSG)\n"
          ],
          "name": "stderr"
        },
        {
          "output_type": "stream",
          "text": [
            "[CV]  C=100.0, max_iter=50, multi_class=auto, score=0.804, total=  11.0s\n",
            "[CV] C=100.0, max_iter=50, multi_class=auto ..........................\n"
          ],
          "name": "stdout"
        },
        {
          "output_type": "stream",
          "text": [
            "/usr/local/lib/python3.7/dist-packages/sklearn/linear_model/_logistic.py:940: ConvergenceWarning: lbfgs failed to converge (status=1):\n",
            "STOP: TOTAL NO. of ITERATIONS REACHED LIMIT.\n",
            "\n",
            "Increase the number of iterations (max_iter) or scale the data as shown in:\n",
            "    https://scikit-learn.org/stable/modules/preprocessing.html\n",
            "Please also refer to the documentation for alternative solver options:\n",
            "    https://scikit-learn.org/stable/modules/linear_model.html#logistic-regression\n",
            "  extra_warning_msg=_LOGISTIC_SOLVER_CONVERGENCE_MSG)\n"
          ],
          "name": "stderr"
        },
        {
          "output_type": "stream",
          "text": [
            "[CV]  C=100.0, max_iter=50, multi_class=auto, score=0.817, total=  11.2s\n",
            "[CV] C=100.0, max_iter=50, multi_class=auto ..........................\n"
          ],
          "name": "stdout"
        },
        {
          "output_type": "stream",
          "text": [
            "/usr/local/lib/python3.7/dist-packages/sklearn/linear_model/_logistic.py:940: ConvergenceWarning: lbfgs failed to converge (status=1):\n",
            "STOP: TOTAL NO. of ITERATIONS REACHED LIMIT.\n",
            "\n",
            "Increase the number of iterations (max_iter) or scale the data as shown in:\n",
            "    https://scikit-learn.org/stable/modules/preprocessing.html\n",
            "Please also refer to the documentation for alternative solver options:\n",
            "    https://scikit-learn.org/stable/modules/linear_model.html#logistic-regression\n",
            "  extra_warning_msg=_LOGISTIC_SOLVER_CONVERGENCE_MSG)\n"
          ],
          "name": "stderr"
        },
        {
          "output_type": "stream",
          "text": [
            "[CV]  C=100.0, max_iter=50, multi_class=auto, score=0.817, total=  11.4s\n",
            "[CV] C=100.0, max_iter=50, multi_class=auto ..........................\n"
          ],
          "name": "stdout"
        },
        {
          "output_type": "stream",
          "text": [
            "/usr/local/lib/python3.7/dist-packages/sklearn/linear_model/_logistic.py:940: ConvergenceWarning: lbfgs failed to converge (status=1):\n",
            "STOP: TOTAL NO. of ITERATIONS REACHED LIMIT.\n",
            "\n",
            "Increase the number of iterations (max_iter) or scale the data as shown in:\n",
            "    https://scikit-learn.org/stable/modules/preprocessing.html\n",
            "Please also refer to the documentation for alternative solver options:\n",
            "    https://scikit-learn.org/stable/modules/linear_model.html#logistic-regression\n",
            "  extra_warning_msg=_LOGISTIC_SOLVER_CONVERGENCE_MSG)\n"
          ],
          "name": "stderr"
        },
        {
          "output_type": "stream",
          "text": [
            "[CV]  C=100.0, max_iter=50, multi_class=auto, score=0.820, total=  11.1s\n",
            "[CV] C=100.0, max_iter=50, multi_class=auto ..........................\n"
          ],
          "name": "stdout"
        },
        {
          "output_type": "stream",
          "text": [
            "/usr/local/lib/python3.7/dist-packages/sklearn/linear_model/_logistic.py:940: ConvergenceWarning: lbfgs failed to converge (status=1):\n",
            "STOP: TOTAL NO. of ITERATIONS REACHED LIMIT.\n",
            "\n",
            "Increase the number of iterations (max_iter) or scale the data as shown in:\n",
            "    https://scikit-learn.org/stable/modules/preprocessing.html\n",
            "Please also refer to the documentation for alternative solver options:\n",
            "    https://scikit-learn.org/stable/modules/linear_model.html#logistic-regression\n",
            "  extra_warning_msg=_LOGISTIC_SOLVER_CONVERGENCE_MSG)\n"
          ],
          "name": "stderr"
        },
        {
          "output_type": "stream",
          "text": [
            "[CV]  C=100.0, max_iter=50, multi_class=auto, score=0.819, total=  11.0s\n",
            "[CV] C=100.0, max_iter=150, multi_class=auto .........................\n"
          ],
          "name": "stdout"
        },
        {
          "output_type": "stream",
          "text": [
            "/usr/local/lib/python3.7/dist-packages/sklearn/linear_model/_logistic.py:940: ConvergenceWarning: lbfgs failed to converge (status=1):\n",
            "STOP: TOTAL NO. of ITERATIONS REACHED LIMIT.\n",
            "\n",
            "Increase the number of iterations (max_iter) or scale the data as shown in:\n",
            "    https://scikit-learn.org/stable/modules/preprocessing.html\n",
            "Please also refer to the documentation for alternative solver options:\n",
            "    https://scikit-learn.org/stable/modules/linear_model.html#logistic-regression\n",
            "  extra_warning_msg=_LOGISTIC_SOLVER_CONVERGENCE_MSG)\n"
          ],
          "name": "stderr"
        },
        {
          "output_type": "stream",
          "text": [
            "[CV]  C=100.0, max_iter=150, multi_class=auto, score=0.797, total=  33.3s\n",
            "[CV] C=100.0, max_iter=150, multi_class=auto .........................\n"
          ],
          "name": "stdout"
        },
        {
          "output_type": "stream",
          "text": [
            "/usr/local/lib/python3.7/dist-packages/sklearn/linear_model/_logistic.py:940: ConvergenceWarning: lbfgs failed to converge (status=1):\n",
            "STOP: TOTAL NO. of ITERATIONS REACHED LIMIT.\n",
            "\n",
            "Increase the number of iterations (max_iter) or scale the data as shown in:\n",
            "    https://scikit-learn.org/stable/modules/preprocessing.html\n",
            "Please also refer to the documentation for alternative solver options:\n",
            "    https://scikit-learn.org/stable/modules/linear_model.html#logistic-regression\n",
            "  extra_warning_msg=_LOGISTIC_SOLVER_CONVERGENCE_MSG)\n"
          ],
          "name": "stderr"
        },
        {
          "output_type": "stream",
          "text": [
            "[CV]  C=100.0, max_iter=150, multi_class=auto, score=0.808, total=  33.2s\n",
            "[CV] C=100.0, max_iter=150, multi_class=auto .........................\n"
          ],
          "name": "stdout"
        },
        {
          "output_type": "stream",
          "text": [
            "/usr/local/lib/python3.7/dist-packages/sklearn/linear_model/_logistic.py:940: ConvergenceWarning: lbfgs failed to converge (status=1):\n",
            "STOP: TOTAL NO. of ITERATIONS REACHED LIMIT.\n",
            "\n",
            "Increase the number of iterations (max_iter) or scale the data as shown in:\n",
            "    https://scikit-learn.org/stable/modules/preprocessing.html\n",
            "Please also refer to the documentation for alternative solver options:\n",
            "    https://scikit-learn.org/stable/modules/linear_model.html#logistic-regression\n",
            "  extra_warning_msg=_LOGISTIC_SOLVER_CONVERGENCE_MSG)\n"
          ],
          "name": "stderr"
        },
        {
          "output_type": "stream",
          "text": [
            "[CV]  C=100.0, max_iter=150, multi_class=auto, score=0.812, total=  33.7s\n",
            "[CV] C=100.0, max_iter=150, multi_class=auto .........................\n"
          ],
          "name": "stdout"
        },
        {
          "output_type": "stream",
          "text": [
            "/usr/local/lib/python3.7/dist-packages/sklearn/linear_model/_logistic.py:940: ConvergenceWarning: lbfgs failed to converge (status=1):\n",
            "STOP: TOTAL NO. of ITERATIONS REACHED LIMIT.\n",
            "\n",
            "Increase the number of iterations (max_iter) or scale the data as shown in:\n",
            "    https://scikit-learn.org/stable/modules/preprocessing.html\n",
            "Please also refer to the documentation for alternative solver options:\n",
            "    https://scikit-learn.org/stable/modules/linear_model.html#logistic-regression\n",
            "  extra_warning_msg=_LOGISTIC_SOLVER_CONVERGENCE_MSG)\n"
          ],
          "name": "stderr"
        },
        {
          "output_type": "stream",
          "text": [
            "[CV]  C=100.0, max_iter=150, multi_class=auto, score=0.814, total=  32.4s\n",
            "[CV] C=100.0, max_iter=150, multi_class=auto .........................\n"
          ],
          "name": "stdout"
        },
        {
          "output_type": "stream",
          "text": [
            "/usr/local/lib/python3.7/dist-packages/sklearn/linear_model/_logistic.py:940: ConvergenceWarning: lbfgs failed to converge (status=1):\n",
            "STOP: TOTAL NO. of ITERATIONS REACHED LIMIT.\n",
            "\n",
            "Increase the number of iterations (max_iter) or scale the data as shown in:\n",
            "    https://scikit-learn.org/stable/modules/preprocessing.html\n",
            "Please also refer to the documentation for alternative solver options:\n",
            "    https://scikit-learn.org/stable/modules/linear_model.html#logistic-regression\n",
            "  extra_warning_msg=_LOGISTIC_SOLVER_CONVERGENCE_MSG)\n"
          ],
          "name": "stderr"
        },
        {
          "output_type": "stream",
          "text": [
            "[CV]  C=100.0, max_iter=150, multi_class=auto, score=0.804, total=  33.0s\n",
            "[CV] C=100.0, max_iter=300, multi_class=auto .........................\n"
          ],
          "name": "stdout"
        },
        {
          "output_type": "stream",
          "text": [
            "/usr/local/lib/python3.7/dist-packages/sklearn/linear_model/_logistic.py:940: ConvergenceWarning: lbfgs failed to converge (status=1):\n",
            "STOP: TOTAL NO. of ITERATIONS REACHED LIMIT.\n",
            "\n",
            "Increase the number of iterations (max_iter) or scale the data as shown in:\n",
            "    https://scikit-learn.org/stable/modules/preprocessing.html\n",
            "Please also refer to the documentation for alternative solver options:\n",
            "    https://scikit-learn.org/stable/modules/linear_model.html#logistic-regression\n",
            "  extra_warning_msg=_LOGISTIC_SOLVER_CONVERGENCE_MSG)\n"
          ],
          "name": "stderr"
        },
        {
          "output_type": "stream",
          "text": [
            "[CV]  C=100.0, max_iter=300, multi_class=auto, score=0.787, total= 1.1min\n",
            "[CV] C=100.0, max_iter=300, multi_class=auto .........................\n"
          ],
          "name": "stdout"
        },
        {
          "output_type": "stream",
          "text": [
            "/usr/local/lib/python3.7/dist-packages/sklearn/linear_model/_logistic.py:940: ConvergenceWarning: lbfgs failed to converge (status=1):\n",
            "STOP: TOTAL NO. of ITERATIONS REACHED LIMIT.\n",
            "\n",
            "Increase the number of iterations (max_iter) or scale the data as shown in:\n",
            "    https://scikit-learn.org/stable/modules/preprocessing.html\n",
            "Please also refer to the documentation for alternative solver options:\n",
            "    https://scikit-learn.org/stable/modules/linear_model.html#logistic-regression\n",
            "  extra_warning_msg=_LOGISTIC_SOLVER_CONVERGENCE_MSG)\n"
          ],
          "name": "stderr"
        },
        {
          "output_type": "stream",
          "text": [
            "[CV]  C=100.0, max_iter=300, multi_class=auto, score=0.801, total= 1.1min\n",
            "[CV] C=100.0, max_iter=300, multi_class=auto .........................\n"
          ],
          "name": "stdout"
        },
        {
          "output_type": "stream",
          "text": [
            "/usr/local/lib/python3.7/dist-packages/sklearn/linear_model/_logistic.py:940: ConvergenceWarning: lbfgs failed to converge (status=1):\n",
            "STOP: TOTAL NO. of ITERATIONS REACHED LIMIT.\n",
            "\n",
            "Increase the number of iterations (max_iter) or scale the data as shown in:\n",
            "    https://scikit-learn.org/stable/modules/preprocessing.html\n",
            "Please also refer to the documentation for alternative solver options:\n",
            "    https://scikit-learn.org/stable/modules/linear_model.html#logistic-regression\n",
            "  extra_warning_msg=_LOGISTIC_SOLVER_CONVERGENCE_MSG)\n"
          ],
          "name": "stderr"
        },
        {
          "output_type": "stream",
          "text": [
            "[CV]  C=100.0, max_iter=300, multi_class=auto, score=0.806, total= 1.1min\n",
            "[CV] C=100.0, max_iter=300, multi_class=auto .........................\n"
          ],
          "name": "stdout"
        },
        {
          "output_type": "stream",
          "text": [
            "/usr/local/lib/python3.7/dist-packages/sklearn/linear_model/_logistic.py:940: ConvergenceWarning: lbfgs failed to converge (status=1):\n",
            "STOP: TOTAL NO. of ITERATIONS REACHED LIMIT.\n",
            "\n",
            "Increase the number of iterations (max_iter) or scale the data as shown in:\n",
            "    https://scikit-learn.org/stable/modules/preprocessing.html\n",
            "Please also refer to the documentation for alternative solver options:\n",
            "    https://scikit-learn.org/stable/modules/linear_model.html#logistic-regression\n",
            "  extra_warning_msg=_LOGISTIC_SOLVER_CONVERGENCE_MSG)\n"
          ],
          "name": "stderr"
        },
        {
          "output_type": "stream",
          "text": [
            "[CV]  C=100.0, max_iter=300, multi_class=auto, score=0.802, total= 1.1min\n",
            "[CV] C=100.0, max_iter=300, multi_class=auto .........................\n"
          ],
          "name": "stdout"
        },
        {
          "output_type": "stream",
          "text": [
            "/usr/local/lib/python3.7/dist-packages/sklearn/linear_model/_logistic.py:940: ConvergenceWarning: lbfgs failed to converge (status=1):\n",
            "STOP: TOTAL NO. of ITERATIONS REACHED LIMIT.\n",
            "\n",
            "Increase the number of iterations (max_iter) or scale the data as shown in:\n",
            "    https://scikit-learn.org/stable/modules/preprocessing.html\n",
            "Please also refer to the documentation for alternative solver options:\n",
            "    https://scikit-learn.org/stable/modules/linear_model.html#logistic-regression\n",
            "  extra_warning_msg=_LOGISTIC_SOLVER_CONVERGENCE_MSG)\n"
          ],
          "name": "stderr"
        },
        {
          "output_type": "stream",
          "text": [
            "[CV]  C=100.0, max_iter=300, multi_class=auto, score=0.799, total= 1.1min\n",
            "[CV] C=100.0, max_iter=600, multi_class=auto .........................\n"
          ],
          "name": "stdout"
        },
        {
          "output_type": "stream",
          "text": [
            "/usr/local/lib/python3.7/dist-packages/sklearn/linear_model/_logistic.py:940: ConvergenceWarning: lbfgs failed to converge (status=1):\n",
            "STOP: TOTAL NO. of ITERATIONS REACHED LIMIT.\n",
            "\n",
            "Increase the number of iterations (max_iter) or scale the data as shown in:\n",
            "    https://scikit-learn.org/stable/modules/preprocessing.html\n",
            "Please also refer to the documentation for alternative solver options:\n",
            "    https://scikit-learn.org/stable/modules/linear_model.html#logistic-regression\n",
            "  extra_warning_msg=_LOGISTIC_SOLVER_CONVERGENCE_MSG)\n"
          ],
          "name": "stderr"
        },
        {
          "output_type": "stream",
          "text": [
            "[CV]  C=100.0, max_iter=600, multi_class=auto, score=0.787, total= 2.3min\n",
            "[CV] C=100.0, max_iter=600, multi_class=auto .........................\n"
          ],
          "name": "stdout"
        },
        {
          "output_type": "stream",
          "text": [
            "/usr/local/lib/python3.7/dist-packages/sklearn/linear_model/_logistic.py:940: ConvergenceWarning: lbfgs failed to converge (status=1):\n",
            "STOP: TOTAL NO. of ITERATIONS REACHED LIMIT.\n",
            "\n",
            "Increase the number of iterations (max_iter) or scale the data as shown in:\n",
            "    https://scikit-learn.org/stable/modules/preprocessing.html\n",
            "Please also refer to the documentation for alternative solver options:\n",
            "    https://scikit-learn.org/stable/modules/linear_model.html#logistic-regression\n",
            "  extra_warning_msg=_LOGISTIC_SOLVER_CONVERGENCE_MSG)\n"
          ],
          "name": "stderr"
        },
        {
          "output_type": "stream",
          "text": [
            "[CV]  C=100.0, max_iter=600, multi_class=auto, score=0.798, total= 2.2min\n",
            "[CV] C=100.0, max_iter=600, multi_class=auto .........................\n"
          ],
          "name": "stdout"
        },
        {
          "output_type": "stream",
          "text": [
            "/usr/local/lib/python3.7/dist-packages/sklearn/linear_model/_logistic.py:940: ConvergenceWarning: lbfgs failed to converge (status=1):\n",
            "STOP: TOTAL NO. of ITERATIONS REACHED LIMIT.\n",
            "\n",
            "Increase the number of iterations (max_iter) or scale the data as shown in:\n",
            "    https://scikit-learn.org/stable/modules/preprocessing.html\n",
            "Please also refer to the documentation for alternative solver options:\n",
            "    https://scikit-learn.org/stable/modules/linear_model.html#logistic-regression\n",
            "  extra_warning_msg=_LOGISTIC_SOLVER_CONVERGENCE_MSG)\n"
          ],
          "name": "stderr"
        },
        {
          "output_type": "stream",
          "text": [
            "[CV]  C=100.0, max_iter=600, multi_class=auto, score=0.806, total= 2.2min\n",
            "[CV] C=100.0, max_iter=600, multi_class=auto .........................\n"
          ],
          "name": "stdout"
        },
        {
          "output_type": "stream",
          "text": [
            "/usr/local/lib/python3.7/dist-packages/sklearn/linear_model/_logistic.py:940: ConvergenceWarning: lbfgs failed to converge (status=1):\n",
            "STOP: TOTAL NO. of ITERATIONS REACHED LIMIT.\n",
            "\n",
            "Increase the number of iterations (max_iter) or scale the data as shown in:\n",
            "    https://scikit-learn.org/stable/modules/preprocessing.html\n",
            "Please also refer to the documentation for alternative solver options:\n",
            "    https://scikit-learn.org/stable/modules/linear_model.html#logistic-regression\n",
            "  extra_warning_msg=_LOGISTIC_SOLVER_CONVERGENCE_MSG)\n"
          ],
          "name": "stderr"
        },
        {
          "output_type": "stream",
          "text": [
            "[CV]  C=100.0, max_iter=600, multi_class=auto, score=0.803, total= 2.2min\n",
            "[CV] C=100.0, max_iter=600, multi_class=auto .........................\n"
          ],
          "name": "stdout"
        },
        {
          "output_type": "stream",
          "text": [
            "/usr/local/lib/python3.7/dist-packages/sklearn/linear_model/_logistic.py:940: ConvergenceWarning: lbfgs failed to converge (status=1):\n",
            "STOP: TOTAL NO. of ITERATIONS REACHED LIMIT.\n",
            "\n",
            "Increase the number of iterations (max_iter) or scale the data as shown in:\n",
            "    https://scikit-learn.org/stable/modules/preprocessing.html\n",
            "Please also refer to the documentation for alternative solver options:\n",
            "    https://scikit-learn.org/stable/modules/linear_model.html#logistic-regression\n",
            "  extra_warning_msg=_LOGISTIC_SOLVER_CONVERGENCE_MSG)\n",
            "[Parallel(n_jobs=1)]: Done 100 out of 100 | elapsed: 55.9min finished\n"
          ],
          "name": "stderr"
        },
        {
          "output_type": "stream",
          "text": [
            "[CV]  C=100.0, max_iter=600, multi_class=auto, score=0.796, total= 2.1min\n"
          ],
          "name": "stdout"
        },
        {
          "output_type": "stream",
          "text": [
            "/usr/local/lib/python3.7/dist-packages/sklearn/linear_model/_logistic.py:940: ConvergenceWarning: lbfgs failed to converge (status=1):\n",
            "STOP: TOTAL NO. of ITERATIONS REACHED LIMIT.\n",
            "\n",
            "Increase the number of iterations (max_iter) or scale the data as shown in:\n",
            "    https://scikit-learn.org/stable/modules/preprocessing.html\n",
            "Please also refer to the documentation for alternative solver options:\n",
            "    https://scikit-learn.org/stable/modules/linear_model.html#logistic-regression\n",
            "  extra_warning_msg=_LOGISTIC_SOLVER_CONVERGENCE_MSG)\n"
          ],
          "name": "stderr"
        },
        {
          "output_type": "stream",
          "text": [
            "Best parameters:\n",
            "{'C': 1.0, 'max_iter': 150, 'multi_class': 'auto'}\n",
            "Bestf1_weighted:0.816953205496786\n",
            "Train classification report:\n",
            "              precision    recall  f1-score   support\n",
            "\n",
            "           0       0.89      0.83      0.86     15000\n",
            "           1       0.89      0.94      0.91     15000\n",
            "           2       0.92      0.91      0.92     15000\n",
            "\n",
            "    accuracy                           0.90     45000\n",
            "   macro avg       0.90      0.90      0.90     45000\n",
            "weighted avg       0.90      0.90      0.90     45000\n",
            "\n",
            "Test classification report:\n",
            "              precision    recall  f1-score   support\n",
            "\n",
            "           0       0.79      0.74      0.76      5000\n",
            "           1       0.82      0.88      0.85      5000\n",
            "           2       0.86      0.86      0.86      5000\n",
            "\n",
            "    accuracy                           0.83     15000\n",
            "   macro avg       0.82      0.83      0.82     15000\n",
            "weighted avg       0.82      0.83      0.82     15000\n",
            "\n",
            " \n",
            "##########################################################################################################\n",
            "Now doing LinearSVC\n",
            "Fitting 5 folds for each of 5 candidates, totalling 25 fits\n"
          ],
          "name": "stdout"
        },
        {
          "output_type": "stream",
          "text": [
            "[Parallel(n_jobs=1)]: Using backend SequentialBackend with 1 concurrent workers.\n"
          ],
          "name": "stderr"
        },
        {
          "output_type": "stream",
          "text": [
            "[CV] C=0.01 ..........................................................\n",
            "[CV] .............................. C=0.01, score=0.743, total=   1.0s\n",
            "[CV] C=0.01 ..........................................................\n"
          ],
          "name": "stdout"
        },
        {
          "output_type": "stream",
          "text": [
            "[Parallel(n_jobs=1)]: Done   1 out of   1 | elapsed:    1.0s remaining:    0.0s\n"
          ],
          "name": "stderr"
        },
        {
          "output_type": "stream",
          "text": [
            "[CV] .............................. C=0.01, score=0.746, total=   1.0s\n",
            "[CV] C=0.01 ..........................................................\n"
          ],
          "name": "stdout"
        },
        {
          "output_type": "stream",
          "text": [
            "[Parallel(n_jobs=1)]: Done   2 out of   2 | elapsed:    2.0s remaining:    0.0s\n"
          ],
          "name": "stderr"
        },
        {
          "output_type": "stream",
          "text": [
            "[CV] .............................. C=0.01, score=0.759, total=   1.0s\n",
            "[CV] C=0.01 ..........................................................\n",
            "[CV] .............................. C=0.01, score=0.754, total=   1.0s\n",
            "[CV] C=0.01 ..........................................................\n",
            "[CV] .............................. C=0.01, score=0.743, total=   1.0s\n",
            "[CV] C=0.1 ...........................................................\n",
            "[CV] ............................... C=0.1, score=0.802, total=   1.0s\n",
            "[CV] C=0.1 ...........................................................\n",
            "[CV] ............................... C=0.1, score=0.808, total=   1.0s\n",
            "[CV] C=0.1 ...........................................................\n",
            "[CV] ............................... C=0.1, score=0.817, total=   1.0s\n",
            "[CV] C=0.1 ...........................................................\n",
            "[CV] ............................... C=0.1, score=0.811, total=   1.0s\n",
            "[CV] C=0.1 ...........................................................\n",
            "[CV] ............................... C=0.1, score=0.807, total=   1.0s\n",
            "[CV] C=1.0 ...........................................................\n",
            "[CV] ............................... C=1.0, score=0.800, total=   2.5s\n",
            "[CV] C=1.0 ...........................................................\n",
            "[CV] ............................... C=1.0, score=0.812, total=   2.5s\n",
            "[CV] C=1.0 ...........................................................\n",
            "[CV] ............................... C=1.0, score=0.819, total=   2.5s\n",
            "[CV] C=1.0 ...........................................................\n",
            "[CV] ............................... C=1.0, score=0.814, total=   2.5s\n",
            "[CV] C=1.0 ...........................................................\n",
            "[CV] ............................... C=1.0, score=0.809, total=   2.5s\n",
            "[CV] C=10.0 ..........................................................\n",
            "[CV] .............................. C=10.0, score=0.770, total=  14.7s\n",
            "[CV] C=10.0 ..........................................................\n",
            "[CV] .............................. C=10.0, score=0.787, total=  13.9s\n",
            "[CV] C=10.0 ..........................................................\n",
            "[CV] .............................. C=10.0, score=0.794, total=  17.1s\n",
            "[CV] C=10.0 ..........................................................\n",
            "[CV] .............................. C=10.0, score=0.786, total=  16.8s\n",
            "[CV] C=10.0 ..........................................................\n",
            "[CV] .............................. C=10.0, score=0.780, total=  14.6s\n",
            "[CV] C=100.0 .........................................................\n"
          ],
          "name": "stdout"
        },
        {
          "output_type": "stream",
          "text": [
            "/usr/local/lib/python3.7/dist-packages/sklearn/svm/_base.py:947: ConvergenceWarning: Liblinear failed to converge, increase the number of iterations.\n",
            "  \"the number of iterations.\", ConvergenceWarning)\n"
          ],
          "name": "stderr"
        },
        {
          "output_type": "stream",
          "text": [
            "[CV] ............................. C=100.0, score=0.745, total=  31.6s\n",
            "[CV] C=100.0 .........................................................\n",
            "[CV] ............................. C=100.0, score=0.756, total=  31.3s\n",
            "[CV] C=100.0 .........................................................\n",
            "[CV] ............................. C=100.0, score=0.766, total=  31.2s\n",
            "[CV] C=100.0 .........................................................\n",
            "[CV] ............................. C=100.0, score=0.750, total=  31.7s\n",
            "[CV] C=100.0 .........................................................\n",
            "[CV] ............................. C=100.0, score=0.752, total=  31.6s\n"
          ],
          "name": "stdout"
        },
        {
          "output_type": "stream",
          "text": [
            "[Parallel(n_jobs=1)]: Done  25 out of  25 | elapsed:  4.3min finished\n"
          ],
          "name": "stderr"
        },
        {
          "output_type": "stream",
          "text": [
            "Best parameters:\n",
            "{'C': 1.0}\n",
            "Bestf1_weighted:0.8106657352896447\n",
            "Train classification report:\n",
            "              precision    recall  f1-score   support\n",
            "\n",
            "           0       0.96      0.94      0.95     15000\n",
            "           1       0.96      0.97      0.97     15000\n",
            "           2       0.97      0.97      0.97     15000\n",
            "\n",
            "    accuracy                           0.96     45000\n",
            "   macro avg       0.96      0.96      0.96     45000\n",
            "weighted avg       0.96      0.96      0.96     45000\n",
            "\n",
            "Test classification report:\n",
            "              precision    recall  f1-score   support\n",
            "\n",
            "           0       0.77      0.75      0.76      5000\n",
            "           1       0.83      0.85      0.84      5000\n",
            "           2       0.85      0.86      0.86      5000\n",
            "\n",
            "    accuracy                           0.82     15000\n",
            "   macro avg       0.82      0.82      0.82     15000\n",
            "weighted avg       0.82      0.82      0.82     15000\n",
            "\n",
            " \n",
            "##########################################################################################################\n",
            "Now doing RandomForestClassifier\n",
            "Fitting 5 folds for each of 9 candidates, totalling 45 fits\n",
            "[CV] max_depth=10, n_estimators=50 ...................................\n"
          ],
          "name": "stdout"
        },
        {
          "output_type": "stream",
          "text": [
            "[Parallel(n_jobs=1)]: Using backend SequentialBackend with 1 concurrent workers.\n"
          ],
          "name": "stderr"
        },
        {
          "output_type": "stream",
          "text": [
            "[CV] ....... max_depth=10, n_estimators=50, score=0.673, total=   6.7s\n",
            "[CV] max_depth=10, n_estimators=50 ...................................\n"
          ],
          "name": "stdout"
        },
        {
          "output_type": "stream",
          "text": [
            "[Parallel(n_jobs=1)]: Done   1 out of   1 | elapsed:    6.7s remaining:    0.0s\n"
          ],
          "name": "stderr"
        },
        {
          "output_type": "stream",
          "text": [
            "[CV] ....... max_depth=10, n_estimators=50, score=0.669, total=   6.6s\n",
            "[CV] max_depth=10, n_estimators=50 ...................................\n"
          ],
          "name": "stdout"
        },
        {
          "output_type": "stream",
          "text": [
            "[Parallel(n_jobs=1)]: Done   2 out of   2 | elapsed:   13.3s remaining:    0.0s\n"
          ],
          "name": "stderr"
        },
        {
          "output_type": "stream",
          "text": [
            "[CV] ....... max_depth=10, n_estimators=50, score=0.694, total=   6.5s\n",
            "[CV] max_depth=10, n_estimators=50 ...................................\n",
            "[CV] ....... max_depth=10, n_estimators=50, score=0.713, total=   6.7s\n",
            "[CV] max_depth=10, n_estimators=50 ...................................\n",
            "[CV] ....... max_depth=10, n_estimators=50, score=0.711, total=   6.5s\n",
            "[CV] max_depth=10, n_estimators=200 ..................................\n",
            "[CV] ...... max_depth=10, n_estimators=200, score=0.699, total=  25.9s\n",
            "[CV] max_depth=10, n_estimators=200 ..................................\n",
            "[CV] ...... max_depth=10, n_estimators=200, score=0.701, total=  25.8s\n",
            "[CV] max_depth=10, n_estimators=200 ..................................\n",
            "[CV] ...... max_depth=10, n_estimators=200, score=0.728, total=  26.0s\n",
            "[CV] max_depth=10, n_estimators=200 ..................................\n",
            "[CV] ...... max_depth=10, n_estimators=200, score=0.723, total=  26.2s\n",
            "[CV] max_depth=10, n_estimators=200 ..................................\n",
            "[CV] ...... max_depth=10, n_estimators=200, score=0.718, total=  25.6s\n",
            "[CV] max_depth=10, n_estimators=600 ..................................\n",
            "[CV] ...... max_depth=10, n_estimators=600, score=0.707, total= 1.3min\n",
            "[CV] max_depth=10, n_estimators=600 ..................................\n",
            "[CV] ...... max_depth=10, n_estimators=600, score=0.725, total= 1.3min\n",
            "[CV] max_depth=10, n_estimators=600 ..................................\n",
            "[CV] ...... max_depth=10, n_estimators=600, score=0.728, total= 1.3min\n",
            "[CV] max_depth=10, n_estimators=600 ..................................\n",
            "[CV] ...... max_depth=10, n_estimators=600, score=0.744, total= 1.3min\n",
            "[CV] max_depth=10, n_estimators=600 ..................................\n",
            "[CV] ...... max_depth=10, n_estimators=600, score=0.742, total= 1.3min\n",
            "[CV] max_depth=15, n_estimators=50 ...................................\n",
            "[CV] ....... max_depth=15, n_estimators=50, score=0.708, total=  10.7s\n",
            "[CV] max_depth=15, n_estimators=50 ...................................\n",
            "[CV] ....... max_depth=15, n_estimators=50, score=0.684, total=  10.7s\n",
            "[CV] max_depth=15, n_estimators=50 ...................................\n",
            "[CV] ....... max_depth=15, n_estimators=50, score=0.725, total=  10.9s\n",
            "[CV] max_depth=15, n_estimators=50 ...................................\n",
            "[CV] ....... max_depth=15, n_estimators=50, score=0.719, total=  11.1s\n",
            "[CV] max_depth=15, n_estimators=50 ...................................\n",
            "[CV] ....... max_depth=15, n_estimators=50, score=0.684, total=  11.0s\n",
            "[CV] max_depth=15, n_estimators=200 ..................................\n",
            "[CV] ...... max_depth=15, n_estimators=200, score=0.716, total=  43.6s\n",
            "[CV] max_depth=15, n_estimators=200 ..................................\n",
            "[CV] ...... max_depth=15, n_estimators=200, score=0.725, total=  43.4s\n",
            "[CV] max_depth=15, n_estimators=200 ..................................\n",
            "[CV] ...... max_depth=15, n_estimators=200, score=0.729, total=  44.5s\n",
            "[CV] max_depth=15, n_estimators=200 ..................................\n",
            "[CV] ...... max_depth=15, n_estimators=200, score=0.742, total=  44.6s\n",
            "[CV] max_depth=15, n_estimators=200 ..................................\n",
            "[CV] ...... max_depth=15, n_estimators=200, score=0.745, total=  43.9s\n",
            "[CV] max_depth=15, n_estimators=600 ..................................\n",
            "[CV] ...... max_depth=15, n_estimators=600, score=0.721, total= 2.2min\n",
            "[CV] max_depth=15, n_estimators=600 ..................................\n",
            "[CV] ...... max_depth=15, n_estimators=600, score=0.731, total= 2.2min\n",
            "[CV] max_depth=15, n_estimators=600 ..................................\n",
            "[CV] ...... max_depth=15, n_estimators=600, score=0.741, total= 2.2min\n",
            "[CV] max_depth=15, n_estimators=600 ..................................\n",
            "[CV] ...... max_depth=15, n_estimators=600, score=0.750, total= 2.2min\n",
            "[CV] max_depth=15, n_estimators=600 ..................................\n",
            "[CV] ...... max_depth=15, n_estimators=600, score=0.746, total= 2.1min\n",
            "[CV] max_depth=20, n_estimators=50 ...................................\n",
            "[CV] ....... max_depth=20, n_estimators=50, score=0.679, total=  16.8s\n",
            "[CV] max_depth=20, n_estimators=50 ...................................\n",
            "[CV] ....... max_depth=20, n_estimators=50, score=0.699, total=  16.4s\n",
            "[CV] max_depth=20, n_estimators=50 ...................................\n",
            "[CV] ....... max_depth=20, n_estimators=50, score=0.727, total=  16.6s\n",
            "[CV] max_depth=20, n_estimators=50 ...................................\n",
            "[CV] ....... max_depth=20, n_estimators=50, score=0.731, total=  16.6s\n",
            "[CV] max_depth=20, n_estimators=50 ...................................\n",
            "[CV] ....... max_depth=20, n_estimators=50, score=0.727, total=  16.6s\n",
            "[CV] max_depth=20, n_estimators=200 ..................................\n",
            "[CV] ...... max_depth=20, n_estimators=200, score=0.735, total= 1.1min\n",
            "[CV] max_depth=20, n_estimators=200 ..................................\n",
            "[CV] ...... max_depth=20, n_estimators=200, score=0.734, total= 1.1min\n",
            "[CV] max_depth=20, n_estimators=200 ..................................\n",
            "[CV] ...... max_depth=20, n_estimators=200, score=0.757, total= 1.1min\n",
            "[CV] max_depth=20, n_estimators=200 ..................................\n",
            "[CV] ...... max_depth=20, n_estimators=200, score=0.753, total= 1.1min\n",
            "[CV] max_depth=20, n_estimators=200 ..................................\n",
            "[CV] ...... max_depth=20, n_estimators=200, score=0.749, total= 1.1min\n",
            "[CV] max_depth=20, n_estimators=600 ..................................\n",
            "[CV] ...... max_depth=20, n_estimators=600, score=0.733, total= 3.3min\n",
            "[CV] max_depth=20, n_estimators=600 ..................................\n",
            "[CV] ...... max_depth=20, n_estimators=600, score=0.738, total= 3.2min\n",
            "[CV] max_depth=20, n_estimators=600 ..................................\n",
            "[CV] ...... max_depth=20, n_estimators=600, score=0.749, total= 3.3min\n",
            "[CV] max_depth=20, n_estimators=600 ..................................\n",
            "[CV] ...... max_depth=20, n_estimators=600, score=0.756, total= 3.3min\n",
            "[CV] max_depth=20, n_estimators=600 ..................................\n",
            "[CV] ...... max_depth=20, n_estimators=600, score=0.762, total= 3.2min\n"
          ],
          "name": "stdout"
        },
        {
          "output_type": "stream",
          "text": [
            "[Parallel(n_jobs=1)]: Done  45 out of  45 | elapsed: 47.7min finished\n"
          ],
          "name": "stderr"
        },
        {
          "output_type": "stream",
          "text": [
            "Best parameters:\n",
            "{'max_depth': 20, 'n_estimators': 600}\n",
            "Bestf1_weighted:0.7476725012677508\n",
            "Train classification report:\n",
            "              precision    recall  f1-score   support\n",
            "\n",
            "           0       0.86      0.77      0.81     15000\n",
            "           1       0.80      0.97      0.88     15000\n",
            "           2       0.91      0.82      0.86     15000\n",
            "\n",
            "    accuracy                           0.85     45000\n",
            "   macro avg       0.86      0.85      0.85     45000\n",
            "weighted avg       0.86      0.85      0.85     45000\n",
            "\n",
            "Test classification report:\n",
            "              precision    recall  f1-score   support\n",
            "\n",
            "           0       0.74      0.61      0.67      5000\n",
            "           1       0.74      0.88      0.80      5000\n",
            "           2       0.79      0.77      0.78      5000\n",
            "\n",
            "    accuracy                           0.75     15000\n",
            "   macro avg       0.76      0.75      0.75     15000\n",
            "weighted avg       0.76      0.75      0.75     15000\n",
            "\n",
            " \n",
            "##########################################################################################################\n",
            "Now doing GradientBoostingClassifier\n",
            "Fitting 5 folds for each of 9 candidates, totalling 45 fits\n",
            "[CV] learning_rate=0.01, n_estimators=50 .............................\n"
          ],
          "name": "stdout"
        },
        {
          "output_type": "stream",
          "text": [
            "[Parallel(n_jobs=1)]: Using backend SequentialBackend with 1 concurrent workers.\n"
          ],
          "name": "stderr"
        },
        {
          "output_type": "error",
          "ename": "KeyboardInterrupt",
          "evalue": "ignored",
          "traceback": [
            "\u001b[0;31m---------------------------------------------------------------------------\u001b[0m",
            "\u001b[0;31mKeyboardInterrupt\u001b[0m                         Traceback (most recent call last)",
            "\u001b[0;32m<ipython-input-7-ed5c7f4acd5d>\u001b[0m in \u001b[0;36m<module>\u001b[0;34m()\u001b[0m\n\u001b[1;32m     18\u001b[0m     \u001b[0mprint\u001b[0m\u001b[0;34m(\u001b[0m\u001b[0;34m\"##########################################################################################################\"\u001b[0m\u001b[0;34m)\u001b[0m\u001b[0;34m\u001b[0m\u001b[0;34m\u001b[0m\u001b[0m\n\u001b[1;32m     19\u001b[0m     \u001b[0mprint\u001b[0m\u001b[0;34m(\u001b[0m\u001b[0;34m\"Now doing\"\u001b[0m\u001b[0;34m,\u001b[0m\u001b[0mclf_str\u001b[0m\u001b[0;34m)\u001b[0m\u001b[0;34m\u001b[0m\u001b[0;34m\u001b[0m\u001b[0m\n\u001b[0;32m---> 20\u001b[0;31m     \u001b[0mopt\u001b[0m \u001b[0;34m=\u001b[0m \u001b[0mdo_gridSearch\u001b[0m\u001b[0;34m(\u001b[0m\u001b[0mclf_fn\u001b[0m\u001b[0;34m,\u001b[0m\u001b[0md_train\u001b[0m\u001b[0;34m,\u001b[0m\u001b[0my_train\u001b[0m\u001b[0;34m,\u001b[0m\u001b[0md_test\u001b[0m\u001b[0;34m,\u001b[0m\u001b[0my_test\u001b[0m\u001b[0;34m,\u001b[0m\u001b[0mparams\u001b[0m\u001b[0;34m)\u001b[0m\u001b[0;34m\u001b[0m\u001b[0;34m\u001b[0m\u001b[0m\n\u001b[0m\u001b[1;32m     21\u001b[0m     \u001b[0mresult_dict\u001b[0m\u001b[0;34m[\u001b[0m\u001b[0mclf_str\u001b[0m\u001b[0;34m]\u001b[0m \u001b[0;34m=\u001b[0m \u001b[0mopt\u001b[0m\u001b[0;34m\u001b[0m\u001b[0;34m\u001b[0m\u001b[0m\n",
            "\u001b[0;32m<ipython-input-6-36184dc720a5>\u001b[0m in \u001b[0;36mdo_gridSearch\u001b[0;34m(clf, d_train, y_train, d_test, y_test, hyperparams)\u001b[0m\n\u001b[1;32m      9\u001b[0m \u001b[0;32mdef\u001b[0m \u001b[0mdo_gridSearch\u001b[0m\u001b[0;34m(\u001b[0m\u001b[0mclf\u001b[0m\u001b[0;34m,\u001b[0m\u001b[0md_train\u001b[0m\u001b[0;34m,\u001b[0m\u001b[0my_train\u001b[0m\u001b[0;34m,\u001b[0m\u001b[0md_test\u001b[0m\u001b[0;34m,\u001b[0m\u001b[0my_test\u001b[0m\u001b[0;34m,\u001b[0m\u001b[0mhyperparams\u001b[0m\u001b[0;34m)\u001b[0m\u001b[0;34m:\u001b[0m\u001b[0;34m\u001b[0m\u001b[0;34m\u001b[0m\u001b[0m\n\u001b[1;32m     10\u001b[0m     \u001b[0mopt\u001b[0m \u001b[0;34m=\u001b[0m \u001b[0mGridSearchCV\u001b[0m\u001b[0;34m(\u001b[0m\u001b[0mclf\u001b[0m\u001b[0;34m,\u001b[0m \u001b[0mcv\u001b[0m\u001b[0;34m=\u001b[0m\u001b[0;36m5\u001b[0m\u001b[0;34m,\u001b[0m \u001b[0mparam_grid\u001b[0m\u001b[0;34m=\u001b[0m\u001b[0mhyperparams\u001b[0m\u001b[0;34m,\u001b[0m  \u001b[0mscoring\u001b[0m\u001b[0;34m=\u001b[0m\u001b[0;34m'f1_weighted'\u001b[0m\u001b[0;34m,\u001b[0m \u001b[0mverbose\u001b[0m\u001b[0;34m=\u001b[0m\u001b[0;36m2.1\u001b[0m\u001b[0;34m)\u001b[0m\u001b[0;34m\u001b[0m\u001b[0;34m\u001b[0m\u001b[0m\n\u001b[0;32m---> 11\u001b[0;31m     \u001b[0mopt\u001b[0m\u001b[0;34m.\u001b[0m\u001b[0mfit\u001b[0m\u001b[0;34m(\u001b[0m\u001b[0md_train\u001b[0m\u001b[0;34m,\u001b[0m \u001b[0mnp\u001b[0m\u001b[0;34m.\u001b[0m\u001b[0msqueeze\u001b[0m\u001b[0;34m(\u001b[0m\u001b[0my_train\u001b[0m\u001b[0;34m)\u001b[0m\u001b[0;34m)\u001b[0m\u001b[0;34m\u001b[0m\u001b[0;34m\u001b[0m\u001b[0m\n\u001b[0m\u001b[1;32m     12\u001b[0m     \u001b[0mprint\u001b[0m\u001b[0;34m(\u001b[0m\u001b[0;34m'Best parameters:'\u001b[0m\u001b[0;34m)\u001b[0m\u001b[0;34m\u001b[0m\u001b[0;34m\u001b[0m\u001b[0m\n\u001b[1;32m     13\u001b[0m     \u001b[0mprint\u001b[0m\u001b[0;34m(\u001b[0m\u001b[0mopt\u001b[0m\u001b[0;34m.\u001b[0m\u001b[0mbest_params_\u001b[0m\u001b[0;34m)\u001b[0m\u001b[0;34m\u001b[0m\u001b[0;34m\u001b[0m\u001b[0m\n",
            "\u001b[0;32m/usr/local/lib/python3.7/dist-packages/sklearn/model_selection/_search.py\u001b[0m in \u001b[0;36mfit\u001b[0;34m(self, X, y, groups, **fit_params)\u001b[0m\n\u001b[1;32m    708\u001b[0m                 \u001b[0;32mreturn\u001b[0m \u001b[0mresults\u001b[0m\u001b[0;34m\u001b[0m\u001b[0;34m\u001b[0m\u001b[0m\n\u001b[1;32m    709\u001b[0m \u001b[0;34m\u001b[0m\u001b[0m\n\u001b[0;32m--> 710\u001b[0;31m             \u001b[0mself\u001b[0m\u001b[0;34m.\u001b[0m\u001b[0m_run_search\u001b[0m\u001b[0;34m(\u001b[0m\u001b[0mevaluate_candidates\u001b[0m\u001b[0;34m)\u001b[0m\u001b[0;34m\u001b[0m\u001b[0;34m\u001b[0m\u001b[0m\n\u001b[0m\u001b[1;32m    711\u001b[0m \u001b[0;34m\u001b[0m\u001b[0m\n\u001b[1;32m    712\u001b[0m         \u001b[0;31m# For multi-metric evaluation, store the best_index_, best_params_ and\u001b[0m\u001b[0;34m\u001b[0m\u001b[0;34m\u001b[0m\u001b[0;34m\u001b[0m\u001b[0m\n",
            "\u001b[0;32m/usr/local/lib/python3.7/dist-packages/sklearn/model_selection/_search.py\u001b[0m in \u001b[0;36m_run_search\u001b[0;34m(self, evaluate_candidates)\u001b[0m\n\u001b[1;32m   1149\u001b[0m     \u001b[0;32mdef\u001b[0m \u001b[0m_run_search\u001b[0m\u001b[0;34m(\u001b[0m\u001b[0mself\u001b[0m\u001b[0;34m,\u001b[0m \u001b[0mevaluate_candidates\u001b[0m\u001b[0;34m)\u001b[0m\u001b[0;34m:\u001b[0m\u001b[0;34m\u001b[0m\u001b[0;34m\u001b[0m\u001b[0m\n\u001b[1;32m   1150\u001b[0m         \u001b[0;34m\"\"\"Search all candidates in param_grid\"\"\"\u001b[0m\u001b[0;34m\u001b[0m\u001b[0;34m\u001b[0m\u001b[0m\n\u001b[0;32m-> 1151\u001b[0;31m         \u001b[0mevaluate_candidates\u001b[0m\u001b[0;34m(\u001b[0m\u001b[0mParameterGrid\u001b[0m\u001b[0;34m(\u001b[0m\u001b[0mself\u001b[0m\u001b[0;34m.\u001b[0m\u001b[0mparam_grid\u001b[0m\u001b[0;34m)\u001b[0m\u001b[0;34m)\u001b[0m\u001b[0;34m\u001b[0m\u001b[0;34m\u001b[0m\u001b[0m\n\u001b[0m\u001b[1;32m   1152\u001b[0m \u001b[0;34m\u001b[0m\u001b[0m\n\u001b[1;32m   1153\u001b[0m \u001b[0;34m\u001b[0m\u001b[0m\n",
            "\u001b[0;32m/usr/local/lib/python3.7/dist-packages/sklearn/model_selection/_search.py\u001b[0m in \u001b[0;36mevaluate_candidates\u001b[0;34m(candidate_params)\u001b[0m\n\u001b[1;32m    687\u001b[0m                                \u001b[0;32mfor\u001b[0m \u001b[0mparameters\u001b[0m\u001b[0;34m,\u001b[0m \u001b[0;34m(\u001b[0m\u001b[0mtrain\u001b[0m\u001b[0;34m,\u001b[0m \u001b[0mtest\u001b[0m\u001b[0;34m)\u001b[0m\u001b[0;34m\u001b[0m\u001b[0;34m\u001b[0m\u001b[0m\n\u001b[1;32m    688\u001b[0m                                in product(candidate_params,\n\u001b[0;32m--> 689\u001b[0;31m                                           cv.split(X, y, groups)))\n\u001b[0m\u001b[1;32m    690\u001b[0m \u001b[0;34m\u001b[0m\u001b[0m\n\u001b[1;32m    691\u001b[0m                 \u001b[0;32mif\u001b[0m \u001b[0mlen\u001b[0m\u001b[0;34m(\u001b[0m\u001b[0mout\u001b[0m\u001b[0;34m)\u001b[0m \u001b[0;34m<\u001b[0m \u001b[0;36m1\u001b[0m\u001b[0;34m:\u001b[0m\u001b[0;34m\u001b[0m\u001b[0;34m\u001b[0m\u001b[0m\n",
            "\u001b[0;32m/usr/local/lib/python3.7/dist-packages/joblib/parallel.py\u001b[0m in \u001b[0;36m__call__\u001b[0;34m(self, iterable)\u001b[0m\n\u001b[1;32m   1039\u001b[0m             \u001b[0;31m# remaining jobs.\u001b[0m\u001b[0;34m\u001b[0m\u001b[0;34m\u001b[0m\u001b[0;34m\u001b[0m\u001b[0m\n\u001b[1;32m   1040\u001b[0m             \u001b[0mself\u001b[0m\u001b[0;34m.\u001b[0m\u001b[0m_iterating\u001b[0m \u001b[0;34m=\u001b[0m \u001b[0;32mFalse\u001b[0m\u001b[0;34m\u001b[0m\u001b[0;34m\u001b[0m\u001b[0m\n\u001b[0;32m-> 1041\u001b[0;31m             \u001b[0;32mif\u001b[0m \u001b[0mself\u001b[0m\u001b[0;34m.\u001b[0m\u001b[0mdispatch_one_batch\u001b[0m\u001b[0;34m(\u001b[0m\u001b[0miterator\u001b[0m\u001b[0;34m)\u001b[0m\u001b[0;34m:\u001b[0m\u001b[0;34m\u001b[0m\u001b[0;34m\u001b[0m\u001b[0m\n\u001b[0m\u001b[1;32m   1042\u001b[0m                 \u001b[0mself\u001b[0m\u001b[0;34m.\u001b[0m\u001b[0m_iterating\u001b[0m \u001b[0;34m=\u001b[0m \u001b[0mself\u001b[0m\u001b[0;34m.\u001b[0m\u001b[0m_original_iterator\u001b[0m \u001b[0;32mis\u001b[0m \u001b[0;32mnot\u001b[0m \u001b[0;32mNone\u001b[0m\u001b[0;34m\u001b[0m\u001b[0;34m\u001b[0m\u001b[0m\n\u001b[1;32m   1043\u001b[0m \u001b[0;34m\u001b[0m\u001b[0m\n",
            "\u001b[0;32m/usr/local/lib/python3.7/dist-packages/joblib/parallel.py\u001b[0m in \u001b[0;36mdispatch_one_batch\u001b[0;34m(self, iterator)\u001b[0m\n\u001b[1;32m    857\u001b[0m                 \u001b[0;32mreturn\u001b[0m \u001b[0;32mFalse\u001b[0m\u001b[0;34m\u001b[0m\u001b[0;34m\u001b[0m\u001b[0m\n\u001b[1;32m    858\u001b[0m             \u001b[0;32melse\u001b[0m\u001b[0;34m:\u001b[0m\u001b[0;34m\u001b[0m\u001b[0;34m\u001b[0m\u001b[0m\n\u001b[0;32m--> 859\u001b[0;31m                 \u001b[0mself\u001b[0m\u001b[0;34m.\u001b[0m\u001b[0m_dispatch\u001b[0m\u001b[0;34m(\u001b[0m\u001b[0mtasks\u001b[0m\u001b[0;34m)\u001b[0m\u001b[0;34m\u001b[0m\u001b[0;34m\u001b[0m\u001b[0m\n\u001b[0m\u001b[1;32m    860\u001b[0m                 \u001b[0;32mreturn\u001b[0m \u001b[0;32mTrue\u001b[0m\u001b[0;34m\u001b[0m\u001b[0;34m\u001b[0m\u001b[0m\n\u001b[1;32m    861\u001b[0m \u001b[0;34m\u001b[0m\u001b[0m\n",
            "\u001b[0;32m/usr/local/lib/python3.7/dist-packages/joblib/parallel.py\u001b[0m in \u001b[0;36m_dispatch\u001b[0;34m(self, batch)\u001b[0m\n\u001b[1;32m    775\u001b[0m         \u001b[0;32mwith\u001b[0m \u001b[0mself\u001b[0m\u001b[0;34m.\u001b[0m\u001b[0m_lock\u001b[0m\u001b[0;34m:\u001b[0m\u001b[0;34m\u001b[0m\u001b[0;34m\u001b[0m\u001b[0m\n\u001b[1;32m    776\u001b[0m             \u001b[0mjob_idx\u001b[0m \u001b[0;34m=\u001b[0m \u001b[0mlen\u001b[0m\u001b[0;34m(\u001b[0m\u001b[0mself\u001b[0m\u001b[0;34m.\u001b[0m\u001b[0m_jobs\u001b[0m\u001b[0;34m)\u001b[0m\u001b[0;34m\u001b[0m\u001b[0;34m\u001b[0m\u001b[0m\n\u001b[0;32m--> 777\u001b[0;31m             \u001b[0mjob\u001b[0m \u001b[0;34m=\u001b[0m \u001b[0mself\u001b[0m\u001b[0;34m.\u001b[0m\u001b[0m_backend\u001b[0m\u001b[0;34m.\u001b[0m\u001b[0mapply_async\u001b[0m\u001b[0;34m(\u001b[0m\u001b[0mbatch\u001b[0m\u001b[0;34m,\u001b[0m \u001b[0mcallback\u001b[0m\u001b[0;34m=\u001b[0m\u001b[0mcb\u001b[0m\u001b[0;34m)\u001b[0m\u001b[0;34m\u001b[0m\u001b[0;34m\u001b[0m\u001b[0m\n\u001b[0m\u001b[1;32m    778\u001b[0m             \u001b[0;31m# A job can complete so quickly than its callback is\u001b[0m\u001b[0;34m\u001b[0m\u001b[0;34m\u001b[0m\u001b[0;34m\u001b[0m\u001b[0m\n\u001b[1;32m    779\u001b[0m             \u001b[0;31m# called before we get here, causing self._jobs to\u001b[0m\u001b[0;34m\u001b[0m\u001b[0;34m\u001b[0m\u001b[0;34m\u001b[0m\u001b[0m\n",
            "\u001b[0;32m/usr/local/lib/python3.7/dist-packages/joblib/_parallel_backends.py\u001b[0m in \u001b[0;36mapply_async\u001b[0;34m(self, func, callback)\u001b[0m\n\u001b[1;32m    206\u001b[0m     \u001b[0;32mdef\u001b[0m \u001b[0mapply_async\u001b[0m\u001b[0;34m(\u001b[0m\u001b[0mself\u001b[0m\u001b[0;34m,\u001b[0m \u001b[0mfunc\u001b[0m\u001b[0;34m,\u001b[0m \u001b[0mcallback\u001b[0m\u001b[0;34m=\u001b[0m\u001b[0;32mNone\u001b[0m\u001b[0;34m)\u001b[0m\u001b[0;34m:\u001b[0m\u001b[0;34m\u001b[0m\u001b[0;34m\u001b[0m\u001b[0m\n\u001b[1;32m    207\u001b[0m         \u001b[0;34m\"\"\"Schedule a func to be run\"\"\"\u001b[0m\u001b[0;34m\u001b[0m\u001b[0;34m\u001b[0m\u001b[0m\n\u001b[0;32m--> 208\u001b[0;31m         \u001b[0mresult\u001b[0m \u001b[0;34m=\u001b[0m \u001b[0mImmediateResult\u001b[0m\u001b[0;34m(\u001b[0m\u001b[0mfunc\u001b[0m\u001b[0;34m)\u001b[0m\u001b[0;34m\u001b[0m\u001b[0;34m\u001b[0m\u001b[0m\n\u001b[0m\u001b[1;32m    209\u001b[0m         \u001b[0;32mif\u001b[0m \u001b[0mcallback\u001b[0m\u001b[0;34m:\u001b[0m\u001b[0;34m\u001b[0m\u001b[0;34m\u001b[0m\u001b[0m\n\u001b[1;32m    210\u001b[0m             \u001b[0mcallback\u001b[0m\u001b[0;34m(\u001b[0m\u001b[0mresult\u001b[0m\u001b[0;34m)\u001b[0m\u001b[0;34m\u001b[0m\u001b[0;34m\u001b[0m\u001b[0m\n",
            "\u001b[0;32m/usr/local/lib/python3.7/dist-packages/joblib/_parallel_backends.py\u001b[0m in \u001b[0;36m__init__\u001b[0;34m(self, batch)\u001b[0m\n\u001b[1;32m    570\u001b[0m         \u001b[0;31m# Don't delay the application, to avoid keeping the input\u001b[0m\u001b[0;34m\u001b[0m\u001b[0;34m\u001b[0m\u001b[0;34m\u001b[0m\u001b[0m\n\u001b[1;32m    571\u001b[0m         \u001b[0;31m# arguments in memory\u001b[0m\u001b[0;34m\u001b[0m\u001b[0;34m\u001b[0m\u001b[0;34m\u001b[0m\u001b[0m\n\u001b[0;32m--> 572\u001b[0;31m         \u001b[0mself\u001b[0m\u001b[0;34m.\u001b[0m\u001b[0mresults\u001b[0m \u001b[0;34m=\u001b[0m \u001b[0mbatch\u001b[0m\u001b[0;34m(\u001b[0m\u001b[0;34m)\u001b[0m\u001b[0;34m\u001b[0m\u001b[0;34m\u001b[0m\u001b[0m\n\u001b[0m\u001b[1;32m    573\u001b[0m \u001b[0;34m\u001b[0m\u001b[0m\n\u001b[1;32m    574\u001b[0m     \u001b[0;32mdef\u001b[0m \u001b[0mget\u001b[0m\u001b[0;34m(\u001b[0m\u001b[0mself\u001b[0m\u001b[0;34m)\u001b[0m\u001b[0;34m:\u001b[0m\u001b[0;34m\u001b[0m\u001b[0;34m\u001b[0m\u001b[0m\n",
            "\u001b[0;32m/usr/local/lib/python3.7/dist-packages/joblib/parallel.py\u001b[0m in \u001b[0;36m__call__\u001b[0;34m(self)\u001b[0m\n\u001b[1;32m    261\u001b[0m         \u001b[0;32mwith\u001b[0m \u001b[0mparallel_backend\u001b[0m\u001b[0;34m(\u001b[0m\u001b[0mself\u001b[0m\u001b[0;34m.\u001b[0m\u001b[0m_backend\u001b[0m\u001b[0;34m,\u001b[0m \u001b[0mn_jobs\u001b[0m\u001b[0;34m=\u001b[0m\u001b[0mself\u001b[0m\u001b[0;34m.\u001b[0m\u001b[0m_n_jobs\u001b[0m\u001b[0;34m)\u001b[0m\u001b[0;34m:\u001b[0m\u001b[0;34m\u001b[0m\u001b[0;34m\u001b[0m\u001b[0m\n\u001b[1;32m    262\u001b[0m             return [func(*args, **kwargs)\n\u001b[0;32m--> 263\u001b[0;31m                     for func, args, kwargs in self.items]\n\u001b[0m\u001b[1;32m    264\u001b[0m \u001b[0;34m\u001b[0m\u001b[0m\n\u001b[1;32m    265\u001b[0m     \u001b[0;32mdef\u001b[0m \u001b[0m__reduce__\u001b[0m\u001b[0;34m(\u001b[0m\u001b[0mself\u001b[0m\u001b[0;34m)\u001b[0m\u001b[0;34m:\u001b[0m\u001b[0;34m\u001b[0m\u001b[0;34m\u001b[0m\u001b[0m\n",
            "\u001b[0;32m/usr/local/lib/python3.7/dist-packages/joblib/parallel.py\u001b[0m in \u001b[0;36m<listcomp>\u001b[0;34m(.0)\u001b[0m\n\u001b[1;32m    261\u001b[0m         \u001b[0;32mwith\u001b[0m \u001b[0mparallel_backend\u001b[0m\u001b[0;34m(\u001b[0m\u001b[0mself\u001b[0m\u001b[0;34m.\u001b[0m\u001b[0m_backend\u001b[0m\u001b[0;34m,\u001b[0m \u001b[0mn_jobs\u001b[0m\u001b[0;34m=\u001b[0m\u001b[0mself\u001b[0m\u001b[0;34m.\u001b[0m\u001b[0m_n_jobs\u001b[0m\u001b[0;34m)\u001b[0m\u001b[0;34m:\u001b[0m\u001b[0;34m\u001b[0m\u001b[0;34m\u001b[0m\u001b[0m\n\u001b[1;32m    262\u001b[0m             return [func(*args, **kwargs)\n\u001b[0;32m--> 263\u001b[0;31m                     for func, args, kwargs in self.items]\n\u001b[0m\u001b[1;32m    264\u001b[0m \u001b[0;34m\u001b[0m\u001b[0m\n\u001b[1;32m    265\u001b[0m     \u001b[0;32mdef\u001b[0m \u001b[0m__reduce__\u001b[0m\u001b[0;34m(\u001b[0m\u001b[0mself\u001b[0m\u001b[0;34m)\u001b[0m\u001b[0;34m:\u001b[0m\u001b[0;34m\u001b[0m\u001b[0;34m\u001b[0m\u001b[0m\n",
            "\u001b[0;32m/usr/local/lib/python3.7/dist-packages/sklearn/model_selection/_validation.py\u001b[0m in \u001b[0;36m_fit_and_score\u001b[0;34m(estimator, X, y, scorer, train, test, verbose, parameters, fit_params, return_train_score, return_parameters, return_n_test_samples, return_times, return_estimator, error_score)\u001b[0m\n\u001b[1;32m    513\u001b[0m             \u001b[0mestimator\u001b[0m\u001b[0;34m.\u001b[0m\u001b[0mfit\u001b[0m\u001b[0;34m(\u001b[0m\u001b[0mX_train\u001b[0m\u001b[0;34m,\u001b[0m \u001b[0;34m**\u001b[0m\u001b[0mfit_params\u001b[0m\u001b[0;34m)\u001b[0m\u001b[0;34m\u001b[0m\u001b[0;34m\u001b[0m\u001b[0m\n\u001b[1;32m    514\u001b[0m         \u001b[0;32melse\u001b[0m\u001b[0;34m:\u001b[0m\u001b[0;34m\u001b[0m\u001b[0;34m\u001b[0m\u001b[0m\n\u001b[0;32m--> 515\u001b[0;31m             \u001b[0mestimator\u001b[0m\u001b[0;34m.\u001b[0m\u001b[0mfit\u001b[0m\u001b[0;34m(\u001b[0m\u001b[0mX_train\u001b[0m\u001b[0;34m,\u001b[0m \u001b[0my_train\u001b[0m\u001b[0;34m,\u001b[0m \u001b[0;34m**\u001b[0m\u001b[0mfit_params\u001b[0m\u001b[0;34m)\u001b[0m\u001b[0;34m\u001b[0m\u001b[0;34m\u001b[0m\u001b[0m\n\u001b[0m\u001b[1;32m    516\u001b[0m \u001b[0;34m\u001b[0m\u001b[0m\n\u001b[1;32m    517\u001b[0m     \u001b[0;32mexcept\u001b[0m \u001b[0mException\u001b[0m \u001b[0;32mas\u001b[0m \u001b[0me\u001b[0m\u001b[0;34m:\u001b[0m\u001b[0;34m\u001b[0m\u001b[0;34m\u001b[0m\u001b[0m\n",
            "\u001b[0;32m/usr/local/lib/python3.7/dist-packages/sklearn/ensemble/_gb.py\u001b[0m in \u001b[0;36mfit\u001b[0;34m(self, X, y, sample_weight, monitor)\u001b[0m\n\u001b[1;32m   1535\u001b[0m         n_stages = self._fit_stages(\n\u001b[1;32m   1536\u001b[0m             \u001b[0mX\u001b[0m\u001b[0;34m,\u001b[0m \u001b[0my\u001b[0m\u001b[0;34m,\u001b[0m \u001b[0mraw_predictions\u001b[0m\u001b[0;34m,\u001b[0m \u001b[0msample_weight\u001b[0m\u001b[0;34m,\u001b[0m \u001b[0mself\u001b[0m\u001b[0;34m.\u001b[0m\u001b[0m_rng\u001b[0m\u001b[0;34m,\u001b[0m \u001b[0mX_val\u001b[0m\u001b[0;34m,\u001b[0m \u001b[0my_val\u001b[0m\u001b[0;34m,\u001b[0m\u001b[0;34m\u001b[0m\u001b[0;34m\u001b[0m\u001b[0m\n\u001b[0;32m-> 1537\u001b[0;31m             sample_weight_val, begin_at_stage, monitor, X_idx_sorted)\n\u001b[0m\u001b[1;32m   1538\u001b[0m \u001b[0;34m\u001b[0m\u001b[0m\n\u001b[1;32m   1539\u001b[0m         \u001b[0;31m# change shape of arrays after fit (early-stopping or additional ests)\u001b[0m\u001b[0;34m\u001b[0m\u001b[0;34m\u001b[0m\u001b[0;34m\u001b[0m\u001b[0m\n",
            "\u001b[0;32m/usr/local/lib/python3.7/dist-packages/sklearn/ensemble/_gb.py\u001b[0m in \u001b[0;36m_fit_stages\u001b[0;34m(self, X, y, raw_predictions, sample_weight, random_state, X_val, y_val, sample_weight_val, begin_at_stage, monitor, X_idx_sorted)\u001b[0m\n\u001b[1;32m   1592\u001b[0m             raw_predictions = self._fit_stage(\n\u001b[1;32m   1593\u001b[0m                 \u001b[0mi\u001b[0m\u001b[0;34m,\u001b[0m \u001b[0mX\u001b[0m\u001b[0;34m,\u001b[0m \u001b[0my\u001b[0m\u001b[0;34m,\u001b[0m \u001b[0mraw_predictions\u001b[0m\u001b[0;34m,\u001b[0m \u001b[0msample_weight\u001b[0m\u001b[0;34m,\u001b[0m \u001b[0msample_mask\u001b[0m\u001b[0;34m,\u001b[0m\u001b[0;34m\u001b[0m\u001b[0;34m\u001b[0m\u001b[0m\n\u001b[0;32m-> 1594\u001b[0;31m                 random_state, X_idx_sorted, X_csc, X_csr)\n\u001b[0m\u001b[1;32m   1595\u001b[0m \u001b[0;34m\u001b[0m\u001b[0m\n\u001b[1;32m   1596\u001b[0m             \u001b[0;31m# track deviance (= loss)\u001b[0m\u001b[0;34m\u001b[0m\u001b[0;34m\u001b[0m\u001b[0;34m\u001b[0m\u001b[0m\n",
            "\u001b[0;32m/usr/local/lib/python3.7/dist-packages/sklearn/ensemble/_gb.py\u001b[0m in \u001b[0;36m_fit_stage\u001b[0;34m(self, i, X, y, raw_predictions, sample_weight, sample_mask, random_state, X_idx_sorted, X_csc, X_csr)\u001b[0m\n\u001b[1;32m   1243\u001b[0m             \u001b[0mX\u001b[0m \u001b[0;34m=\u001b[0m \u001b[0mX_csr\u001b[0m \u001b[0;32mif\u001b[0m \u001b[0mX_csr\u001b[0m \u001b[0;32mis\u001b[0m \u001b[0;32mnot\u001b[0m \u001b[0;32mNone\u001b[0m \u001b[0;32melse\u001b[0m \u001b[0mX\u001b[0m\u001b[0;34m\u001b[0m\u001b[0;34m\u001b[0m\u001b[0m\n\u001b[1;32m   1244\u001b[0m             tree.fit(X, residual, sample_weight=sample_weight,\n\u001b[0;32m-> 1245\u001b[0;31m                      check_input=False, X_idx_sorted=X_idx_sorted)\n\u001b[0m\u001b[1;32m   1246\u001b[0m \u001b[0;34m\u001b[0m\u001b[0m\n\u001b[1;32m   1247\u001b[0m             \u001b[0;31m# update tree leaves\u001b[0m\u001b[0;34m\u001b[0m\u001b[0;34m\u001b[0m\u001b[0;34m\u001b[0m\u001b[0m\n",
            "\u001b[0;32m/usr/local/lib/python3.7/dist-packages/sklearn/tree/_classes.py\u001b[0m in \u001b[0;36mfit\u001b[0;34m(self, X, y, sample_weight, check_input, X_idx_sorted)\u001b[0m\n\u001b[1;32m   1223\u001b[0m             \u001b[0msample_weight\u001b[0m\u001b[0;34m=\u001b[0m\u001b[0msample_weight\u001b[0m\u001b[0;34m,\u001b[0m\u001b[0;34m\u001b[0m\u001b[0;34m\u001b[0m\u001b[0m\n\u001b[1;32m   1224\u001b[0m             \u001b[0mcheck_input\u001b[0m\u001b[0;34m=\u001b[0m\u001b[0mcheck_input\u001b[0m\u001b[0;34m,\u001b[0m\u001b[0;34m\u001b[0m\u001b[0;34m\u001b[0m\u001b[0m\n\u001b[0;32m-> 1225\u001b[0;31m             X_idx_sorted=X_idx_sorted)\n\u001b[0m\u001b[1;32m   1226\u001b[0m         \u001b[0;32mreturn\u001b[0m \u001b[0mself\u001b[0m\u001b[0;34m\u001b[0m\u001b[0;34m\u001b[0m\u001b[0m\n\u001b[1;32m   1227\u001b[0m \u001b[0;34m\u001b[0m\u001b[0m\n",
            "\u001b[0;32m/usr/local/lib/python3.7/dist-packages/sklearn/tree/_classes.py\u001b[0m in \u001b[0;36mfit\u001b[0;34m(self, X, y, sample_weight, check_input, X_idx_sorted)\u001b[0m\n\u001b[1;32m    365\u001b[0m                                            min_impurity_split)\n\u001b[1;32m    366\u001b[0m \u001b[0;34m\u001b[0m\u001b[0m\n\u001b[0;32m--> 367\u001b[0;31m         \u001b[0mbuilder\u001b[0m\u001b[0;34m.\u001b[0m\u001b[0mbuild\u001b[0m\u001b[0;34m(\u001b[0m\u001b[0mself\u001b[0m\u001b[0;34m.\u001b[0m\u001b[0mtree_\u001b[0m\u001b[0;34m,\u001b[0m \u001b[0mX\u001b[0m\u001b[0;34m,\u001b[0m \u001b[0my\u001b[0m\u001b[0;34m,\u001b[0m \u001b[0msample_weight\u001b[0m\u001b[0;34m,\u001b[0m \u001b[0mX_idx_sorted\u001b[0m\u001b[0;34m)\u001b[0m\u001b[0;34m\u001b[0m\u001b[0;34m\u001b[0m\u001b[0m\n\u001b[0m\u001b[1;32m    368\u001b[0m \u001b[0;34m\u001b[0m\u001b[0m\n\u001b[1;32m    369\u001b[0m         \u001b[0;32mif\u001b[0m \u001b[0mself\u001b[0m\u001b[0;34m.\u001b[0m\u001b[0mn_outputs_\u001b[0m \u001b[0;34m==\u001b[0m \u001b[0;36m1\u001b[0m \u001b[0;32mand\u001b[0m \u001b[0mis_classifier\u001b[0m\u001b[0;34m(\u001b[0m\u001b[0mself\u001b[0m\u001b[0;34m)\u001b[0m\u001b[0;34m:\u001b[0m\u001b[0;34m\u001b[0m\u001b[0;34m\u001b[0m\u001b[0m\n",
            "\u001b[0;31mKeyboardInterrupt\u001b[0m: "
          ]
        }
      ]
    },
    {
      "cell_type": "code",
      "metadata": {
        "colab": {
          "base_uri": "https://localhost:8080/",
          "height": 809
        },
        "id": "ulndgy9At0Of",
        "outputId": "0893bd0d-4b75-4677-d7b2-1c60606008e4"
      },
      "source": [
        "model = LinearSVC(C=1.0)\n",
        "model.fit(d_train,y_train)\n",
        "def f_importances(coef, names, top_n, label):\n",
        "    imp,names = zip(*sorted(zip(coef,names),reverse=True))\n",
        "    plt.barh(range(top_n), imp[:top_n], align='center')\n",
        "    plt.yticks(range(top_n), names[:top_n])\n",
        "    plt.title(\"Top 10 features for class \"+label)\n",
        "    plt.show()\n",
        "    \n",
        "\n",
        "features_names = c_train.vocabulary_.keys()\n",
        "class_name = 2\n",
        "f_importances(abs(model.coef_[0]), features_names, top_n=10, label=\"LQ_CLOSE\")\n",
        "f_importances(abs(model.coef_[2]), features_names, top_n=10, label=\"HQ\")\n",
        "f_importances(abs(model.coef_[1]), features_names, top_n=10, label=\"LQ_EDIT\")"
      ],
      "execution_count": null,
      "outputs": [
        {
          "output_type": "display_data",
          "data": {
            "image/png": "[encoded data removed]",
            "text/plain": [
              "<Figure size 432x288 with 1 Axes>"
            ]
          },
          "metadata": {
            "tags": [],
            "needs_background": "light"
          }
        },
        {
          "output_type": "display_data",
          "data": {
            "image/png": "[encoded data removed]",
            "text/plain": [
              "<Figure size 432x288 with 1 Axes>"
            ]
          },
          "metadata": {
            "tags": [],
            "needs_background": "light"
          }
        },
        {
          "output_type": "display_data",
          "data": {
            "image/png": "[encoded data removed]",
            "text/plain": [
              "<Figure size 432x288 with 1 Axes>"
            ]
          },
          "metadata": {
            "tags": [],
            "needs_background": "light"
          }
        }
      ]
    },
    {
      "cell_type": "code",
      "metadata": {
        "colab": {
          "base_uri": "https://localhost:8080/"
        },
        "id": "6DdOSvtUwcNz",
        "outputId": "6f98df3f-d9d4-4cce-cb7d-c95e2ec36f64"
      },
      "source": [
        "features_names = c_train.vocabulary_\n",
        "print(type(features_names))"
      ],
      "execution_count": null,
      "outputs": [
        {
          "output_type": "stream",
          "text": [
            "<class 'dict'>\n"
          ],
          "name": "stdout"
        }
      ]
    },
    {
      "cell_type": "code",
      "metadata": {
        "id": "zq4_vR5-ERv0",
        "colab": {
          "base_uri": "https://localhost:8080/"
        },
        "outputId": "9b1c418d-4f4a-4b38-ddd6-edafa7f44bcd"
      },
      "source": [
        "model_order = ['SGDClassifier']\n",
        "for clf_str in model_order:\n",
        "    if clf_str == 'LogisticRegression':\n",
        "        params = {'C':[0.01,0.1,1.0,10.0,100.0],'max_iter':[50,150,300,600],'multi_class':['auto']}\n",
        "    elif clf_str == 'RandomForestClassifier':\n",
        "        params = {'n_estimators': [50,200,600],\n",
        "                  'max_depth': [10,15,20]}\n",
        "    elif clf_str == 'GradientBoostingClassifier':\n",
        "        params = {'n_estimators': [50,200,600],\n",
        "                  'learning_rate': [0.01,0.1,0.5]}\n",
        "    elif clf_str == 'LinearSVC':\n",
        "        params = {'C':[0.01,0.1,1.0,10.0,100.0]}\n",
        "    elif clf_str == 'SGDClassifier':\n",
        "        params = {'loss':['hinge'],'alpha':[0.0001,0.001,0.01],'penalty':['elasticnet'],'l1_ratio':[0,0.2,0.7,1.0]}\n",
        "    clf_fn = clf_dict[clf_str]\n",
        "    print(\" \")\n",
        "    print(\"##########################################################################################################\")\n",
        "    print(\"Now doing\",clf_str)\n",
        "    opt = do_gridSearch(clf_fn,d_train,y_train,d_test,y_test,params)\n",
        "    result_dict[clf_str] = opt"
      ],
      "execution_count": null,
      "outputs": [
        {
          "output_type": "stream",
          "text": [
            " \n",
            "##########################################################################################################\n",
            "Now doing SGDClassifier\n",
            "Fitting 5 folds for each of 12 candidates, totalling 60 fits\n",
            "[CV] alpha=0.0001, l1_ratio=0, loss=hinge, penalty=elasticnet ........\n"
          ],
          "name": "stdout"
        },
        {
          "output_type": "stream",
          "text": [
            "[Parallel(n_jobs=1)]: Using backend SequentialBackend with 1 concurrent workers.\n"
          ],
          "name": "stderr"
        },
        {
          "output_type": "stream",
          "text": [
            "[CV]  alpha=0.0001, l1_ratio=0, loss=hinge, penalty=elasticnet, score=0.795, total=   2.2s\n",
            "[CV] alpha=0.0001, l1_ratio=0, loss=hinge, penalty=elasticnet ........\n"
          ],
          "name": "stdout"
        },
        {
          "output_type": "stream",
          "text": [
            "[Parallel(n_jobs=1)]: Done   1 out of   1 | elapsed:    2.2s remaining:    0.0s\n"
          ],
          "name": "stderr"
        },
        {
          "output_type": "stream",
          "text": [
            "[CV]  alpha=0.0001, l1_ratio=0, loss=hinge, penalty=elasticnet, score=0.797, total=   2.3s\n",
            "[CV] alpha=0.0001, l1_ratio=0, loss=hinge, penalty=elasticnet ........\n"
          ],
          "name": "stdout"
        },
        {
          "output_type": "stream",
          "text": [
            "[Parallel(n_jobs=1)]: Done   2 out of   2 | elapsed:    4.5s remaining:    0.0s\n"
          ],
          "name": "stderr"
        },
        {
          "output_type": "stream",
          "text": [
            "[CV]  alpha=0.0001, l1_ratio=0, loss=hinge, penalty=elasticnet, score=0.809, total=   2.2s\n",
            "[CV] alpha=0.0001, l1_ratio=0, loss=hinge, penalty=elasticnet ........\n",
            "[CV]  alpha=0.0001, l1_ratio=0, loss=hinge, penalty=elasticnet, score=0.801, total=   2.3s\n",
            "[CV] alpha=0.0001, l1_ratio=0, loss=hinge, penalty=elasticnet ........\n",
            "[CV]  alpha=0.0001, l1_ratio=0, loss=hinge, penalty=elasticnet, score=0.797, total=   2.3s\n",
            "[CV] alpha=0.0001, l1_ratio=0.2, loss=hinge, penalty=elasticnet ......\n",
            "[CV]  alpha=0.0001, l1_ratio=0.2, loss=hinge, penalty=elasticnet, score=0.791, total=   2.0s\n",
            "[CV] alpha=0.0001, l1_ratio=0.2, loss=hinge, penalty=elasticnet ......\n",
            "[CV]  alpha=0.0001, l1_ratio=0.2, loss=hinge, penalty=elasticnet, score=0.796, total=   2.1s\n",
            "[CV] alpha=0.0001, l1_ratio=0.2, loss=hinge, penalty=elasticnet ......\n",
            "[CV]  alpha=0.0001, l1_ratio=0.2, loss=hinge, penalty=elasticnet, score=0.807, total=   2.0s\n",
            "[CV] alpha=0.0001, l1_ratio=0.2, loss=hinge, penalty=elasticnet ......\n",
            "[CV]  alpha=0.0001, l1_ratio=0.2, loss=hinge, penalty=elasticnet, score=0.797, total=   1.9s\n",
            "[CV] alpha=0.0001, l1_ratio=0.2, loss=hinge, penalty=elasticnet ......\n",
            "[CV]  alpha=0.0001, l1_ratio=0.2, loss=hinge, penalty=elasticnet, score=0.794, total=   2.1s\n",
            "[CV] alpha=0.0001, l1_ratio=0.7, loss=hinge, penalty=elasticnet ......\n",
            "[CV]  alpha=0.0001, l1_ratio=0.7, loss=hinge, penalty=elasticnet, score=0.785, total=   1.7s\n",
            "[CV] alpha=0.0001, l1_ratio=0.7, loss=hinge, penalty=elasticnet ......\n",
            "[CV]  alpha=0.0001, l1_ratio=0.7, loss=hinge, penalty=elasticnet, score=0.792, total=   1.6s\n",
            "[CV] alpha=0.0001, l1_ratio=0.7, loss=hinge, penalty=elasticnet ......\n",
            "[CV]  alpha=0.0001, l1_ratio=0.7, loss=hinge, penalty=elasticnet, score=0.804, total=   1.7s\n",
            "[CV] alpha=0.0001, l1_ratio=0.7, loss=hinge, penalty=elasticnet ......\n",
            "[CV]  alpha=0.0001, l1_ratio=0.7, loss=hinge, penalty=elasticnet, score=0.801, total=   1.6s\n",
            "[CV] alpha=0.0001, l1_ratio=0.7, loss=hinge, penalty=elasticnet ......\n",
            "[CV]  alpha=0.0001, l1_ratio=0.7, loss=hinge, penalty=elasticnet, score=0.801, total=   1.7s\n",
            "[CV] alpha=0.0001, l1_ratio=1.0, loss=hinge, penalty=elasticnet ......\n",
            "[CV]  alpha=0.0001, l1_ratio=1.0, loss=hinge, penalty=elasticnet, score=0.790, total=   1.5s\n",
            "[CV] alpha=0.0001, l1_ratio=1.0, loss=hinge, penalty=elasticnet ......\n",
            "[CV]  alpha=0.0001, l1_ratio=1.0, loss=hinge, penalty=elasticnet, score=0.796, total=   1.4s\n",
            "[CV] alpha=0.0001, l1_ratio=1.0, loss=hinge, penalty=elasticnet ......\n",
            "[CV]  alpha=0.0001, l1_ratio=1.0, loss=hinge, penalty=elasticnet, score=0.813, total=   1.4s\n",
            "[CV] alpha=0.0001, l1_ratio=1.0, loss=hinge, penalty=elasticnet ......\n",
            "[CV]  alpha=0.0001, l1_ratio=1.0, loss=hinge, penalty=elasticnet, score=0.807, total=   1.5s\n",
            "[CV] alpha=0.0001, l1_ratio=1.0, loss=hinge, penalty=elasticnet ......\n",
            "[CV]  alpha=0.0001, l1_ratio=1.0, loss=hinge, penalty=elasticnet, score=0.806, total=   1.5s\n",
            "[CV] alpha=0.001, l1_ratio=0, loss=hinge, penalty=elasticnet .........\n",
            "[CV]  alpha=0.001, l1_ratio=0, loss=hinge, penalty=elasticnet, score=0.676, total=   1.6s\n",
            "[CV] alpha=0.001, l1_ratio=0, loss=hinge, penalty=elasticnet .........\n",
            "[CV]  alpha=0.001, l1_ratio=0, loss=hinge, penalty=elasticnet, score=0.675, total=   1.6s\n",
            "[CV] alpha=0.001, l1_ratio=0, loss=hinge, penalty=elasticnet .........\n",
            "[CV]  alpha=0.001, l1_ratio=0, loss=hinge, penalty=elasticnet, score=0.683, total=   1.5s\n",
            "[CV] alpha=0.001, l1_ratio=0, loss=hinge, penalty=elasticnet .........\n",
            "[CV]  alpha=0.001, l1_ratio=0, loss=hinge, penalty=elasticnet, score=0.669, total=   1.6s\n",
            "[CV] alpha=0.001, l1_ratio=0, loss=hinge, penalty=elasticnet .........\n",
            "[CV]  alpha=0.001, l1_ratio=0, loss=hinge, penalty=elasticnet, score=0.657, total=   1.5s\n",
            "[CV] alpha=0.001, l1_ratio=0.2, loss=hinge, penalty=elasticnet .......\n",
            "[CV]  alpha=0.001, l1_ratio=0.2, loss=hinge, penalty=elasticnet, score=0.629, total=   1.3s\n",
            "[CV] alpha=0.001, l1_ratio=0.2, loss=hinge, penalty=elasticnet .......\n",
            "[CV]  alpha=0.001, l1_ratio=0.2, loss=hinge, penalty=elasticnet, score=0.624, total=   1.2s\n",
            "[CV] alpha=0.001, l1_ratio=0.2, loss=hinge, penalty=elasticnet .......\n",
            "[CV]  alpha=0.001, l1_ratio=0.2, loss=hinge, penalty=elasticnet, score=0.631, total=   1.3s\n",
            "[CV] alpha=0.001, l1_ratio=0.2, loss=hinge, penalty=elasticnet .......\n",
            "[CV]  alpha=0.001, l1_ratio=0.2, loss=hinge, penalty=elasticnet, score=0.623, total=   1.2s\n",
            "[CV] alpha=0.001, l1_ratio=0.2, loss=hinge, penalty=elasticnet .......\n",
            "[CV]  alpha=0.001, l1_ratio=0.2, loss=hinge, penalty=elasticnet, score=0.614, total=   1.4s\n",
            "[CV] alpha=0.001, l1_ratio=0.7, loss=hinge, penalty=elasticnet .......\n",
            "[CV]  alpha=0.001, l1_ratio=0.7, loss=hinge, penalty=elasticnet, score=0.605, total=   1.2s\n",
            "[CV] alpha=0.001, l1_ratio=0.7, loss=hinge, penalty=elasticnet .......\n",
            "[CV]  alpha=0.001, l1_ratio=0.7, loss=hinge, penalty=elasticnet, score=0.597, total=   1.2s\n",
            "[CV] alpha=0.001, l1_ratio=0.7, loss=hinge, penalty=elasticnet .......\n",
            "[CV]  alpha=0.001, l1_ratio=0.7, loss=hinge, penalty=elasticnet, score=0.599, total=   1.1s\n",
            "[CV] alpha=0.001, l1_ratio=0.7, loss=hinge, penalty=elasticnet .......\n",
            "[CV]  alpha=0.001, l1_ratio=0.7, loss=hinge, penalty=elasticnet, score=0.596, total=   1.3s\n",
            "[CV] alpha=0.001, l1_ratio=0.7, loss=hinge, penalty=elasticnet .......\n",
            "[CV]  alpha=0.001, l1_ratio=0.7, loss=hinge, penalty=elasticnet, score=0.593, total=   1.3s\n",
            "[CV] alpha=0.001, l1_ratio=1.0, loss=hinge, penalty=elasticnet .......\n",
            "[CV]  alpha=0.001, l1_ratio=1.0, loss=hinge, penalty=elasticnet, score=0.627, total=   1.4s\n",
            "[CV] alpha=0.001, l1_ratio=1.0, loss=hinge, penalty=elasticnet .......\n",
            "[CV]  alpha=0.001, l1_ratio=1.0, loss=hinge, penalty=elasticnet, score=0.611, total=   1.5s\n",
            "[CV] alpha=0.001, l1_ratio=1.0, loss=hinge, penalty=elasticnet .......\n",
            "[CV]  alpha=0.001, l1_ratio=1.0, loss=hinge, penalty=elasticnet, score=0.619, total=   1.5s\n",
            "[CV] alpha=0.001, l1_ratio=1.0, loss=hinge, penalty=elasticnet .......\n",
            "[CV]  alpha=0.001, l1_ratio=1.0, loss=hinge, penalty=elasticnet, score=0.619, total=   1.5s\n",
            "[CV] alpha=0.001, l1_ratio=1.0, loss=hinge, penalty=elasticnet .......\n",
            "[CV]  alpha=0.001, l1_ratio=1.0, loss=hinge, penalty=elasticnet, score=0.617, total=   1.5s\n",
            "[CV] alpha=0.01, l1_ratio=0, loss=hinge, penalty=elasticnet ..........\n",
            "[CV]  alpha=0.01, l1_ratio=0, loss=hinge, penalty=elasticnet, score=0.594, total=   1.2s\n",
            "[CV] alpha=0.01, l1_ratio=0, loss=hinge, penalty=elasticnet ..........\n",
            "[CV]  alpha=0.01, l1_ratio=0, loss=hinge, penalty=elasticnet, score=0.598, total=   1.2s\n",
            "[CV] alpha=0.01, l1_ratio=0, loss=hinge, penalty=elasticnet ..........\n",
            "[CV]  alpha=0.01, l1_ratio=0, loss=hinge, penalty=elasticnet, score=0.605, total=   1.2s\n",
            "[CV] alpha=0.01, l1_ratio=0, loss=hinge, penalty=elasticnet ..........\n",
            "[CV]  alpha=0.01, l1_ratio=0, loss=hinge, penalty=elasticnet, score=0.594, total=   1.2s\n",
            "[CV] alpha=0.01, l1_ratio=0, loss=hinge, penalty=elasticnet ..........\n",
            "[CV]  alpha=0.01, l1_ratio=0, loss=hinge, penalty=elasticnet, score=0.588, total=   1.2s\n",
            "[CV] alpha=0.01, l1_ratio=0.2, loss=hinge, penalty=elasticnet ........\n",
            "[CV]  alpha=0.01, l1_ratio=0.2, loss=hinge, penalty=elasticnet, score=0.480, total=   1.0s\n",
            "[CV] alpha=0.01, l1_ratio=0.2, loss=hinge, penalty=elasticnet ........\n",
            "[CV]  alpha=0.01, l1_ratio=0.2, loss=hinge, penalty=elasticnet, score=0.493, total=   1.0s\n",
            "[CV] alpha=0.01, l1_ratio=0.2, loss=hinge, penalty=elasticnet ........\n",
            "[CV]  alpha=0.01, l1_ratio=0.2, loss=hinge, penalty=elasticnet, score=0.501, total=   1.0s\n",
            "[CV] alpha=0.01, l1_ratio=0.2, loss=hinge, penalty=elasticnet ........\n",
            "[CV]  alpha=0.01, l1_ratio=0.2, loss=hinge, penalty=elasticnet, score=0.503, total=   1.0s\n",
            "[CV] alpha=0.01, l1_ratio=0.2, loss=hinge, penalty=elasticnet ........\n",
            "[CV]  alpha=0.01, l1_ratio=0.2, loss=hinge, penalty=elasticnet, score=0.495, total=   1.0s\n",
            "[CV] alpha=0.01, l1_ratio=0.7, loss=hinge, penalty=elasticnet ........\n",
            "[CV]  alpha=0.01, l1_ratio=0.7, loss=hinge, penalty=elasticnet, score=0.396, total=   1.0s\n",
            "[CV] alpha=0.01, l1_ratio=0.7, loss=hinge, penalty=elasticnet ........\n",
            "[CV]  alpha=0.01, l1_ratio=0.7, loss=hinge, penalty=elasticnet, score=0.398, total=   1.0s\n",
            "[CV] alpha=0.01, l1_ratio=0.7, loss=hinge, penalty=elasticnet ........\n",
            "[CV]  alpha=0.01, l1_ratio=0.7, loss=hinge, penalty=elasticnet, score=0.381, total=   0.9s\n",
            "[CV] alpha=0.01, l1_ratio=0.7, loss=hinge, penalty=elasticnet ........\n",
            "[CV]  alpha=0.01, l1_ratio=0.7, loss=hinge, penalty=elasticnet, score=0.390, total=   1.0s\n",
            "[CV] alpha=0.01, l1_ratio=0.7, loss=hinge, penalty=elasticnet ........\n",
            "[CV]  alpha=0.01, l1_ratio=0.7, loss=hinge, penalty=elasticnet, score=0.418, total=   1.0s\n",
            "[CV] alpha=0.01, l1_ratio=1.0, loss=hinge, penalty=elasticnet ........\n",
            "[CV]  alpha=0.01, l1_ratio=1.0, loss=hinge, penalty=elasticnet, score=0.388, total=   1.0s\n",
            "[CV] alpha=0.01, l1_ratio=1.0, loss=hinge, penalty=elasticnet ........\n",
            "[CV]  alpha=0.01, l1_ratio=1.0, loss=hinge, penalty=elasticnet, score=0.419, total=   1.0s\n",
            "[CV] alpha=0.01, l1_ratio=1.0, loss=hinge, penalty=elasticnet ........\n",
            "[CV]  alpha=0.01, l1_ratio=1.0, loss=hinge, penalty=elasticnet, score=0.387, total=   1.0s\n",
            "[CV] alpha=0.01, l1_ratio=1.0, loss=hinge, penalty=elasticnet ........\n",
            "[CV]  alpha=0.01, l1_ratio=1.0, loss=hinge, penalty=elasticnet, score=0.383, total=   1.0s\n",
            "[CV] alpha=0.01, l1_ratio=1.0, loss=hinge, penalty=elasticnet ........\n",
            "[CV]  alpha=0.01, l1_ratio=1.0, loss=hinge, penalty=elasticnet, score=0.386, total=   1.0s\n"
          ],
          "name": "stdout"
        },
        {
          "output_type": "stream",
          "text": [
            "[Parallel(n_jobs=1)]: Done  60 out of  60 | elapsed:  1.4min finished\n"
          ],
          "name": "stderr"
        },
        {
          "output_type": "stream",
          "text": [
            "Best parameters:\n",
            "{'alpha': 0.0001, 'l1_ratio': 1.0, 'loss': 'hinge', 'penalty': 'elasticnet'}\n",
            "Bestf1_weighted:0.8025481835872419\n",
            "Train classification report:\n",
            "              precision    recall  f1-score   support\n",
            "\n",
            "           0       0.83      0.67      0.74     15000\n",
            "           1       0.79      0.93      0.86     15000\n",
            "           2       0.84      0.85      0.84     15000\n",
            "\n",
            "    accuracy                           0.82     45000\n",
            "   macro avg       0.82      0.82      0.81     45000\n",
            "weighted avg       0.82      0.82      0.81     45000\n",
            "\n",
            "Test classification report:\n",
            "              precision    recall  f1-score   support\n",
            "\n",
            "           0       0.80      0.68      0.73      5000\n",
            "           1       0.80      0.91      0.85      5000\n",
            "           2       0.82      0.84      0.83      5000\n",
            "\n",
            "    accuracy                           0.81     15000\n",
            "   macro avg       0.81      0.81      0.81     15000\n",
            "weighted avg       0.81      0.81      0.81     15000\n",
            "\n"
          ],
          "name": "stdout"
        }
      ]
    },
    {
      "cell_type": "code",
      "metadata": {
        "id": "uU2uUbUY5OAz"
      },
      "source": [
        "best_params = {}\n",
        "best_params['SGDClassifier'] = {'alpha': 0.0001, 'l1_ratio': 1.0, 'loss': 'hinge', 'penalty': 'elasticnet'}\n",
        "best_params['RandomForestClassifier'] = {'max_depth': 20, 'n_estimators': 600}\n",
        "best_params['LinearSVC'] = {'C': 1.0}\n",
        "best_params['LogisticRegression'] = {'C': 1.0, 'max_iter': 150, 'multi_class': 'auto'}"
      ],
      "execution_count": null,
      "outputs": []
    },
    {
      "cell_type": "code",
      "metadata": {
        "id": "1CjFeTshAidJ"
      },
      "source": [
        "rf = RandomForestClassifier('max_depth': 20, 'n_estimators': 600)\n",
        "rf.fit(d_train,y_train)\n",
        "feat_imp = rf.feature_importances_\n",
        "s = np.argsort(feat_imp)"
      ],
      "execution_count": null,
      "outputs": []
    },
    {
      "cell_type": "markdown",
      "metadata": {
        "id": "RJpttnpj4EwM"
      },
      "source": [
        "# Loading data - 2-gram\n",
        " "
      ]
    },
    {
      "cell_type": "code",
      "metadata": {
        "id": "gKaUPwrE6WDv",
        "colab": {
          "base_uri": "https://localhost:8080/"
        },
        "outputId": "3b428c87-854e-4b86-e1b7-22e0e0b85ef7"
      },
      "source": [
        "train_path = 'drive/MyDrive/EE769Project/train.csv'\n",
        "test_path = 'drive/MyDrive/EE769Project/valid.csv'\n",
        "d_train2,c_train2,tf_train2,y_train2 = get_data2(train_path,g=2)\n",
        "d_test2,c_train2,tf_train2,y_test2 = get_data2(test_path,g=2,c=c_train2,tf=tf_train2,train=0)\n",
        "\n",
        "print(d_train2.shape)\n",
        "print(d_test2.shape)\n",
        "\n",
        "new_values = {'HQ':2, 'LQ_EDIT':1, 'LQ_CLOSE':0}\n",
        "y_train2  = y_train2.replace(new_values)\n",
        "y_test2 = y_test2.replace(new_values)\n",
        "\n",
        "print(y_train2.shape)\n",
        "print(y_test2.shape)"
      ],
      "execution_count": null,
      "outputs": [
        {
          "output_type": "stream",
          "text": [
            "(45000, 1825724)\n",
            "(15000, 1825724)\n",
            "(45000,)\n",
            "(15000,)\n"
          ],
          "name": "stdout"
        }
      ]
    },
    {
      "cell_type": "markdown",
      "metadata": {
        "id": "bw2eX9PcpDcV"
      },
      "source": [
        "# Model Training and Testing"
      ]
    },
    {
      "cell_type": "code",
      "metadata": {
        "id": "84BWdeJJ4KmL",
        "colab": {
          "base_uri": "https://localhost:8080/"
        },
        "outputId": "e2dfcd59-4708-4d93-d9d5-5d1be6d78373"
      },
      "source": [
        "result_dict2 = {}\n",
        "model_order = ['LogisticRegression','LinearSVC','RandomForestClassifier','SGDClassifier','GradientBoostingClassifier']\n",
        "for clf_str in model_order:\n",
        "    if clf_str == 'LogisticRegression':\n",
        "        params = {'C':[0.01,0.1,1.0,10.0,100.0],'max_iter':[50,150,300,600],'multi_class':['auto']}\n",
        "    elif clf_str == 'RandomForestClassifier':\n",
        "        params = {'n_estimators': [50,200,600],\n",
        "                  'max_depth': [10,15,20]}\n",
        "    elif clf_str == 'GradientBoostingClassifier':\n",
        "        params = {'n_estimators': [50,200,600],\n",
        "                  'learning_rate': [0.01,0.1,0.5]}\n",
        "    elif clf_str == 'LinearSVC':\n",
        "        params = {'C':[0.01,0.1,1.0,10.0,100.0]}\n",
        "    elif clf_str == 'SGDClassifier':\n",
        "        params = {'loss':['hinge'],'alpha':[0.0001,0.001,0.01],'penalty':['elasticnet'],'l1_ratio':[0,0.2,0.7,1.0]}\n",
        "    clf_fn = clf_dict[clf_str]\n",
        "    print(\" \")\n",
        "    print(\"##########################################################################################################\")\n",
        "    print(\"Now doing\",clf_str)\n",
        "    opt = do_gridSearch(clf_fn,d_train2,y_train2,d_test2,y_test2,params)\n",
        "    result_dict2[clf_str] = opt"
      ],
      "execution_count": null,
      "outputs": [
        {
          "output_type": "stream",
          "text": [
            " \n",
            "##########################################################################################################\n",
            "Now doing LogisticRegression\n",
            "Fitting 5 folds for each of 20 candidates, totalling 100 fits\n",
            "[CV] C=0.01, max_iter=50, multi_class=auto ...........................\n"
          ],
          "name": "stdout"
        },
        {
          "output_type": "stream",
          "text": [
            "[Parallel(n_jobs=1)]: Using backend SequentialBackend with 1 concurrent workers.\n"
          ],
          "name": "stderr"
        },
        {
          "output_type": "stream",
          "text": [
            "[CV]  C=0.01, max_iter=50, multi_class=auto, score=0.669, total=  27.6s\n",
            "[CV] C=0.01, max_iter=50, multi_class=auto ...........................\n"
          ],
          "name": "stdout"
        },
        {
          "output_type": "stream",
          "text": [
            "[Parallel(n_jobs=1)]: Done   1 out of   1 | elapsed:   27.6s remaining:    0.0s\n"
          ],
          "name": "stderr"
        },
        {
          "output_type": "stream",
          "text": [
            "[CV]  C=0.01, max_iter=50, multi_class=auto, score=0.673, total=  27.7s\n",
            "[CV] C=0.01, max_iter=50, multi_class=auto ...........................\n"
          ],
          "name": "stdout"
        },
        {
          "output_type": "stream",
          "text": [
            "[Parallel(n_jobs=1)]: Done   2 out of   2 | elapsed:   55.3s remaining:    0.0s\n"
          ],
          "name": "stderr"
        },
        {
          "output_type": "stream",
          "text": [
            "[CV]  C=0.01, max_iter=50, multi_class=auto, score=0.688, total=  28.5s\n",
            "[CV] C=0.01, max_iter=50, multi_class=auto ...........................\n",
            "[CV]  C=0.01, max_iter=50, multi_class=auto, score=0.692, total=  27.8s\n",
            "[CV] C=0.01, max_iter=50, multi_class=auto ...........................\n",
            "[CV]  C=0.01, max_iter=50, multi_class=auto, score=0.685, total=  32.5s\n",
            "[CV] C=0.01, max_iter=150, multi_class=auto ..........................\n",
            "[CV]  C=0.01, max_iter=150, multi_class=auto, score=0.669, total=  26.7s\n",
            "[CV] C=0.01, max_iter=150, multi_class=auto ..........................\n",
            "[CV]  C=0.01, max_iter=150, multi_class=auto, score=0.673, total=  27.6s\n",
            "[CV] C=0.01, max_iter=150, multi_class=auto ..........................\n",
            "[CV]  C=0.01, max_iter=150, multi_class=auto, score=0.688, total=  28.2s\n",
            "[CV] C=0.01, max_iter=150, multi_class=auto ..........................\n",
            "[CV]  C=0.01, max_iter=150, multi_class=auto, score=0.692, total=  27.5s\n",
            "[CV] C=0.01, max_iter=150, multi_class=auto ..........................\n",
            "[CV]  C=0.01, max_iter=150, multi_class=auto, score=0.685, total=  32.1s\n",
            "[CV] C=0.01, max_iter=300, multi_class=auto ..........................\n",
            "[CV]  C=0.01, max_iter=300, multi_class=auto, score=0.669, total=  29.4s\n",
            "[CV] C=0.01, max_iter=300, multi_class=auto ..........................\n",
            "[CV]  C=0.01, max_iter=300, multi_class=auto, score=0.673, total=  29.1s\n",
            "[CV] C=0.01, max_iter=300, multi_class=auto ..........................\n",
            "[CV]  C=0.01, max_iter=300, multi_class=auto, score=0.688, total=  29.4s\n",
            "[CV] C=0.01, max_iter=300, multi_class=auto ..........................\n",
            "[CV]  C=0.01, max_iter=300, multi_class=auto, score=0.692, total=  28.7s\n",
            "[CV] C=0.01, max_iter=300, multi_class=auto ..........................\n",
            "[CV]  C=0.01, max_iter=300, multi_class=auto, score=0.685, total=  33.5s\n",
            "[CV] C=0.01, max_iter=600, multi_class=auto ..........................\n",
            "[CV]  C=0.01, max_iter=600, multi_class=auto, score=0.669, total=  27.6s\n",
            "[CV] C=0.01, max_iter=600, multi_class=auto ..........................\n",
            "[CV]  C=0.01, max_iter=600, multi_class=auto, score=0.673, total=  28.6s\n",
            "[CV] C=0.01, max_iter=600, multi_class=auto ..........................\n",
            "[CV]  C=0.01, max_iter=600, multi_class=auto, score=0.688, total=  29.5s\n",
            "[CV] C=0.01, max_iter=600, multi_class=auto ..........................\n",
            "[CV]  C=0.01, max_iter=600, multi_class=auto, score=0.692, total=  28.7s\n",
            "[CV] C=0.01, max_iter=600, multi_class=auto ..........................\n",
            "[CV]  C=0.01, max_iter=600, multi_class=auto, score=0.685, total=  33.7s\n",
            "[CV] C=0.1, max_iter=50, multi_class=auto ............................\n"
          ],
          "name": "stdout"
        },
        {
          "output_type": "stream",
          "text": [
            "/usr/local/lib/python3.7/dist-packages/sklearn/linear_model/_logistic.py:940: ConvergenceWarning: lbfgs failed to converge (status=1):\n",
            "STOP: TOTAL NO. of ITERATIONS REACHED LIMIT.\n",
            "\n",
            "Increase the number of iterations (max_iter) or scale the data as shown in:\n",
            "    https://scikit-learn.org/stable/modules/preprocessing.html\n",
            "Please also refer to the documentation for alternative solver options:\n",
            "    https://scikit-learn.org/stable/modules/linear_model.html#logistic-regression\n",
            "  extra_warning_msg=_LOGISTIC_SOLVER_CONVERGENCE_MSG)\n"
          ],
          "name": "stderr"
        },
        {
          "output_type": "stream",
          "text": [
            "[CV]  C=0.1, max_iter=50, multi_class=auto, score=0.756, total= 1.1min\n",
            "[CV] C=0.1, max_iter=50, multi_class=auto ............................\n"
          ],
          "name": "stdout"
        },
        {
          "output_type": "stream",
          "text": [
            "/usr/local/lib/python3.7/dist-packages/sklearn/linear_model/_logistic.py:940: ConvergenceWarning: lbfgs failed to converge (status=1):\n",
            "STOP: TOTAL NO. of ITERATIONS REACHED LIMIT.\n",
            "\n",
            "Increase the number of iterations (max_iter) or scale the data as shown in:\n",
            "    https://scikit-learn.org/stable/modules/preprocessing.html\n",
            "Please also refer to the documentation for alternative solver options:\n",
            "    https://scikit-learn.org/stable/modules/linear_model.html#logistic-regression\n",
            "  extra_warning_msg=_LOGISTIC_SOLVER_CONVERGENCE_MSG)\n"
          ],
          "name": "stderr"
        },
        {
          "output_type": "stream",
          "text": [
            "[CV]  C=0.1, max_iter=50, multi_class=auto, score=0.768, total= 1.1min\n",
            "[CV] C=0.1, max_iter=50, multi_class=auto ............................\n"
          ],
          "name": "stdout"
        },
        {
          "output_type": "stream",
          "text": [
            "/usr/local/lib/python3.7/dist-packages/sklearn/linear_model/_logistic.py:940: ConvergenceWarning: lbfgs failed to converge (status=1):\n",
            "STOP: TOTAL NO. of ITERATIONS REACHED LIMIT.\n",
            "\n",
            "Increase the number of iterations (max_iter) or scale the data as shown in:\n",
            "    https://scikit-learn.org/stable/modules/preprocessing.html\n",
            "Please also refer to the documentation for alternative solver options:\n",
            "    https://scikit-learn.org/stable/modules/linear_model.html#logistic-regression\n",
            "  extra_warning_msg=_LOGISTIC_SOLVER_CONVERGENCE_MSG)\n"
          ],
          "name": "stderr"
        },
        {
          "output_type": "stream",
          "text": [
            "[CV]  C=0.1, max_iter=50, multi_class=auto, score=0.782, total= 1.1min\n",
            "[CV] C=0.1, max_iter=50, multi_class=auto ............................\n"
          ],
          "name": "stdout"
        },
        {
          "output_type": "stream",
          "text": [
            "/usr/local/lib/python3.7/dist-packages/sklearn/linear_model/_logistic.py:940: ConvergenceWarning: lbfgs failed to converge (status=1):\n",
            "STOP: TOTAL NO. of ITERATIONS REACHED LIMIT.\n",
            "\n",
            "Increase the number of iterations (max_iter) or scale the data as shown in:\n",
            "    https://scikit-learn.org/stable/modules/preprocessing.html\n",
            "Please also refer to the documentation for alternative solver options:\n",
            "    https://scikit-learn.org/stable/modules/linear_model.html#logistic-regression\n",
            "  extra_warning_msg=_LOGISTIC_SOLVER_CONVERGENCE_MSG)\n"
          ],
          "name": "stderr"
        },
        {
          "output_type": "stream",
          "text": [
            "[CV]  C=0.1, max_iter=50, multi_class=auto, score=0.781, total= 1.1min\n",
            "[CV] C=0.1, max_iter=50, multi_class=auto ............................\n"
          ],
          "name": "stdout"
        },
        {
          "output_type": "stream",
          "text": [
            "/usr/local/lib/python3.7/dist-packages/sklearn/linear_model/_logistic.py:940: ConvergenceWarning: lbfgs failed to converge (status=1):\n",
            "STOP: TOTAL NO. of ITERATIONS REACHED LIMIT.\n",
            "\n",
            "Increase the number of iterations (max_iter) or scale the data as shown in:\n",
            "    https://scikit-learn.org/stable/modules/preprocessing.html\n",
            "Please also refer to the documentation for alternative solver options:\n",
            "    https://scikit-learn.org/stable/modules/linear_model.html#logistic-regression\n",
            "  extra_warning_msg=_LOGISTIC_SOLVER_CONVERGENCE_MSG)\n"
          ],
          "name": "stderr"
        },
        {
          "output_type": "stream",
          "text": [
            "[CV]  C=0.1, max_iter=50, multi_class=auto, score=0.779, total= 1.1min\n",
            "[CV] C=0.1, max_iter=150, multi_class=auto ...........................\n",
            "[CV]  C=0.1, max_iter=150, multi_class=auto, score=0.756, total= 1.2min\n",
            "[CV] C=0.1, max_iter=150, multi_class=auto ...........................\n",
            "[CV]  C=0.1, max_iter=150, multi_class=auto, score=0.768, total= 1.6min\n",
            "[CV] C=0.1, max_iter=150, multi_class=auto ...........................\n",
            "[CV]  C=0.1, max_iter=150, multi_class=auto, score=0.781, total= 1.5min\n",
            "[CV] C=0.1, max_iter=150, multi_class=auto ...........................\n",
            "[CV]  C=0.1, max_iter=150, multi_class=auto, score=0.781, total= 1.4min\n",
            "[CV] C=0.1, max_iter=150, multi_class=auto ...........................\n",
            "[CV]  C=0.1, max_iter=150, multi_class=auto, score=0.779, total= 1.4min\n",
            "[CV] C=0.1, max_iter=300, multi_class=auto ...........................\n",
            "[CV]  C=0.1, max_iter=300, multi_class=auto, score=0.756, total= 1.1min\n",
            "[CV] C=0.1, max_iter=300, multi_class=auto ...........................\n",
            "[CV]  C=0.1, max_iter=300, multi_class=auto, score=0.768, total= 1.5min\n",
            "[CV] C=0.1, max_iter=300, multi_class=auto ...........................\n",
            "[CV]  C=0.1, max_iter=300, multi_class=auto, score=0.781, total= 1.5min\n",
            "[CV] C=0.1, max_iter=300, multi_class=auto ...........................\n",
            "[CV]  C=0.1, max_iter=300, multi_class=auto, score=0.781, total= 1.3min\n",
            "[CV] C=0.1, max_iter=300, multi_class=auto ...........................\n",
            "[CV]  C=0.1, max_iter=300, multi_class=auto, score=0.779, total= 1.4min\n",
            "[CV] C=0.1, max_iter=600, multi_class=auto ...........................\n",
            "[CV]  C=0.1, max_iter=600, multi_class=auto, score=0.756, total= 1.1min\n",
            "[CV] C=0.1, max_iter=600, multi_class=auto ...........................\n",
            "[CV]  C=0.1, max_iter=600, multi_class=auto, score=0.768, total= 1.5min\n",
            "[CV] C=0.1, max_iter=600, multi_class=auto ...........................\n",
            "[CV]  C=0.1, max_iter=600, multi_class=auto, score=0.781, total= 1.5min\n",
            "[CV] C=0.1, max_iter=600, multi_class=auto ...........................\n",
            "[CV]  C=0.1, max_iter=600, multi_class=auto, score=0.781, total= 1.3min\n",
            "[CV] C=0.1, max_iter=600, multi_class=auto ...........................\n",
            "[CV]  C=0.1, max_iter=600, multi_class=auto, score=0.779, total= 1.4min\n",
            "[CV] C=1.0, max_iter=50, multi_class=auto ............................\n"
          ],
          "name": "stdout"
        },
        {
          "output_type": "stream",
          "text": [
            "/usr/local/lib/python3.7/dist-packages/sklearn/linear_model/_logistic.py:940: ConvergenceWarning: lbfgs failed to converge (status=1):\n",
            "STOP: TOTAL NO. of ITERATIONS REACHED LIMIT.\n",
            "\n",
            "Increase the number of iterations (max_iter) or scale the data as shown in:\n",
            "    https://scikit-learn.org/stable/modules/preprocessing.html\n",
            "Please also refer to the documentation for alternative solver options:\n",
            "    https://scikit-learn.org/stable/modules/linear_model.html#logistic-regression\n",
            "  extra_warning_msg=_LOGISTIC_SOLVER_CONVERGENCE_MSG)\n"
          ],
          "name": "stderr"
        },
        {
          "output_type": "stream",
          "text": [
            "[CV]  C=1.0, max_iter=50, multi_class=auto, score=0.814, total= 1.1min\n",
            "[CV] C=1.0, max_iter=50, multi_class=auto ............................\n"
          ],
          "name": "stdout"
        },
        {
          "output_type": "stream",
          "text": [
            "/usr/local/lib/python3.7/dist-packages/sklearn/linear_model/_logistic.py:940: ConvergenceWarning: lbfgs failed to converge (status=1):\n",
            "STOP: TOTAL NO. of ITERATIONS REACHED LIMIT.\n",
            "\n",
            "Increase the number of iterations (max_iter) or scale the data as shown in:\n",
            "    https://scikit-learn.org/stable/modules/preprocessing.html\n",
            "Please also refer to the documentation for alternative solver options:\n",
            "    https://scikit-learn.org/stable/modules/linear_model.html#logistic-regression\n",
            "  extra_warning_msg=_LOGISTIC_SOLVER_CONVERGENCE_MSG)\n"
          ],
          "name": "stderr"
        },
        {
          "output_type": "stream",
          "text": [
            "[CV]  C=1.0, max_iter=50, multi_class=auto, score=0.817, total= 1.1min\n",
            "[CV] C=1.0, max_iter=50, multi_class=auto ............................\n"
          ],
          "name": "stdout"
        },
        {
          "output_type": "stream",
          "text": [
            "/usr/local/lib/python3.7/dist-packages/sklearn/linear_model/_logistic.py:940: ConvergenceWarning: lbfgs failed to converge (status=1):\n",
            "STOP: TOTAL NO. of ITERATIONS REACHED LIMIT.\n",
            "\n",
            "Increase the number of iterations (max_iter) or scale the data as shown in:\n",
            "    https://scikit-learn.org/stable/modules/preprocessing.html\n",
            "Please also refer to the documentation for alternative solver options:\n",
            "    https://scikit-learn.org/stable/modules/linear_model.html#logistic-regression\n",
            "  extra_warning_msg=_LOGISTIC_SOLVER_CONVERGENCE_MSG)\n"
          ],
          "name": "stderr"
        },
        {
          "output_type": "stream",
          "text": [
            "[CV]  C=1.0, max_iter=50, multi_class=auto, score=0.826, total= 1.1min\n",
            "[CV] C=1.0, max_iter=50, multi_class=auto ............................\n"
          ],
          "name": "stdout"
        },
        {
          "output_type": "stream",
          "text": [
            "/usr/local/lib/python3.7/dist-packages/sklearn/linear_model/_logistic.py:940: ConvergenceWarning: lbfgs failed to converge (status=1):\n",
            "STOP: TOTAL NO. of ITERATIONS REACHED LIMIT.\n",
            "\n",
            "Increase the number of iterations (max_iter) or scale the data as shown in:\n",
            "    https://scikit-learn.org/stable/modules/preprocessing.html\n",
            "Please also refer to the documentation for alternative solver options:\n",
            "    https://scikit-learn.org/stable/modules/linear_model.html#logistic-regression\n",
            "  extra_warning_msg=_LOGISTIC_SOLVER_CONVERGENCE_MSG)\n"
          ],
          "name": "stderr"
        },
        {
          "output_type": "stream",
          "text": [
            "[CV]  C=1.0, max_iter=50, multi_class=auto, score=0.827, total= 1.1min\n",
            "[CV] C=1.0, max_iter=50, multi_class=auto ............................\n"
          ],
          "name": "stdout"
        },
        {
          "output_type": "stream",
          "text": [
            "/usr/local/lib/python3.7/dist-packages/sklearn/linear_model/_logistic.py:940: ConvergenceWarning: lbfgs failed to converge (status=1):\n",
            "STOP: TOTAL NO. of ITERATIONS REACHED LIMIT.\n",
            "\n",
            "Increase the number of iterations (max_iter) or scale the data as shown in:\n",
            "    https://scikit-learn.org/stable/modules/preprocessing.html\n",
            "Please also refer to the documentation for alternative solver options:\n",
            "    https://scikit-learn.org/stable/modules/linear_model.html#logistic-regression\n",
            "  extra_warning_msg=_LOGISTIC_SOLVER_CONVERGENCE_MSG)\n"
          ],
          "name": "stderr"
        },
        {
          "output_type": "stream",
          "text": [
            "[CV]  C=1.0, max_iter=50, multi_class=auto, score=0.823, total= 1.1min\n",
            "[CV] C=1.0, max_iter=150, multi_class=auto ...........................\n"
          ],
          "name": "stdout"
        },
        {
          "output_type": "stream",
          "text": [
            "/usr/local/lib/python3.7/dist-packages/sklearn/linear_model/_logistic.py:940: ConvergenceWarning: lbfgs failed to converge (status=1):\n",
            "STOP: TOTAL NO. of ITERATIONS REACHED LIMIT.\n",
            "\n",
            "Increase the number of iterations (max_iter) or scale the data as shown in:\n",
            "    https://scikit-learn.org/stable/modules/preprocessing.html\n",
            "Please also refer to the documentation for alternative solver options:\n",
            "    https://scikit-learn.org/stable/modules/linear_model.html#logistic-regression\n",
            "  extra_warning_msg=_LOGISTIC_SOLVER_CONVERGENCE_MSG)\n"
          ],
          "name": "stderr"
        },
        {
          "output_type": "stream",
          "text": [
            "[CV]  C=1.0, max_iter=150, multi_class=auto, score=0.813, total= 3.2min\n",
            "[CV] C=1.0, max_iter=150, multi_class=auto ...........................\n"
          ],
          "name": "stdout"
        },
        {
          "output_type": "stream",
          "text": [
            "/usr/local/lib/python3.7/dist-packages/sklearn/linear_model/_logistic.py:940: ConvergenceWarning: lbfgs failed to converge (status=1):\n",
            "STOP: TOTAL NO. of ITERATIONS REACHED LIMIT.\n",
            "\n",
            "Increase the number of iterations (max_iter) or scale the data as shown in:\n",
            "    https://scikit-learn.org/stable/modules/preprocessing.html\n",
            "Please also refer to the documentation for alternative solver options:\n",
            "    https://scikit-learn.org/stable/modules/linear_model.html#logistic-regression\n",
            "  extra_warning_msg=_LOGISTIC_SOLVER_CONVERGENCE_MSG)\n"
          ],
          "name": "stderr"
        },
        {
          "output_type": "stream",
          "text": [
            "[CV]  C=1.0, max_iter=150, multi_class=auto, score=0.818, total= 3.2min\n",
            "[CV] C=1.0, max_iter=150, multi_class=auto ...........................\n"
          ],
          "name": "stdout"
        },
        {
          "output_type": "stream",
          "text": [
            "/usr/local/lib/python3.7/dist-packages/sklearn/linear_model/_logistic.py:940: ConvergenceWarning: lbfgs failed to converge (status=1):\n",
            "STOP: TOTAL NO. of ITERATIONS REACHED LIMIT.\n",
            "\n",
            "Increase the number of iterations (max_iter) or scale the data as shown in:\n",
            "    https://scikit-learn.org/stable/modules/preprocessing.html\n",
            "Please also refer to the documentation for alternative solver options:\n",
            "    https://scikit-learn.org/stable/modules/linear_model.html#logistic-regression\n",
            "  extra_warning_msg=_LOGISTIC_SOLVER_CONVERGENCE_MSG)\n"
          ],
          "name": "stderr"
        },
        {
          "output_type": "stream",
          "text": [
            "[CV]  C=1.0, max_iter=150, multi_class=auto, score=0.828, total= 3.3min\n",
            "[CV] C=1.0, max_iter=150, multi_class=auto ...........................\n"
          ],
          "name": "stdout"
        },
        {
          "output_type": "stream",
          "text": [
            "/usr/local/lib/python3.7/dist-packages/sklearn/linear_model/_logistic.py:940: ConvergenceWarning: lbfgs failed to converge (status=1):\n",
            "STOP: TOTAL NO. of ITERATIONS REACHED LIMIT.\n",
            "\n",
            "Increase the number of iterations (max_iter) or scale the data as shown in:\n",
            "    https://scikit-learn.org/stable/modules/preprocessing.html\n",
            "Please also refer to the documentation for alternative solver options:\n",
            "    https://scikit-learn.org/stable/modules/linear_model.html#logistic-regression\n",
            "  extra_warning_msg=_LOGISTIC_SOLVER_CONVERGENCE_MSG)\n"
          ],
          "name": "stderr"
        },
        {
          "output_type": "stream",
          "text": [
            "[CV]  C=1.0, max_iter=150, multi_class=auto, score=0.826, total= 3.2min\n",
            "[CV] C=1.0, max_iter=150, multi_class=auto ...........................\n"
          ],
          "name": "stdout"
        },
        {
          "output_type": "stream",
          "text": [
            "/usr/local/lib/python3.7/dist-packages/sklearn/linear_model/_logistic.py:940: ConvergenceWarning: lbfgs failed to converge (status=1):\n",
            "STOP: TOTAL NO. of ITERATIONS REACHED LIMIT.\n",
            "\n",
            "Increase the number of iterations (max_iter) or scale the data as shown in:\n",
            "    https://scikit-learn.org/stable/modules/preprocessing.html\n",
            "Please also refer to the documentation for alternative solver options:\n",
            "    https://scikit-learn.org/stable/modules/linear_model.html#logistic-regression\n",
            "  extra_warning_msg=_LOGISTIC_SOLVER_CONVERGENCE_MSG)\n"
          ],
          "name": "stderr"
        },
        {
          "output_type": "stream",
          "text": [
            "[CV]  C=1.0, max_iter=150, multi_class=auto, score=0.822, total= 3.2min\n",
            "[CV] C=1.0, max_iter=300, multi_class=auto ...........................\n",
            "[CV]  C=1.0, max_iter=300, multi_class=auto, score=0.813, total= 3.4min\n",
            "[CV] C=1.0, max_iter=300, multi_class=auto ...........................\n",
            "[CV]  C=1.0, max_iter=300, multi_class=auto, score=0.818, total= 3.5min\n",
            "[CV] C=1.0, max_iter=300, multi_class=auto ...........................\n",
            "[CV]  C=1.0, max_iter=300, multi_class=auto, score=0.828, total= 3.3min\n",
            "[CV] C=1.0, max_iter=300, multi_class=auto ...........................\n",
            "[CV]  C=1.0, max_iter=300, multi_class=auto, score=0.826, total= 3.4min\n",
            "[CV] C=1.0, max_iter=300, multi_class=auto ...........................\n",
            "[CV]  C=1.0, max_iter=300, multi_class=auto, score=0.822, total= 3.7min\n",
            "[CV] C=1.0, max_iter=600, multi_class=auto ...........................\n",
            "[CV]  C=1.0, max_iter=600, multi_class=auto, score=0.813, total= 3.3min\n",
            "[CV] C=1.0, max_iter=600, multi_class=auto ...........................\n",
            "[CV]  C=1.0, max_iter=600, multi_class=auto, score=0.818, total= 3.5min\n",
            "[CV] C=1.0, max_iter=600, multi_class=auto ...........................\n",
            "[CV]  C=1.0, max_iter=600, multi_class=auto, score=0.828, total= 3.4min\n",
            "[CV] C=1.0, max_iter=600, multi_class=auto ...........................\n",
            "[CV]  C=1.0, max_iter=600, multi_class=auto, score=0.826, total= 3.4min\n",
            "[CV] C=1.0, max_iter=600, multi_class=auto ...........................\n",
            "[CV]  C=1.0, max_iter=600, multi_class=auto, score=0.822, total= 3.7min\n",
            "[CV] C=10.0, max_iter=50, multi_class=auto ...........................\n"
          ],
          "name": "stdout"
        },
        {
          "output_type": "stream",
          "text": [
            "/usr/local/lib/python3.7/dist-packages/sklearn/linear_model/_logistic.py:940: ConvergenceWarning: lbfgs failed to converge (status=1):\n",
            "STOP: TOTAL NO. of ITERATIONS REACHED LIMIT.\n",
            "\n",
            "Increase the number of iterations (max_iter) or scale the data as shown in:\n",
            "    https://scikit-learn.org/stable/modules/preprocessing.html\n",
            "Please also refer to the documentation for alternative solver options:\n",
            "    https://scikit-learn.org/stable/modules/linear_model.html#logistic-regression\n",
            "  extra_warning_msg=_LOGISTIC_SOLVER_CONVERGENCE_MSG)\n"
          ],
          "name": "stderr"
        },
        {
          "output_type": "stream",
          "text": [
            "[CV]  C=10.0, max_iter=50, multi_class=auto, score=0.818, total= 1.1min\n",
            "[CV] C=10.0, max_iter=50, multi_class=auto ...........................\n"
          ],
          "name": "stdout"
        },
        {
          "output_type": "stream",
          "text": [
            "/usr/local/lib/python3.7/dist-packages/sklearn/linear_model/_logistic.py:940: ConvergenceWarning: lbfgs failed to converge (status=1):\n",
            "STOP: TOTAL NO. of ITERATIONS REACHED LIMIT.\n",
            "\n",
            "Increase the number of iterations (max_iter) or scale the data as shown in:\n",
            "    https://scikit-learn.org/stable/modules/preprocessing.html\n",
            "Please also refer to the documentation for alternative solver options:\n",
            "    https://scikit-learn.org/stable/modules/linear_model.html#logistic-regression\n",
            "  extra_warning_msg=_LOGISTIC_SOLVER_CONVERGENCE_MSG)\n"
          ],
          "name": "stderr"
        },
        {
          "output_type": "stream",
          "text": [
            "[CV]  C=10.0, max_iter=50, multi_class=auto, score=0.828, total= 1.1min\n",
            "[CV] C=10.0, max_iter=50, multi_class=auto ...........................\n"
          ],
          "name": "stdout"
        },
        {
          "output_type": "stream",
          "text": [
            "/usr/local/lib/python3.7/dist-packages/sklearn/linear_model/_logistic.py:940: ConvergenceWarning: lbfgs failed to converge (status=1):\n",
            "STOP: TOTAL NO. of ITERATIONS REACHED LIMIT.\n",
            "\n",
            "Increase the number of iterations (max_iter) or scale the data as shown in:\n",
            "    https://scikit-learn.org/stable/modules/preprocessing.html\n",
            "Please also refer to the documentation for alternative solver options:\n",
            "    https://scikit-learn.org/stable/modules/linear_model.html#logistic-regression\n",
            "  extra_warning_msg=_LOGISTIC_SOLVER_CONVERGENCE_MSG)\n"
          ],
          "name": "stderr"
        },
        {
          "output_type": "stream",
          "text": [
            "[CV]  C=10.0, max_iter=50, multi_class=auto, score=0.841, total= 1.1min\n",
            "[CV] C=10.0, max_iter=50, multi_class=auto ...........................\n"
          ],
          "name": "stdout"
        },
        {
          "output_type": "stream",
          "text": [
            "/usr/local/lib/python3.7/dist-packages/sklearn/linear_model/_logistic.py:940: ConvergenceWarning: lbfgs failed to converge (status=1):\n",
            "STOP: TOTAL NO. of ITERATIONS REACHED LIMIT.\n",
            "\n",
            "Increase the number of iterations (max_iter) or scale the data as shown in:\n",
            "    https://scikit-learn.org/stable/modules/preprocessing.html\n",
            "Please also refer to the documentation for alternative solver options:\n",
            "    https://scikit-learn.org/stable/modules/linear_model.html#logistic-regression\n",
            "  extra_warning_msg=_LOGISTIC_SOLVER_CONVERGENCE_MSG)\n"
          ],
          "name": "stderr"
        },
        {
          "output_type": "stream",
          "text": [
            "[CV]  C=10.0, max_iter=50, multi_class=auto, score=0.836, total= 1.1min\n",
            "[CV] C=10.0, max_iter=50, multi_class=auto ...........................\n"
          ],
          "name": "stdout"
        },
        {
          "output_type": "stream",
          "text": [
            "/usr/local/lib/python3.7/dist-packages/sklearn/linear_model/_logistic.py:940: ConvergenceWarning: lbfgs failed to converge (status=1):\n",
            "STOP: TOTAL NO. of ITERATIONS REACHED LIMIT.\n",
            "\n",
            "Increase the number of iterations (max_iter) or scale the data as shown in:\n",
            "    https://scikit-learn.org/stable/modules/preprocessing.html\n",
            "Please also refer to the documentation for alternative solver options:\n",
            "    https://scikit-learn.org/stable/modules/linear_model.html#logistic-regression\n",
            "  extra_warning_msg=_LOGISTIC_SOLVER_CONVERGENCE_MSG)\n"
          ],
          "name": "stderr"
        },
        {
          "output_type": "stream",
          "text": [
            "[CV]  C=10.0, max_iter=50, multi_class=auto, score=0.835, total= 1.1min\n",
            "[CV] C=10.0, max_iter=150, multi_class=auto ..........................\n"
          ],
          "name": "stdout"
        },
        {
          "output_type": "stream",
          "text": [
            "/usr/local/lib/python3.7/dist-packages/sklearn/linear_model/_logistic.py:940: ConvergenceWarning: lbfgs failed to converge (status=1):\n",
            "STOP: TOTAL NO. of ITERATIONS REACHED LIMIT.\n",
            "\n",
            "Increase the number of iterations (max_iter) or scale the data as shown in:\n",
            "    https://scikit-learn.org/stable/modules/preprocessing.html\n",
            "Please also refer to the documentation for alternative solver options:\n",
            "    https://scikit-learn.org/stable/modules/linear_model.html#logistic-regression\n",
            "  extra_warning_msg=_LOGISTIC_SOLVER_CONVERGENCE_MSG)\n"
          ],
          "name": "stderr"
        },
        {
          "output_type": "stream",
          "text": [
            "[CV]  C=10.0, max_iter=150, multi_class=auto, score=0.824, total= 3.2min\n",
            "[CV] C=10.0, max_iter=150, multi_class=auto ..........................\n"
          ],
          "name": "stdout"
        },
        {
          "output_type": "stream",
          "text": [
            "/usr/local/lib/python3.7/dist-packages/sklearn/linear_model/_logistic.py:940: ConvergenceWarning: lbfgs failed to converge (status=1):\n",
            "STOP: TOTAL NO. of ITERATIONS REACHED LIMIT.\n",
            "\n",
            "Increase the number of iterations (max_iter) or scale the data as shown in:\n",
            "    https://scikit-learn.org/stable/modules/preprocessing.html\n",
            "Please also refer to the documentation for alternative solver options:\n",
            "    https://scikit-learn.org/stable/modules/linear_model.html#logistic-regression\n",
            "  extra_warning_msg=_LOGISTIC_SOLVER_CONVERGENCE_MSG)\n"
          ],
          "name": "stderr"
        },
        {
          "output_type": "stream",
          "text": [
            "[CV]  C=10.0, max_iter=150, multi_class=auto, score=0.829, total= 3.2min\n",
            "[CV] C=10.0, max_iter=150, multi_class=auto ..........................\n"
          ],
          "name": "stdout"
        },
        {
          "output_type": "stream",
          "text": [
            "/usr/local/lib/python3.7/dist-packages/sklearn/linear_model/_logistic.py:940: ConvergenceWarning: lbfgs failed to converge (status=1):\n",
            "STOP: TOTAL NO. of ITERATIONS REACHED LIMIT.\n",
            "\n",
            "Increase the number of iterations (max_iter) or scale the data as shown in:\n",
            "    https://scikit-learn.org/stable/modules/preprocessing.html\n",
            "Please also refer to the documentation for alternative solver options:\n",
            "    https://scikit-learn.org/stable/modules/linear_model.html#logistic-regression\n",
            "  extra_warning_msg=_LOGISTIC_SOLVER_CONVERGENCE_MSG)\n"
          ],
          "name": "stderr"
        },
        {
          "output_type": "stream",
          "text": [
            "[CV]  C=10.0, max_iter=150, multi_class=auto, score=0.838, total= 3.1min\n",
            "[CV] C=10.0, max_iter=150, multi_class=auto ..........................\n"
          ],
          "name": "stdout"
        },
        {
          "output_type": "stream",
          "text": [
            "/usr/local/lib/python3.7/dist-packages/sklearn/linear_model/_logistic.py:940: ConvergenceWarning: lbfgs failed to converge (status=1):\n",
            "STOP: TOTAL NO. of ITERATIONS REACHED LIMIT.\n",
            "\n",
            "Increase the number of iterations (max_iter) or scale the data as shown in:\n",
            "    https://scikit-learn.org/stable/modules/preprocessing.html\n",
            "Please also refer to the documentation for alternative solver options:\n",
            "    https://scikit-learn.org/stable/modules/linear_model.html#logistic-regression\n",
            "  extra_warning_msg=_LOGISTIC_SOLVER_CONVERGENCE_MSG)\n"
          ],
          "name": "stderr"
        },
        {
          "output_type": "stream",
          "text": [
            "[CV]  C=10.0, max_iter=150, multi_class=auto, score=0.835, total= 3.2min\n",
            "[CV] C=10.0, max_iter=150, multi_class=auto ..........................\n"
          ],
          "name": "stdout"
        },
        {
          "output_type": "stream",
          "text": [
            "/usr/local/lib/python3.7/dist-packages/sklearn/linear_model/_logistic.py:940: ConvergenceWarning: lbfgs failed to converge (status=1):\n",
            "STOP: TOTAL NO. of ITERATIONS REACHED LIMIT.\n",
            "\n",
            "Increase the number of iterations (max_iter) or scale the data as shown in:\n",
            "    https://scikit-learn.org/stable/modules/preprocessing.html\n",
            "Please also refer to the documentation for alternative solver options:\n",
            "    https://scikit-learn.org/stable/modules/linear_model.html#logistic-regression\n",
            "  extra_warning_msg=_LOGISTIC_SOLVER_CONVERGENCE_MSG)\n"
          ],
          "name": "stderr"
        },
        {
          "output_type": "stream",
          "text": [
            "[CV]  C=10.0, max_iter=150, multi_class=auto, score=0.830, total= 3.2min\n",
            "[CV] C=10.0, max_iter=300, multi_class=auto ..........................\n"
          ],
          "name": "stdout"
        },
        {
          "output_type": "stream",
          "text": [
            "/usr/local/lib/python3.7/dist-packages/sklearn/linear_model/_logistic.py:940: ConvergenceWarning: lbfgs failed to converge (status=1):\n",
            "STOP: TOTAL NO. of ITERATIONS REACHED LIMIT.\n",
            "\n",
            "Increase the number of iterations (max_iter) or scale the data as shown in:\n",
            "    https://scikit-learn.org/stable/modules/preprocessing.html\n",
            "Please also refer to the documentation for alternative solver options:\n",
            "    https://scikit-learn.org/stable/modules/linear_model.html#logistic-regression\n",
            "  extra_warning_msg=_LOGISTIC_SOLVER_CONVERGENCE_MSG)\n"
          ],
          "name": "stderr"
        },
        {
          "output_type": "stream",
          "text": [
            "[CV]  C=10.0, max_iter=300, multi_class=auto, score=0.823, total= 6.4min\n",
            "[CV] C=10.0, max_iter=300, multi_class=auto ..........................\n"
          ],
          "name": "stdout"
        },
        {
          "output_type": "stream",
          "text": [
            "/usr/local/lib/python3.7/dist-packages/sklearn/linear_model/_logistic.py:940: ConvergenceWarning: lbfgs failed to converge (status=1):\n",
            "STOP: TOTAL NO. of ITERATIONS REACHED LIMIT.\n",
            "\n",
            "Increase the number of iterations (max_iter) or scale the data as shown in:\n",
            "    https://scikit-learn.org/stable/modules/preprocessing.html\n",
            "Please also refer to the documentation for alternative solver options:\n",
            "    https://scikit-learn.org/stable/modules/linear_model.html#logistic-regression\n",
            "  extra_warning_msg=_LOGISTIC_SOLVER_CONVERGENCE_MSG)\n"
          ],
          "name": "stderr"
        },
        {
          "output_type": "stream",
          "text": [
            "[CV]  C=10.0, max_iter=300, multi_class=auto, score=0.829, total= 6.4min\n",
            "[CV] C=10.0, max_iter=300, multi_class=auto ..........................\n"
          ],
          "name": "stdout"
        },
        {
          "output_type": "stream",
          "text": [
            "/usr/local/lib/python3.7/dist-packages/sklearn/linear_model/_logistic.py:940: ConvergenceWarning: lbfgs failed to converge (status=1):\n",
            "STOP: TOTAL NO. of ITERATIONS REACHED LIMIT.\n",
            "\n",
            "Increase the number of iterations (max_iter) or scale the data as shown in:\n",
            "    https://scikit-learn.org/stable/modules/preprocessing.html\n",
            "Please also refer to the documentation for alternative solver options:\n",
            "    https://scikit-learn.org/stable/modules/linear_model.html#logistic-regression\n",
            "  extra_warning_msg=_LOGISTIC_SOLVER_CONVERGENCE_MSG)\n"
          ],
          "name": "stderr"
        },
        {
          "output_type": "stream",
          "text": [
            "[CV]  C=10.0, max_iter=300, multi_class=auto, score=0.838, total= 6.3min\n",
            "[CV] C=10.0, max_iter=300, multi_class=auto ..........................\n"
          ],
          "name": "stdout"
        },
        {
          "output_type": "stream",
          "text": [
            "/usr/local/lib/python3.7/dist-packages/sklearn/linear_model/_logistic.py:940: ConvergenceWarning: lbfgs failed to converge (status=1):\n",
            "STOP: TOTAL NO. of ITERATIONS REACHED LIMIT.\n",
            "\n",
            "Increase the number of iterations (max_iter) or scale the data as shown in:\n",
            "    https://scikit-learn.org/stable/modules/preprocessing.html\n",
            "Please also refer to the documentation for alternative solver options:\n",
            "    https://scikit-learn.org/stable/modules/linear_model.html#logistic-regression\n",
            "  extra_warning_msg=_LOGISTIC_SOLVER_CONVERGENCE_MSG)\n"
          ],
          "name": "stderr"
        },
        {
          "output_type": "stream",
          "text": [
            "[CV]  C=10.0, max_iter=300, multi_class=auto, score=0.836, total= 6.3min\n",
            "[CV] C=10.0, max_iter=300, multi_class=auto ..........................\n"
          ],
          "name": "stdout"
        },
        {
          "output_type": "stream",
          "text": [
            "/usr/local/lib/python3.7/dist-packages/sklearn/linear_model/_logistic.py:940: ConvergenceWarning: lbfgs failed to converge (status=1):\n",
            "STOP: TOTAL NO. of ITERATIONS REACHED LIMIT.\n",
            "\n",
            "Increase the number of iterations (max_iter) or scale the data as shown in:\n",
            "    https://scikit-learn.org/stable/modules/preprocessing.html\n",
            "Please also refer to the documentation for alternative solver options:\n",
            "    https://scikit-learn.org/stable/modules/linear_model.html#logistic-regression\n",
            "  extra_warning_msg=_LOGISTIC_SOLVER_CONVERGENCE_MSG)\n"
          ],
          "name": "stderr"
        },
        {
          "output_type": "stream",
          "text": [
            "[CV]  C=10.0, max_iter=300, multi_class=auto, score=0.831, total= 6.3min\n",
            "[CV] C=10.0, max_iter=600, multi_class=auto ..........................\n",
            "[CV]  C=10.0, max_iter=600, multi_class=auto, score=0.823, total= 8.1min\n",
            "[CV] C=10.0, max_iter=600, multi_class=auto ..........................\n",
            "[CV]  C=10.0, max_iter=600, multi_class=auto, score=0.829, total= 8.1min\n",
            "[CV] C=10.0, max_iter=600, multi_class=auto ..........................\n",
            "[CV]  C=10.0, max_iter=600, multi_class=auto, score=0.837, total= 7.8min\n",
            "[CV] C=10.0, max_iter=600, multi_class=auto ..........................\n",
            "[CV]  C=10.0, max_iter=600, multi_class=auto, score=0.836, total= 8.0min\n",
            "[CV] C=10.0, max_iter=600, multi_class=auto ..........................\n",
            "[CV]  C=10.0, max_iter=600, multi_class=auto, score=0.830, total= 9.2min\n",
            "[CV] C=100.0, max_iter=50, multi_class=auto ..........................\n"
          ],
          "name": "stdout"
        },
        {
          "output_type": "stream",
          "text": [
            "/usr/local/lib/python3.7/dist-packages/sklearn/linear_model/_logistic.py:940: ConvergenceWarning: lbfgs failed to converge (status=1):\n",
            "STOP: TOTAL NO. of ITERATIONS REACHED LIMIT.\n",
            "\n",
            "Increase the number of iterations (max_iter) or scale the data as shown in:\n",
            "    https://scikit-learn.org/stable/modules/preprocessing.html\n",
            "Please also refer to the documentation for alternative solver options:\n",
            "    https://scikit-learn.org/stable/modules/linear_model.html#logistic-regression\n",
            "  extra_warning_msg=_LOGISTIC_SOLVER_CONVERGENCE_MSG)\n"
          ],
          "name": "stderr"
        },
        {
          "output_type": "stream",
          "text": [
            "[CV]  C=100.0, max_iter=50, multi_class=auto, score=0.824, total= 1.2min\n",
            "[CV] C=100.0, max_iter=50, multi_class=auto ..........................\n"
          ],
          "name": "stdout"
        },
        {
          "output_type": "stream",
          "text": [
            "/usr/local/lib/python3.7/dist-packages/sklearn/linear_model/_logistic.py:940: ConvergenceWarning: lbfgs failed to converge (status=1):\n",
            "STOP: TOTAL NO. of ITERATIONS REACHED LIMIT.\n",
            "\n",
            "Increase the number of iterations (max_iter) or scale the data as shown in:\n",
            "    https://scikit-learn.org/stable/modules/preprocessing.html\n",
            "Please also refer to the documentation for alternative solver options:\n",
            "    https://scikit-learn.org/stable/modules/linear_model.html#logistic-regression\n",
            "  extra_warning_msg=_LOGISTIC_SOLVER_CONVERGENCE_MSG)\n"
          ],
          "name": "stderr"
        },
        {
          "output_type": "stream",
          "text": [
            "[CV]  C=100.0, max_iter=50, multi_class=auto, score=0.825, total= 1.2min\n",
            "[CV] C=100.0, max_iter=50, multi_class=auto ..........................\n"
          ],
          "name": "stdout"
        },
        {
          "output_type": "stream",
          "text": [
            "/usr/local/lib/python3.7/dist-packages/sklearn/linear_model/_logistic.py:940: ConvergenceWarning: lbfgs failed to converge (status=1):\n",
            "STOP: TOTAL NO. of ITERATIONS REACHED LIMIT.\n",
            "\n",
            "Increase the number of iterations (max_iter) or scale the data as shown in:\n",
            "    https://scikit-learn.org/stable/modules/preprocessing.html\n",
            "Please also refer to the documentation for alternative solver options:\n",
            "    https://scikit-learn.org/stable/modules/linear_model.html#logistic-regression\n",
            "  extra_warning_msg=_LOGISTIC_SOLVER_CONVERGENCE_MSG)\n"
          ],
          "name": "stderr"
        },
        {
          "output_type": "stream",
          "text": [
            "[CV]  C=100.0, max_iter=50, multi_class=auto, score=0.835, total= 1.2min\n",
            "[CV] C=100.0, max_iter=50, multi_class=auto ..........................\n"
          ],
          "name": "stdout"
        },
        {
          "output_type": "stream",
          "text": [
            "/usr/local/lib/python3.7/dist-packages/sklearn/linear_model/_logistic.py:940: ConvergenceWarning: lbfgs failed to converge (status=1):\n",
            "STOP: TOTAL NO. of ITERATIONS REACHED LIMIT.\n",
            "\n",
            "Increase the number of iterations (max_iter) or scale the data as shown in:\n",
            "    https://scikit-learn.org/stable/modules/preprocessing.html\n",
            "Please also refer to the documentation for alternative solver options:\n",
            "    https://scikit-learn.org/stable/modules/linear_model.html#logistic-regression\n",
            "  extra_warning_msg=_LOGISTIC_SOLVER_CONVERGENCE_MSG)\n"
          ],
          "name": "stderr"
        },
        {
          "output_type": "stream",
          "text": [
            "[CV]  C=100.0, max_iter=50, multi_class=auto, score=0.829, total= 1.1min\n",
            "[CV] C=100.0, max_iter=50, multi_class=auto ..........................\n"
          ],
          "name": "stdout"
        },
        {
          "output_type": "stream",
          "text": [
            "/usr/local/lib/python3.7/dist-packages/sklearn/linear_model/_logistic.py:940: ConvergenceWarning: lbfgs failed to converge (status=1):\n",
            "STOP: TOTAL NO. of ITERATIONS REACHED LIMIT.\n",
            "\n",
            "Increase the number of iterations (max_iter) or scale the data as shown in:\n",
            "    https://scikit-learn.org/stable/modules/preprocessing.html\n",
            "Please also refer to the documentation for alternative solver options:\n",
            "    https://scikit-learn.org/stable/modules/linear_model.html#logistic-regression\n",
            "  extra_warning_msg=_LOGISTIC_SOLVER_CONVERGENCE_MSG)\n"
          ],
          "name": "stderr"
        },
        {
          "output_type": "stream",
          "text": [
            "[CV]  C=100.0, max_iter=50, multi_class=auto, score=0.830, total= 1.1min\n",
            "[CV] C=100.0, max_iter=150, multi_class=auto .........................\n"
          ],
          "name": "stdout"
        },
        {
          "output_type": "stream",
          "text": [
            "/usr/local/lib/python3.7/dist-packages/sklearn/linear_model/_logistic.py:940: ConvergenceWarning: lbfgs failed to converge (status=1):\n",
            "STOP: TOTAL NO. of ITERATIONS REACHED LIMIT.\n",
            "\n",
            "Increase the number of iterations (max_iter) or scale the data as shown in:\n",
            "    https://scikit-learn.org/stable/modules/preprocessing.html\n",
            "Please also refer to the documentation for alternative solver options:\n",
            "    https://scikit-learn.org/stable/modules/linear_model.html#logistic-regression\n",
            "  extra_warning_msg=_LOGISTIC_SOLVER_CONVERGENCE_MSG)\n"
          ],
          "name": "stderr"
        },
        {
          "output_type": "stream",
          "text": [
            "[CV]  C=100.0, max_iter=150, multi_class=auto, score=0.828, total= 3.4min\n",
            "[CV] C=100.0, max_iter=150, multi_class=auto .........................\n"
          ],
          "name": "stdout"
        },
        {
          "output_type": "stream",
          "text": [
            "/usr/local/lib/python3.7/dist-packages/sklearn/linear_model/_logistic.py:940: ConvergenceWarning: lbfgs failed to converge (status=1):\n",
            "STOP: TOTAL NO. of ITERATIONS REACHED LIMIT.\n",
            "\n",
            "Increase the number of iterations (max_iter) or scale the data as shown in:\n",
            "    https://scikit-learn.org/stable/modules/preprocessing.html\n",
            "Please also refer to the documentation for alternative solver options:\n",
            "    https://scikit-learn.org/stable/modules/linear_model.html#logistic-regression\n",
            "  extra_warning_msg=_LOGISTIC_SOLVER_CONVERGENCE_MSG)\n"
          ],
          "name": "stderr"
        },
        {
          "output_type": "stream",
          "text": [
            "[CV]  C=100.0, max_iter=150, multi_class=auto, score=0.832, total= 3.4min\n",
            "[CV] C=100.0, max_iter=150, multi_class=auto .........................\n"
          ],
          "name": "stdout"
        },
        {
          "output_type": "stream",
          "text": [
            "/usr/local/lib/python3.7/dist-packages/sklearn/linear_model/_logistic.py:940: ConvergenceWarning: lbfgs failed to converge (status=1):\n",
            "STOP: TOTAL NO. of ITERATIONS REACHED LIMIT.\n",
            "\n",
            "Increase the number of iterations (max_iter) or scale the data as shown in:\n",
            "    https://scikit-learn.org/stable/modules/preprocessing.html\n",
            "Please also refer to the documentation for alternative solver options:\n",
            "    https://scikit-learn.org/stable/modules/linear_model.html#logistic-regression\n",
            "  extra_warning_msg=_LOGISTIC_SOLVER_CONVERGENCE_MSG)\n"
          ],
          "name": "stderr"
        },
        {
          "output_type": "stream",
          "text": [
            "[CV]  C=100.0, max_iter=150, multi_class=auto, score=0.841, total= 3.4min\n",
            "[CV] C=100.0, max_iter=150, multi_class=auto .........................\n"
          ],
          "name": "stdout"
        },
        {
          "output_type": "stream",
          "text": [
            "/usr/local/lib/python3.7/dist-packages/sklearn/linear_model/_logistic.py:940: ConvergenceWarning: lbfgs failed to converge (status=1):\n",
            "STOP: TOTAL NO. of ITERATIONS REACHED LIMIT.\n",
            "\n",
            "Increase the number of iterations (max_iter) or scale the data as shown in:\n",
            "    https://scikit-learn.org/stable/modules/preprocessing.html\n",
            "Please also refer to the documentation for alternative solver options:\n",
            "    https://scikit-learn.org/stable/modules/linear_model.html#logistic-regression\n",
            "  extra_warning_msg=_LOGISTIC_SOLVER_CONVERGENCE_MSG)\n"
          ],
          "name": "stderr"
        },
        {
          "output_type": "stream",
          "text": [
            "[CV]  C=100.0, max_iter=150, multi_class=auto, score=0.840, total= 3.3min\n",
            "[CV] C=100.0, max_iter=150, multi_class=auto .........................\n"
          ],
          "name": "stdout"
        },
        {
          "output_type": "stream",
          "text": [
            "/usr/local/lib/python3.7/dist-packages/sklearn/linear_model/_logistic.py:940: ConvergenceWarning: lbfgs failed to converge (status=1):\n",
            "STOP: TOTAL NO. of ITERATIONS REACHED LIMIT.\n",
            "\n",
            "Increase the number of iterations (max_iter) or scale the data as shown in:\n",
            "    https://scikit-learn.org/stable/modules/preprocessing.html\n",
            "Please also refer to the documentation for alternative solver options:\n",
            "    https://scikit-learn.org/stable/modules/linear_model.html#logistic-regression\n",
            "  extra_warning_msg=_LOGISTIC_SOLVER_CONVERGENCE_MSG)\n"
          ],
          "name": "stderr"
        },
        {
          "output_type": "stream",
          "text": [
            "[CV]  C=100.0, max_iter=150, multi_class=auto, score=0.833, total= 3.2min\n",
            "[CV] C=100.0, max_iter=300, multi_class=auto .........................\n"
          ],
          "name": "stdout"
        },
        {
          "output_type": "stream",
          "text": [
            "/usr/local/lib/python3.7/dist-packages/sklearn/linear_model/_logistic.py:940: ConvergenceWarning: lbfgs failed to converge (status=1):\n",
            "STOP: TOTAL NO. of ITERATIONS REACHED LIMIT.\n",
            "\n",
            "Increase the number of iterations (max_iter) or scale the data as shown in:\n",
            "    https://scikit-learn.org/stable/modules/preprocessing.html\n",
            "Please also refer to the documentation for alternative solver options:\n",
            "    https://scikit-learn.org/stable/modules/linear_model.html#logistic-regression\n",
            "  extra_warning_msg=_LOGISTIC_SOLVER_CONVERGENCE_MSG)\n"
          ],
          "name": "stderr"
        },
        {
          "output_type": "stream",
          "text": [
            "[CV]  C=100.0, max_iter=300, multi_class=auto, score=0.825, total= 6.5min\n",
            "[CV] C=100.0, max_iter=300, multi_class=auto .........................\n"
          ],
          "name": "stdout"
        },
        {
          "output_type": "stream",
          "text": [
            "/usr/local/lib/python3.7/dist-packages/sklearn/linear_model/_logistic.py:940: ConvergenceWarning: lbfgs failed to converge (status=1):\n",
            "STOP: TOTAL NO. of ITERATIONS REACHED LIMIT.\n",
            "\n",
            "Increase the number of iterations (max_iter) or scale the data as shown in:\n",
            "    https://scikit-learn.org/stable/modules/preprocessing.html\n",
            "Please also refer to the documentation for alternative solver options:\n",
            "    https://scikit-learn.org/stable/modules/linear_model.html#logistic-regression\n",
            "  extra_warning_msg=_LOGISTIC_SOLVER_CONVERGENCE_MSG)\n"
          ],
          "name": "stderr"
        },
        {
          "output_type": "stream",
          "text": [
            "[CV]  C=100.0, max_iter=300, multi_class=auto, score=0.831, total= 6.5min\n",
            "[CV] C=100.0, max_iter=300, multi_class=auto .........................\n"
          ],
          "name": "stdout"
        },
        {
          "output_type": "stream",
          "text": [
            "/usr/local/lib/python3.7/dist-packages/sklearn/linear_model/_logistic.py:940: ConvergenceWarning: lbfgs failed to converge (status=1):\n",
            "STOP: TOTAL NO. of ITERATIONS REACHED LIMIT.\n",
            "\n",
            "Increase the number of iterations (max_iter) or scale the data as shown in:\n",
            "    https://scikit-learn.org/stable/modules/preprocessing.html\n",
            "Please also refer to the documentation for alternative solver options:\n",
            "    https://scikit-learn.org/stable/modules/linear_model.html#logistic-regression\n",
            "  extra_warning_msg=_LOGISTIC_SOLVER_CONVERGENCE_MSG)\n"
          ],
          "name": "stderr"
        },
        {
          "output_type": "stream",
          "text": [
            "[CV]  C=100.0, max_iter=300, multi_class=auto, score=0.840, total= 6.3min\n",
            "[CV] C=100.0, max_iter=300, multi_class=auto .........................\n"
          ],
          "name": "stdout"
        },
        {
          "output_type": "stream",
          "text": [
            "/usr/local/lib/python3.7/dist-packages/sklearn/linear_model/_logistic.py:940: ConvergenceWarning: lbfgs failed to converge (status=1):\n",
            "STOP: TOTAL NO. of ITERATIONS REACHED LIMIT.\n",
            "\n",
            "Increase the number of iterations (max_iter) or scale the data as shown in:\n",
            "    https://scikit-learn.org/stable/modules/preprocessing.html\n",
            "Please also refer to the documentation for alternative solver options:\n",
            "    https://scikit-learn.org/stable/modules/linear_model.html#logistic-regression\n",
            "  extra_warning_msg=_LOGISTIC_SOLVER_CONVERGENCE_MSG)\n"
          ],
          "name": "stderr"
        },
        {
          "output_type": "stream",
          "text": [
            "[CV]  C=100.0, max_iter=300, multi_class=auto, score=0.837, total= 6.3min\n",
            "[CV] C=100.0, max_iter=300, multi_class=auto .........................\n"
          ],
          "name": "stdout"
        },
        {
          "output_type": "stream",
          "text": [
            "/usr/local/lib/python3.7/dist-packages/sklearn/linear_model/_logistic.py:940: ConvergenceWarning: lbfgs failed to converge (status=1):\n",
            "STOP: TOTAL NO. of ITERATIONS REACHED LIMIT.\n",
            "\n",
            "Increase the number of iterations (max_iter) or scale the data as shown in:\n",
            "    https://scikit-learn.org/stable/modules/preprocessing.html\n",
            "Please also refer to the documentation for alternative solver options:\n",
            "    https://scikit-learn.org/stable/modules/linear_model.html#logistic-regression\n",
            "  extra_warning_msg=_LOGISTIC_SOLVER_CONVERGENCE_MSG)\n"
          ],
          "name": "stderr"
        },
        {
          "output_type": "stream",
          "text": [
            "[CV]  C=100.0, max_iter=300, multi_class=auto, score=0.829, total= 6.3min\n",
            "[CV] C=100.0, max_iter=600, multi_class=auto .........................\n",
            "[CV]  C=100.0, max_iter=600, multi_class=auto, score=0.825, total=12.0min\n",
            "[CV] C=100.0, max_iter=600, multi_class=auto .........................\n",
            "[CV]  C=100.0, max_iter=600, multi_class=auto, score=0.831, total=11.8min\n",
            "[CV] C=100.0, max_iter=600, multi_class=auto .........................\n",
            "[CV]  C=100.0, max_iter=600, multi_class=auto, score=0.839, total=11.6min\n",
            "[CV] C=100.0, max_iter=600, multi_class=auto .........................\n",
            "[CV]  C=100.0, max_iter=600, multi_class=auto, score=0.837, total=10.7min\n",
            "[CV] C=100.0, max_iter=600, multi_class=auto .........................\n",
            "[CV]  C=100.0, max_iter=600, multi_class=auto, score=0.829, total=11.5min\n"
          ],
          "name": "stdout"
        },
        {
          "output_type": "stream",
          "text": [
            "[Parallel(n_jobs=1)]: Done 100 out of 100 | elapsed: 298.7min finished\n",
            "/usr/local/lib/python3.7/dist-packages/sklearn/linear_model/_logistic.py:940: ConvergenceWarning: lbfgs failed to converge (status=1):\n",
            "STOP: TOTAL NO. of ITERATIONS REACHED LIMIT.\n",
            "\n",
            "Increase the number of iterations (max_iter) or scale the data as shown in:\n",
            "    https://scikit-learn.org/stable/modules/preprocessing.html\n",
            "Please also refer to the documentation for alternative solver options:\n",
            "    https://scikit-learn.org/stable/modules/linear_model.html#logistic-regression\n",
            "  extra_warning_msg=_LOGISTIC_SOLVER_CONVERGENCE_MSG)\n"
          ],
          "name": "stderr"
        },
        {
          "output_type": "stream",
          "text": [
            "Best parameters:\n",
            "{'C': 100.0, 'max_iter': 150, 'multi_class': 'auto'}\n",
            "Bestf1_weighted:0.8346563969472154\n",
            "Train classification report:\n",
            "              precision    recall  f1-score   support\n",
            "\n",
            "           0       1.00      1.00      1.00     15000\n",
            "           1       1.00      1.00      1.00     15000\n",
            "           2       1.00      1.00      1.00     15000\n",
            "\n",
            "    accuracy                           1.00     45000\n",
            "   macro avg       1.00      1.00      1.00     45000\n",
            "weighted avg       1.00      1.00      1.00     45000\n",
            "\n",
            "Test classification report:\n",
            "              precision    recall  f1-score   support\n",
            "\n",
            "           0       0.80      0.76      0.78      5000\n",
            "           1       0.85      0.88      0.86      5000\n",
            "           2       0.86      0.88      0.87      5000\n",
            "\n",
            "    accuracy                           0.84     15000\n",
            "   macro avg       0.84      0.84      0.84     15000\n",
            "weighted avg       0.84      0.84      0.84     15000\n",
            "\n",
            " \n",
            "##########################################################################################################\n",
            "Now doing LinearSVC\n",
            "Fitting 5 folds for each of 5 candidates, totalling 25 fits\n",
            "[CV] C=0.01 ..........................................................\n"
          ],
          "name": "stdout"
        },
        {
          "output_type": "stream",
          "text": [
            "[Parallel(n_jobs=1)]: Using backend SequentialBackend with 1 concurrent workers.\n"
          ],
          "name": "stderr"
        },
        {
          "output_type": "stream",
          "text": [
            "[CV] .............................. C=0.01, score=0.723, total=   3.0s\n",
            "[CV] C=0.01 ..........................................................\n"
          ],
          "name": "stdout"
        },
        {
          "output_type": "stream",
          "text": [
            "[Parallel(n_jobs=1)]: Done   1 out of   1 | elapsed:    3.0s remaining:    0.0s\n"
          ],
          "name": "stderr"
        },
        {
          "output_type": "stream",
          "text": [
            "[CV] .............................. C=0.01, score=0.730, total=   3.0s\n",
            "[CV] C=0.01 ..........................................................\n"
          ],
          "name": "stdout"
        },
        {
          "output_type": "stream",
          "text": [
            "[Parallel(n_jobs=1)]: Done   2 out of   2 | elapsed:    6.0s remaining:    0.0s\n"
          ],
          "name": "stderr"
        },
        {
          "output_type": "stream",
          "text": [
            "[CV] .............................. C=0.01, score=0.746, total=   2.9s\n",
            "[CV] C=0.01 ..........................................................\n",
            "[CV] .............................. C=0.01, score=0.746, total=   3.0s\n",
            "[CV] C=0.01 ..........................................................\n",
            "[CV] .............................. C=0.01, score=0.735, total=   2.9s\n",
            "[CV] C=0.1 ...........................................................\n",
            "[CV] ............................... C=0.1, score=0.802, total=   2.8s\n",
            "[CV] C=0.1 ...........................................................\n",
            "[CV] ............................... C=0.1, score=0.810, total=   2.8s\n",
            "[CV] C=0.1 ...........................................................\n",
            "[CV] ............................... C=0.1, score=0.820, total=   2.8s\n",
            "[CV] C=0.1 ...........................................................\n",
            "[CV] ............................... C=0.1, score=0.813, total=   2.8s\n",
            "[CV] C=0.1 ...........................................................\n",
            "[CV] ............................... C=0.1, score=0.809, total=   2.8s\n",
            "[CV] C=1.0 ...........................................................\n",
            "[CV] ............................... C=1.0, score=0.823, total=   6.4s\n",
            "[CV] C=1.0 ...........................................................\n",
            "[CV] ............................... C=1.0, score=0.828, total=   6.6s\n",
            "[CV] C=1.0 ...........................................................\n",
            "[CV] ............................... C=1.0, score=0.836, total=   6.5s\n",
            "[CV] C=1.0 ...........................................................\n",
            "[CV] ............................... C=1.0, score=0.832, total=   6.5s\n",
            "[CV] C=1.0 ...........................................................\n",
            "[CV] ............................... C=1.0, score=0.827, total=   6.7s\n",
            "[CV] C=10.0 ..........................................................\n",
            "[CV] .............................. C=10.0, score=0.817, total=  32.5s\n",
            "[CV] C=10.0 ..........................................................\n",
            "[CV] .............................. C=10.0, score=0.828, total=  30.5s\n",
            "[CV] C=10.0 ..........................................................\n",
            "[CV] .............................. C=10.0, score=0.833, total=  30.0s\n",
            "[CV] C=10.0 ..........................................................\n",
            "[CV] .............................. C=10.0, score=0.832, total=  31.6s\n",
            "[CV] C=10.0 ..........................................................\n",
            "[CV] .............................. C=10.0, score=0.825, total=  31.5s\n",
            "[CV] C=100.0 .........................................................\n",
            "[CV] ............................. C=100.0, score=0.815, total= 1.5min\n",
            "[CV] C=100.0 .........................................................\n",
            "[CV] ............................. C=100.0, score=0.827, total= 1.4min\n",
            "[CV] C=100.0 .........................................................\n",
            "[CV] ............................. C=100.0, score=0.833, total= 1.4min\n",
            "[CV] C=100.0 .........................................................\n",
            "[CV] ............................. C=100.0, score=0.831, total= 1.5min\n",
            "[CV] C=100.0 .........................................................\n",
            "[CV] ............................. C=100.0, score=0.824, total= 1.7min\n"
          ],
          "name": "stdout"
        },
        {
          "output_type": "stream",
          "text": [
            "[Parallel(n_jobs=1)]: Done  25 out of  25 | elapsed: 11.2min finished\n"
          ],
          "name": "stderr"
        },
        {
          "output_type": "stream",
          "text": [
            "Best parameters:\n",
            "{'C': 1.0}\n",
            "Bestf1_weighted:0.8289946525136129\n",
            "Train classification report:\n",
            "              precision    recall  f1-score   support\n",
            "\n",
            "           0       1.00      1.00      1.00     15000\n",
            "           1       1.00      1.00      1.00     15000\n",
            "           2       1.00      1.00      1.00     15000\n",
            "\n",
            "    accuracy                           1.00     45000\n",
            "   macro avg       1.00      1.00      1.00     45000\n",
            "weighted avg       1.00      1.00      1.00     45000\n",
            "\n",
            "Test classification report:\n",
            "              precision    recall  f1-score   support\n",
            "\n",
            "           0       0.80      0.76      0.78      5000\n",
            "           1       0.85      0.87      0.86      5000\n",
            "           2       0.86      0.88      0.87      5000\n",
            "\n",
            "    accuracy                           0.83     15000\n",
            "   macro avg       0.83      0.83      0.83     15000\n",
            "weighted avg       0.83      0.83      0.83     15000\n",
            "\n",
            " \n",
            "##########################################################################################################\n",
            "Now doing RandomForestClassifier\n",
            "Fitting 5 folds for each of 9 candidates, totalling 45 fits\n",
            "[CV] max_depth=10, n_estimators=50 ...................................\n"
          ],
          "name": "stdout"
        },
        {
          "output_type": "stream",
          "text": [
            "[Parallel(n_jobs=1)]: Using backend SequentialBackend with 1 concurrent workers.\n"
          ],
          "name": "stderr"
        },
        {
          "output_type": "stream",
          "text": [
            "[CV] ....... max_depth=10, n_estimators=50, score=0.670, total=  17.4s\n",
            "[CV] max_depth=10, n_estimators=50 ...................................\n"
          ],
          "name": "stdout"
        },
        {
          "output_type": "stream",
          "text": [
            "[Parallel(n_jobs=1)]: Done   1 out of   1 | elapsed:   17.4s remaining:    0.0s\n"
          ],
          "name": "stderr"
        },
        {
          "output_type": "stream",
          "text": [
            "[CV] ....... max_depth=10, n_estimators=50, score=0.627, total=  17.5s\n",
            "[CV] max_depth=10, n_estimators=50 ...................................\n"
          ],
          "name": "stdout"
        },
        {
          "output_type": "stream",
          "text": [
            "[Parallel(n_jobs=1)]: Done   2 out of   2 | elapsed:   34.9s remaining:    0.0s\n"
          ],
          "name": "stderr"
        },
        {
          "output_type": "stream",
          "text": [
            "[CV] ....... max_depth=10, n_estimators=50, score=0.658, total=  17.6s\n",
            "[CV] max_depth=10, n_estimators=50 ...................................\n",
            "[CV] ....... max_depth=10, n_estimators=50, score=0.680, total=  17.6s\n",
            "[CV] max_depth=10, n_estimators=50 ...................................\n",
            "[CV] ....... max_depth=10, n_estimators=50, score=0.720, total=  17.3s\n",
            "[CV] max_depth=10, n_estimators=200 ..................................\n",
            "[CV] ...... max_depth=10, n_estimators=200, score=0.697, total= 1.1min\n",
            "[CV] max_depth=10, n_estimators=200 ..................................\n",
            "[CV] ...... max_depth=10, n_estimators=200, score=0.708, total= 1.2min\n",
            "[CV] max_depth=10, n_estimators=200 ..................................\n",
            "[CV] ...... max_depth=10, n_estimators=200, score=0.710, total= 1.1min\n",
            "[CV] max_depth=10, n_estimators=200 ..................................\n",
            "[CV] ...... max_depth=10, n_estimators=200, score=0.735, total= 1.1min\n",
            "[CV] max_depth=10, n_estimators=200 ..................................\n",
            "[CV] ...... max_depth=10, n_estimators=200, score=0.715, total= 1.1min\n",
            "[CV] max_depth=10, n_estimators=600 ..................................\n",
            "[CV] ...... max_depth=10, n_estimators=600, score=0.702, total= 3.3min\n",
            "[CV] max_depth=10, n_estimators=600 ..................................\n",
            "[CV] ...... max_depth=10, n_estimators=600, score=0.716, total= 3.3min\n",
            "[CV] max_depth=10, n_estimators=600 ..................................\n",
            "[CV] ...... max_depth=10, n_estimators=600, score=0.731, total= 3.3min\n",
            "[CV] max_depth=10, n_estimators=600 ..................................\n",
            "[CV] ...... max_depth=10, n_estimators=600, score=0.741, total= 3.3min\n",
            "[CV] max_depth=10, n_estimators=600 ..................................\n",
            "[CV] ...... max_depth=10, n_estimators=600, score=0.728, total= 3.3min\n",
            "[CV] max_depth=15, n_estimators=50 ...................................\n",
            "[CV] ....... max_depth=15, n_estimators=50, score=0.665, total=  26.1s\n",
            "[CV] max_depth=15, n_estimators=50 ...................................\n",
            "[CV] ....... max_depth=15, n_estimators=50, score=0.669, total=  26.2s\n",
            "[CV] max_depth=15, n_estimators=50 ...................................\n",
            "[CV] ....... max_depth=15, n_estimators=50, score=0.699, total=  26.3s\n",
            "[CV] max_depth=15, n_estimators=50 ...................................\n",
            "[CV] ....... max_depth=15, n_estimators=50, score=0.710, total=  26.5s\n",
            "[CV] max_depth=15, n_estimators=50 ...................................\n",
            "[CV] ....... max_depth=15, n_estimators=50, score=0.705, total=  26.1s\n",
            "[CV] max_depth=15, n_estimators=200 ..................................\n",
            "[CV] ...... max_depth=15, n_estimators=200, score=0.703, total= 1.7min\n",
            "[CV] max_depth=15, n_estimators=200 ..................................\n",
            "[CV] ...... max_depth=15, n_estimators=200, score=0.719, total= 1.7min\n",
            "[CV] max_depth=15, n_estimators=200 ..................................\n",
            "[CV] ...... max_depth=15, n_estimators=200, score=0.736, total= 1.7min\n",
            "[CV] max_depth=15, n_estimators=200 ..................................\n",
            "[CV] ...... max_depth=15, n_estimators=200, score=0.734, total= 1.8min\n",
            "[CV] max_depth=15, n_estimators=200 ..................................\n",
            "[CV] ...... max_depth=15, n_estimators=200, score=0.733, total= 1.7min\n",
            "[CV] max_depth=15, n_estimators=600 ..................................\n",
            "[CV] ...... max_depth=15, n_estimators=600, score=0.710, total= 5.2min\n",
            "[CV] max_depth=15, n_estimators=600 ..................................\n",
            "[CV] ...... max_depth=15, n_estimators=600, score=0.720, total= 5.2min\n",
            "[CV] max_depth=15, n_estimators=600 ..................................\n",
            "[CV] ...... max_depth=15, n_estimators=600, score=0.737, total= 5.2min\n",
            "[CV] max_depth=15, n_estimators=600 ..................................\n",
            "[CV] ...... max_depth=15, n_estimators=600, score=0.744, total= 5.3min\n",
            "[CV] max_depth=15, n_estimators=600 ..................................\n",
            "[CV] ...... max_depth=15, n_estimators=600, score=0.740, total= 5.2min\n",
            "[CV] max_depth=20, n_estimators=50 ...................................\n",
            "[CV] ....... max_depth=20, n_estimators=50, score=0.693, total=  38.1s\n",
            "[CV] max_depth=20, n_estimators=50 ...................................\n",
            "[CV] ....... max_depth=20, n_estimators=50, score=0.714, total=  37.2s\n",
            "[CV] max_depth=20, n_estimators=50 ...................................\n",
            "[CV] ....... max_depth=20, n_estimators=50, score=0.702, total=  37.8s\n",
            "[CV] max_depth=20, n_estimators=50 ...................................\n",
            "[CV] ....... max_depth=20, n_estimators=50, score=0.708, total=  37.8s\n",
            "[CV] max_depth=20, n_estimators=50 ...................................\n",
            "[CV] ....... max_depth=20, n_estimators=50, score=0.708, total=  37.2s\n",
            "[CV] max_depth=20, n_estimators=200 ..................................\n",
            "[CV] ...... max_depth=20, n_estimators=200, score=0.706, total= 2.5min\n",
            "[CV] max_depth=20, n_estimators=200 ..................................\n",
            "[CV] ...... max_depth=20, n_estimators=200, score=0.711, total= 2.5min\n",
            "[CV] max_depth=20, n_estimators=200 ..................................\n",
            "[CV] ...... max_depth=20, n_estimators=200, score=0.747, total= 2.5min\n",
            "[CV] max_depth=20, n_estimators=200 ..................................\n",
            "[CV] ...... max_depth=20, n_estimators=200, score=0.749, total= 2.5min\n",
            "[CV] max_depth=20, n_estimators=200 ..................................\n",
            "[CV] ...... max_depth=20, n_estimators=200, score=0.742, total= 2.4min\n",
            "[CV] max_depth=20, n_estimators=600 ..................................\n",
            "[CV] ...... max_depth=20, n_estimators=600, score=0.724, total= 7.4min\n",
            "[CV] max_depth=20, n_estimators=600 ..................................\n",
            "[CV] ...... max_depth=20, n_estimators=600, score=0.727, total= 7.5min\n",
            "[CV] max_depth=20, n_estimators=600 ..................................\n"
          ],
          "name": "stdout"
        }
      ]
    },
    {
      "cell_type": "code",
      "metadata": {
        "colab": {
          "base_uri": "https://localhost:8080/",
          "height": 809
        },
        "id": "4qpy3yiQzrbi",
        "outputId": "a3b82b15-fc06-48fd-8b7b-6ccc0ace9229"
      },
      "source": [
        "model = LinearSVC(C=1.0)\n",
        "model.fit(d_train2,y_train2)\n",
        "def f_importances(coef, names, top_n, label):\n",
        "    imp,names = zip(*sorted(zip(coef,names),reverse=True))\n",
        "    plt.barh(range(top_n), imp[:top_n], align='center')\n",
        "    plt.yticks(range(top_n), names[:top_n])\n",
        "    plt.title(\"Top 10 features for class \"+label)\n",
        "    plt.show()\n",
        "    \n",
        "\n",
        "features_names = c_train.vocabulary_.keys()\n",
        "class_name = 2\n",
        "f_importances(abs(model.coef_[0]), features_names, top_n=10, label=\"LQ_CLOSE\")\n",
        "f_importances(abs(model.coef_[2]), features_names, top_n=10, label=\"HQ\")\n",
        "f_importances(abs(model.coef_[1]), features_names, top_n=10, label=\"LQ_EDIT\")"
      ],
      "execution_count": null,
      "outputs": [
        {
          "output_type": "display_data",
          "data": {
            "image/png": "[encoded data removed]",
            "text/plain": [
              "<Figure size 432x288 with 1 Axes>"
            ]
          },
          "metadata": {
            "tags": [],
            "needs_background": "light"
          }
        },
        {
          "output_type": "display_data",
          "data": {
            "image/png": "[encoded data removed]",
            "text/plain": [
              "<Figure size 432x288 with 1 Axes>"
            ]
          },
          "metadata": {
            "tags": [],
            "needs_background": "light"
          }
        },
        {
          "output_type": "display_data",
          "data": {
            "image/png": "[encoded data removed]",
            "text/plain": [
              "<Figure size 432x288 with 1 Axes>"
            ]
          },
          "metadata": {
            "tags": [],
            "needs_background": "light"
          }
        }
      ]
    },
    {
      "cell_type": "markdown",
      "metadata": {
        "id": "zRngHqIJpO0T"
      },
      "source": [
        "The plots above show top 10 features with maximum importance for each class. X-axis shows the absolute value of their coefficient in the respective model."
      ]
    },
    {
      "cell_type": "code",
      "metadata": {
        "id": "WfA7WO82eYZg",
        "colab": {
          "base_uri": "https://localhost:8080/"
        },
        "outputId": "8fe0d1aa-9811-4c6b-994c-6d6819d1b2d7"
      },
      "source": [
        "result_dict2 = {}\n",
        "model_order = ['RandomForestClassifier','SGDClassifier','GradientBoostingClassifier']\n",
        "for clf_str in model_order:\n",
        "    if clf_str == 'LogisticRegression':\n",
        "        params = {'C':[0.01,0.1,1.0,10.0,100.0],'max_iter':[50,150,300,600],'multi_class':['auto']}\n",
        "    elif clf_str == 'RandomForestClassifier':\n",
        "        params = {'n_estimators': [50,200,600],\n",
        "                  'max_depth': [10,15,20]}\n",
        "    elif clf_str == 'GradientBoostingClassifier':\n",
        "        params = {'n_estimators': [50,200,600],\n",
        "                  'learning_rate': [0.01,0.1,0.5]}\n",
        "    elif clf_str == 'LinearSVC':\n",
        "        params = {'C':[0.01,0.1,1.0,10.0,100.0]}\n",
        "    elif clf_str == 'SGDClassifier':\n",
        "        params = {'loss':['hinge'],'alpha':[0.0001,0.001,0.01],'penalty':['elasticnet'],'l1_ratio':[0,0.2,0.7,1.0]}\n",
        "    clf_fn = clf_dict[clf_str]\n",
        "    print(\" \")\n",
        "    print(\"##########################################################################################################\")\n",
        "    print(\"Now doing\",clf_str)\n",
        "    opt = do_gridSearch(clf_fn,d_train2,y_train2,d_test2,y_test2,params)\n",
        "    result_dict2[clf_str] = opt"
      ],
      "execution_count": null,
      "outputs": [
        {
          "output_type": "stream",
          "text": [
            " \n",
            "##########################################################################################################\n",
            "Now doing RandomForestClassifier\n",
            "Fitting 5 folds for each of 9 candidates, totalling 45 fits\n",
            "[CV] max_depth=10, n_estimators=50 ...................................\n"
          ],
          "name": "stdout"
        },
        {
          "output_type": "stream",
          "text": [
            "[Parallel(n_jobs=1)]: Using backend SequentialBackend with 1 concurrent workers.\n"
          ],
          "name": "stderr"
        },
        {
          "output_type": "stream",
          "text": [
            "[CV] ....... max_depth=10, n_estimators=50, score=0.688, total=  15.9s\n",
            "[CV] max_depth=10, n_estimators=50 ...................................\n"
          ],
          "name": "stdout"
        },
        {
          "output_type": "stream",
          "text": [
            "[Parallel(n_jobs=1)]: Done   1 out of   1 | elapsed:   15.9s remaining:    0.0s\n"
          ],
          "name": "stderr"
        },
        {
          "output_type": "stream",
          "text": [
            "[CV] ....... max_depth=10, n_estimators=50, score=0.640, total=  15.3s\n",
            "[CV] max_depth=10, n_estimators=50 ...................................\n"
          ],
          "name": "stdout"
        },
        {
          "output_type": "stream",
          "text": [
            "[Parallel(n_jobs=1)]: Done   2 out of   2 | elapsed:   31.1s remaining:    0.0s\n"
          ],
          "name": "stderr"
        },
        {
          "output_type": "stream",
          "text": [
            "[CV] ....... max_depth=10, n_estimators=50, score=0.642, total=  15.6s\n",
            "[CV] max_depth=10, n_estimators=50 ...................................\n",
            "[CV] ....... max_depth=10, n_estimators=50, score=0.709, total=  15.5s\n",
            "[CV] max_depth=10, n_estimators=50 ...................................\n",
            "[CV] ....... max_depth=10, n_estimators=50, score=0.677, total=  15.0s\n",
            "[CV] max_depth=10, n_estimators=200 ..................................\n",
            "[CV] ...... max_depth=10, n_estimators=200, score=0.693, total=  58.9s\n",
            "[CV] max_depth=10, n_estimators=200 ..................................\n",
            "[CV] ...... max_depth=10, n_estimators=200, score=0.714, total=  58.7s\n",
            "[CV] max_depth=10, n_estimators=200 ..................................\n",
            "[CV] ...... max_depth=10, n_estimators=200, score=0.725, total=  59.0s\n",
            "[CV] max_depth=10, n_estimators=200 ..................................\n",
            "[CV] ...... max_depth=10, n_estimators=200, score=0.738, total= 1.0min\n",
            "[CV] max_depth=10, n_estimators=200 ..................................\n",
            "[CV] ...... max_depth=10, n_estimators=200, score=0.729, total=  59.0s\n",
            "[CV] max_depth=10, n_estimators=600 ..................................\n",
            "[CV] ...... max_depth=10, n_estimators=600, score=0.708, total= 2.9min\n",
            "[CV] max_depth=10, n_estimators=600 ..................................\n",
            "[CV] ...... max_depth=10, n_estimators=600, score=0.713, total= 2.9min\n",
            "[CV] max_depth=10, n_estimators=600 ..................................\n",
            "[CV] ...... max_depth=10, n_estimators=600, score=0.734, total= 3.0min\n",
            "[CV] max_depth=10, n_estimators=600 ..................................\n",
            "[CV] ...... max_depth=10, n_estimators=600, score=0.747, total= 3.0min\n",
            "[CV] max_depth=10, n_estimators=600 ..................................\n",
            "[CV] ...... max_depth=10, n_estimators=600, score=0.731, total= 2.9min\n",
            "[CV] max_depth=15, n_estimators=50 ...................................\n",
            "[CV] ....... max_depth=15, n_estimators=50, score=0.658, total=  23.9s\n",
            "[CV] max_depth=15, n_estimators=50 ...................................\n",
            "[CV] ....... max_depth=15, n_estimators=50, score=0.699, total=  23.7s\n",
            "[CV] max_depth=15, n_estimators=50 ...................................\n",
            "[CV] ....... max_depth=15, n_estimators=50, score=0.700, total=  23.8s\n",
            "[CV] max_depth=15, n_estimators=50 ...................................\n",
            "[CV] ....... max_depth=15, n_estimators=50, score=0.680, total=  23.9s\n",
            "[CV] max_depth=15, n_estimators=50 ...................................\n",
            "[CV] ....... max_depth=15, n_estimators=50, score=0.701, total=  23.4s\n",
            "[CV] max_depth=15, n_estimators=200 ..................................\n",
            "[CV] ...... max_depth=15, n_estimators=200, score=0.706, total= 1.6min\n",
            "[CV] max_depth=15, n_estimators=200 ..................................\n",
            "[CV] ...... max_depth=15, n_estimators=200, score=0.714, total= 1.6min\n",
            "[CV] max_depth=15, n_estimators=200 ..................................\n",
            "[CV] ...... max_depth=15, n_estimators=200, score=0.734, total= 1.6min\n",
            "[CV] max_depth=15, n_estimators=200 ..................................\n",
            "[CV] ...... max_depth=15, n_estimators=200, score=0.736, total= 1.6min\n",
            "[CV] max_depth=15, n_estimators=200 ..................................\n",
            "[CV] ...... max_depth=15, n_estimators=200, score=0.735, total= 1.6min\n",
            "[CV] max_depth=15, n_estimators=600 ..................................\n",
            "[CV] ...... max_depth=15, n_estimators=600, score=0.706, total= 4.6min\n",
            "[CV] max_depth=15, n_estimators=600 ..................................\n",
            "[CV] ...... max_depth=15, n_estimators=600, score=0.717, total= 4.6min\n",
            "[CV] max_depth=15, n_estimators=600 ..................................\n",
            "[CV] ...... max_depth=15, n_estimators=600, score=0.745, total= 4.6min\n",
            "[CV] max_depth=15, n_estimators=600 ..................................\n",
            "[CV] ...... max_depth=15, n_estimators=600, score=0.744, total= 4.7min\n",
            "[CV] max_depth=15, n_estimators=600 ..................................\n",
            "[CV] ...... max_depth=15, n_estimators=600, score=0.741, total= 4.7min\n",
            "[CV] max_depth=20, n_estimators=50 ...................................\n",
            "[CV] ....... max_depth=20, n_estimators=50, score=0.697, total=  34.0s\n",
            "[CV] max_depth=20, n_estimators=50 ...................................\n",
            "[CV] ....... max_depth=20, n_estimators=50, score=0.689, total=  33.8s\n",
            "[CV] max_depth=20, n_estimators=50 ...................................\n",
            "[CV] ....... max_depth=20, n_estimators=50, score=0.707, total=  34.1s\n",
            "[CV] max_depth=20, n_estimators=50 ...................................\n",
            "[CV] ....... max_depth=20, n_estimators=50, score=0.730, total=  33.9s\n",
            "[CV] max_depth=20, n_estimators=50 ...................................\n",
            "[CV] ....... max_depth=20, n_estimators=50, score=0.718, total=  34.1s\n",
            "[CV] max_depth=20, n_estimators=200 ..................................\n",
            "[CV] ...... max_depth=20, n_estimators=200, score=0.716, total= 2.2min\n",
            "[CV] max_depth=20, n_estimators=200 ..................................\n",
            "[CV] ...... max_depth=20, n_estimators=200, score=0.722, total= 2.2min\n",
            "[CV] max_depth=20, n_estimators=200 ..................................\n",
            "[CV] ...... max_depth=20, n_estimators=200, score=0.745, total= 2.2min\n",
            "[CV] max_depth=20, n_estimators=200 ..................................\n",
            "[CV] ...... max_depth=20, n_estimators=200, score=0.759, total= 2.3min\n",
            "[CV] max_depth=20, n_estimators=200 ..................................\n",
            "[CV] ...... max_depth=20, n_estimators=200, score=0.735, total= 2.2min\n",
            "[CV] max_depth=20, n_estimators=600 ..................................\n",
            "[CV] ...... max_depth=20, n_estimators=600, score=0.727, total= 6.7min\n",
            "[CV] max_depth=20, n_estimators=600 ..................................\n",
            "[CV] ...... max_depth=20, n_estimators=600, score=0.735, total= 6.6min\n",
            "[CV] max_depth=20, n_estimators=600 ..................................\n",
            "[CV] ...... max_depth=20, n_estimators=600, score=0.744, total= 6.7min\n",
            "[CV] max_depth=20, n_estimators=600 ..................................\n",
            "[CV] ...... max_depth=20, n_estimators=600, score=0.750, total= 6.7min\n",
            "[CV] max_depth=20, n_estimators=600 ..................................\n",
            "[CV] ...... max_depth=20, n_estimators=600, score=0.744, total= 6.5min\n"
          ],
          "name": "stdout"
        },
        {
          "output_type": "stream",
          "text": [
            "[Parallel(n_jobs=1)]: Done  45 out of  45 | elapsed: 101.2min finished\n"
          ],
          "name": "stderr"
        },
        {
          "output_type": "stream",
          "text": [
            "Best parameters:\n",
            "{'max_depth': 20, 'n_estimators': 600}\n",
            "Bestf1_weighted:0.7396654995440946\n",
            "Train classification report:\n",
            "              precision    recall  f1-score   support\n",
            "\n",
            "           0       0.89      0.64      0.75     15000\n",
            "           1       0.71      0.99      0.83     15000\n",
            "           2       0.91      0.81      0.86     15000\n",
            "\n",
            "    accuracy                           0.81     45000\n",
            "   macro avg       0.84      0.81      0.81     45000\n",
            "weighted avg       0.84      0.81      0.81     45000\n",
            "\n",
            "Test classification report:\n",
            "              precision    recall  f1-score   support\n",
            "\n",
            "           0       0.82      0.54      0.65      5000\n",
            "           1       0.68      0.95      0.79      5000\n",
            "           2       0.82      0.77      0.79      5000\n",
            "\n",
            "    accuracy                           0.75     15000\n",
            "   macro avg       0.77      0.75      0.75     15000\n",
            "weighted avg       0.77      0.75      0.75     15000\n",
            "\n",
            " \n",
            "##########################################################################################################\n",
            "Now doing SGDClassifier\n",
            "Fitting 5 folds for each of 12 candidates, totalling 60 fits\n",
            "[CV] alpha=0.0001, l1_ratio=0, loss=hinge, penalty=elasticnet ........\n"
          ],
          "name": "stdout"
        },
        {
          "output_type": "stream",
          "text": [
            "[Parallel(n_jobs=1)]: Using backend SequentialBackend with 1 concurrent workers.\n"
          ],
          "name": "stderr"
        },
        {
          "output_type": "stream",
          "text": [
            "[CV]  alpha=0.0001, l1_ratio=0, loss=hinge, penalty=elasticnet, score=0.790, total=   5.5s\n",
            "[CV] alpha=0.0001, l1_ratio=0, loss=hinge, penalty=elasticnet ........\n"
          ],
          "name": "stdout"
        },
        {
          "output_type": "stream",
          "text": [
            "[Parallel(n_jobs=1)]: Done   1 out of   1 | elapsed:    5.5s remaining:    0.0s\n"
          ],
          "name": "stderr"
        },
        {
          "output_type": "stream",
          "text": [
            "[CV]  alpha=0.0001, l1_ratio=0, loss=hinge, penalty=elasticnet, score=0.795, total=   5.2s\n",
            "[CV] alpha=0.0001, l1_ratio=0, loss=hinge, penalty=elasticnet ........\n"
          ],
          "name": "stdout"
        },
        {
          "output_type": "stream",
          "text": [
            "[Parallel(n_jobs=1)]: Done   2 out of   2 | elapsed:   10.7s remaining:    0.0s\n"
          ],
          "name": "stderr"
        },
        {
          "output_type": "stream",
          "text": [
            "[CV]  alpha=0.0001, l1_ratio=0, loss=hinge, penalty=elasticnet, score=0.806, total=   5.5s\n",
            "[CV] alpha=0.0001, l1_ratio=0, loss=hinge, penalty=elasticnet ........\n",
            "[CV]  alpha=0.0001, l1_ratio=0, loss=hinge, penalty=elasticnet, score=0.798, total=   5.3s\n",
            "[CV] alpha=0.0001, l1_ratio=0, loss=hinge, penalty=elasticnet ........\n",
            "[CV]  alpha=0.0001, l1_ratio=0, loss=hinge, penalty=elasticnet, score=0.796, total=   5.6s\n",
            "[CV] alpha=0.0001, l1_ratio=0.2, loss=hinge, penalty=elasticnet ......\n",
            "[CV]  alpha=0.0001, l1_ratio=0.2, loss=hinge, penalty=elasticnet, score=0.770, total=   3.7s\n",
            "[CV] alpha=0.0001, l1_ratio=0.2, loss=hinge, penalty=elasticnet ......\n",
            "[CV]  alpha=0.0001, l1_ratio=0.2, loss=hinge, penalty=elasticnet, score=0.781, total=   4.2s\n",
            "[CV] alpha=0.0001, l1_ratio=0.2, loss=hinge, penalty=elasticnet ......\n",
            "[CV]  alpha=0.0001, l1_ratio=0.2, loss=hinge, penalty=elasticnet, score=0.794, total=   4.4s\n",
            "[CV] alpha=0.0001, l1_ratio=0.2, loss=hinge, penalty=elasticnet ......\n",
            "[CV]  alpha=0.0001, l1_ratio=0.2, loss=hinge, penalty=elasticnet, score=0.786, total=   3.7s\n",
            "[CV] alpha=0.0001, l1_ratio=0.2, loss=hinge, penalty=elasticnet ......\n",
            "[CV]  alpha=0.0001, l1_ratio=0.2, loss=hinge, penalty=elasticnet, score=0.782, total=   3.6s\n",
            "[CV] alpha=0.0001, l1_ratio=0.7, loss=hinge, penalty=elasticnet ......\n",
            "[CV]  alpha=0.0001, l1_ratio=0.7, loss=hinge, penalty=elasticnet, score=0.759, total=   2.7s\n",
            "[CV] alpha=0.0001, l1_ratio=0.7, loss=hinge, penalty=elasticnet ......\n",
            "[CV]  alpha=0.0001, l1_ratio=0.7, loss=hinge, penalty=elasticnet, score=0.773, total=   3.0s\n",
            "[CV] alpha=0.0001, l1_ratio=0.7, loss=hinge, penalty=elasticnet ......\n",
            "[CV]  alpha=0.0001, l1_ratio=0.7, loss=hinge, penalty=elasticnet, score=0.789, total=   2.8s\n",
            "[CV] alpha=0.0001, l1_ratio=0.7, loss=hinge, penalty=elasticnet ......\n",
            "[CV]  alpha=0.0001, l1_ratio=0.7, loss=hinge, penalty=elasticnet, score=0.785, total=   2.6s\n",
            "[CV] alpha=0.0001, l1_ratio=0.7, loss=hinge, penalty=elasticnet ......\n",
            "[CV]  alpha=0.0001, l1_ratio=0.7, loss=hinge, penalty=elasticnet, score=0.783, total=   2.6s\n",
            "[CV] alpha=0.0001, l1_ratio=1.0, loss=hinge, penalty=elasticnet ......\n",
            "[CV]  alpha=0.0001, l1_ratio=1.0, loss=hinge, penalty=elasticnet, score=0.764, total=   2.5s\n",
            "[CV] alpha=0.0001, l1_ratio=1.0, loss=hinge, penalty=elasticnet ......\n",
            "[CV]  alpha=0.0001, l1_ratio=1.0, loss=hinge, penalty=elasticnet, score=0.782, total=   2.5s\n",
            "[CV] alpha=0.0001, l1_ratio=1.0, loss=hinge, penalty=elasticnet ......\n",
            "[CV]  alpha=0.0001, l1_ratio=1.0, loss=hinge, penalty=elasticnet, score=0.795, total=   2.8s\n",
            "[CV] alpha=0.0001, l1_ratio=1.0, loss=hinge, penalty=elasticnet ......\n",
            "[CV]  alpha=0.0001, l1_ratio=1.0, loss=hinge, penalty=elasticnet, score=0.793, total=   3.2s\n",
            "[CV] alpha=0.0001, l1_ratio=1.0, loss=hinge, penalty=elasticnet ......\n",
            "[CV]  alpha=0.0001, l1_ratio=1.0, loss=hinge, penalty=elasticnet, score=0.797, total=   2.5s\n",
            "[CV] alpha=0.001, l1_ratio=0, loss=hinge, penalty=elasticnet .........\n",
            "[CV]  alpha=0.001, l1_ratio=0, loss=hinge, penalty=elasticnet, score=0.652, total=   3.3s\n",
            "[CV] alpha=0.001, l1_ratio=0, loss=hinge, penalty=elasticnet .........\n",
            "[CV]  alpha=0.001, l1_ratio=0, loss=hinge, penalty=elasticnet, score=0.654, total=   3.2s\n",
            "[CV] alpha=0.001, l1_ratio=0, loss=hinge, penalty=elasticnet .........\n",
            "[CV]  alpha=0.001, l1_ratio=0, loss=hinge, penalty=elasticnet, score=0.655, total=   3.4s\n",
            "[CV] alpha=0.001, l1_ratio=0, loss=hinge, penalty=elasticnet .........\n",
            "[CV]  alpha=0.001, l1_ratio=0, loss=hinge, penalty=elasticnet, score=0.645, total=   3.3s\n",
            "[CV] alpha=0.001, l1_ratio=0, loss=hinge, penalty=elasticnet .........\n",
            "[CV]  alpha=0.001, l1_ratio=0, loss=hinge, penalty=elasticnet, score=0.636, total=   3.5s\n",
            "[CV] alpha=0.001, l1_ratio=0.2, loss=hinge, penalty=elasticnet .......\n",
            "[CV]  alpha=0.001, l1_ratio=0.2, loss=hinge, penalty=elasticnet, score=0.585, total=   2.7s\n",
            "[CV] alpha=0.001, l1_ratio=0.2, loss=hinge, penalty=elasticnet .......\n",
            "[CV]  alpha=0.001, l1_ratio=0.2, loss=hinge, penalty=elasticnet, score=0.597, total=   2.7s\n",
            "[CV] alpha=0.001, l1_ratio=0.2, loss=hinge, penalty=elasticnet .......\n",
            "[CV]  alpha=0.001, l1_ratio=0.2, loss=hinge, penalty=elasticnet, score=0.593, total=   2.6s\n",
            "[CV] alpha=0.001, l1_ratio=0.2, loss=hinge, penalty=elasticnet .......\n",
            "[CV]  alpha=0.001, l1_ratio=0.2, loss=hinge, penalty=elasticnet, score=0.596, total=   2.7s\n",
            "[CV] alpha=0.001, l1_ratio=0.2, loss=hinge, penalty=elasticnet .......\n",
            "[CV]  alpha=0.001, l1_ratio=0.2, loss=hinge, penalty=elasticnet, score=0.597, total=   2.6s\n",
            "[CV] alpha=0.001, l1_ratio=0.7, loss=hinge, penalty=elasticnet .......\n",
            "[CV]  alpha=0.001, l1_ratio=0.7, loss=hinge, penalty=elasticnet, score=0.563, total=   2.9s\n",
            "[CV] alpha=0.001, l1_ratio=0.7, loss=hinge, penalty=elasticnet .......\n",
            "[CV]  alpha=0.001, l1_ratio=0.7, loss=hinge, penalty=elasticnet, score=0.573, total=   3.3s\n",
            "[CV] alpha=0.001, l1_ratio=0.7, loss=hinge, penalty=elasticnet .......\n",
            "[CV]  alpha=0.001, l1_ratio=0.7, loss=hinge, penalty=elasticnet, score=0.576, total=   2.8s\n",
            "[CV] alpha=0.001, l1_ratio=0.7, loss=hinge, penalty=elasticnet .......\n",
            "[CV]  alpha=0.001, l1_ratio=0.7, loss=hinge, penalty=elasticnet, score=0.576, total=   2.6s\n",
            "[CV] alpha=0.001, l1_ratio=0.7, loss=hinge, penalty=elasticnet .......\n",
            "[CV]  alpha=0.001, l1_ratio=0.7, loss=hinge, penalty=elasticnet, score=0.582, total=   3.0s\n",
            "[CV] alpha=0.001, l1_ratio=1.0, loss=hinge, penalty=elasticnet .......\n",
            "[CV]  alpha=0.001, l1_ratio=1.0, loss=hinge, penalty=elasticnet, score=0.562, total=   4.3s\n",
            "[CV] alpha=0.001, l1_ratio=1.0, loss=hinge, penalty=elasticnet .......\n",
            "[CV]  alpha=0.001, l1_ratio=1.0, loss=hinge, penalty=elasticnet, score=0.571, total=   4.6s\n",
            "[CV] alpha=0.001, l1_ratio=1.0, loss=hinge, penalty=elasticnet .......\n",
            "[CV]  alpha=0.001, l1_ratio=1.0, loss=hinge, penalty=elasticnet, score=0.577, total=   3.9s\n",
            "[CV] alpha=0.001, l1_ratio=1.0, loss=hinge, penalty=elasticnet .......\n",
            "[CV]  alpha=0.001, l1_ratio=1.0, loss=hinge, penalty=elasticnet, score=0.584, total=   4.3s\n",
            "[CV] alpha=0.001, l1_ratio=1.0, loss=hinge, penalty=elasticnet .......\n",
            "[CV]  alpha=0.001, l1_ratio=1.0, loss=hinge, penalty=elasticnet, score=0.578, total=   4.2s\n",
            "[CV] alpha=0.01, l1_ratio=0, loss=hinge, penalty=elasticnet ..........\n",
            "[CV]  alpha=0.01, l1_ratio=0, loss=hinge, penalty=elasticnet, score=0.632, total=   3.1s\n",
            "[CV] alpha=0.01, l1_ratio=0, loss=hinge, penalty=elasticnet ..........\n",
            "[CV]  alpha=0.01, l1_ratio=0, loss=hinge, penalty=elasticnet, score=0.634, total=   2.8s\n",
            "[CV] alpha=0.01, l1_ratio=0, loss=hinge, penalty=elasticnet ..........\n",
            "[CV]  alpha=0.01, l1_ratio=0, loss=hinge, penalty=elasticnet, score=0.639, total=   2.7s\n",
            "[CV] alpha=0.01, l1_ratio=0, loss=hinge, penalty=elasticnet ..........\n",
            "[CV]  alpha=0.01, l1_ratio=0, loss=hinge, penalty=elasticnet, score=0.629, total=   2.7s\n",
            "[CV] alpha=0.01, l1_ratio=0, loss=hinge, penalty=elasticnet ..........\n",
            "[CV]  alpha=0.01, l1_ratio=0, loss=hinge, penalty=elasticnet, score=0.621, total=   2.7s\n",
            "[CV] alpha=0.01, l1_ratio=0.2, loss=hinge, penalty=elasticnet ........\n",
            "[CV]  alpha=0.01, l1_ratio=0.2, loss=hinge, penalty=elasticnet, score=0.476, total=   2.5s\n",
            "[CV] alpha=0.01, l1_ratio=0.2, loss=hinge, penalty=elasticnet ........\n",
            "[CV]  alpha=0.01, l1_ratio=0.2, loss=hinge, penalty=elasticnet, score=0.481, total=   2.5s\n",
            "[CV] alpha=0.01, l1_ratio=0.2, loss=hinge, penalty=elasticnet ........\n",
            "[CV]  alpha=0.01, l1_ratio=0.2, loss=hinge, penalty=elasticnet, score=0.456, total=   2.3s\n",
            "[CV] alpha=0.01, l1_ratio=0.2, loss=hinge, penalty=elasticnet ........\n",
            "[CV]  alpha=0.01, l1_ratio=0.2, loss=hinge, penalty=elasticnet, score=0.488, total=   2.6s\n",
            "[CV] alpha=0.01, l1_ratio=0.2, loss=hinge, penalty=elasticnet ........\n",
            "[CV]  alpha=0.01, l1_ratio=0.2, loss=hinge, penalty=elasticnet, score=0.501, total=   2.8s\n",
            "[CV] alpha=0.01, l1_ratio=0.7, loss=hinge, penalty=elasticnet ........\n",
            "[CV]  alpha=0.01, l1_ratio=0.7, loss=hinge, penalty=elasticnet, score=0.292, total=   2.6s\n",
            "[CV] alpha=0.01, l1_ratio=0.7, loss=hinge, penalty=elasticnet ........\n",
            "[CV]  alpha=0.01, l1_ratio=0.7, loss=hinge, penalty=elasticnet, score=0.168, total=   2.4s\n",
            "[CV] alpha=0.01, l1_ratio=0.7, loss=hinge, penalty=elasticnet ........\n",
            "[CV]  alpha=0.01, l1_ratio=0.7, loss=hinge, penalty=elasticnet, score=0.420, total=   2.4s\n",
            "[CV] alpha=0.01, l1_ratio=0.7, loss=hinge, penalty=elasticnet ........\n",
            "[CV]  alpha=0.01, l1_ratio=0.7, loss=hinge, penalty=elasticnet, score=0.444, total=   2.4s\n",
            "[CV] alpha=0.01, l1_ratio=0.7, loss=hinge, penalty=elasticnet ........\n",
            "[CV]  alpha=0.01, l1_ratio=0.7, loss=hinge, penalty=elasticnet, score=0.167, total=   2.4s\n",
            "[CV] alpha=0.01, l1_ratio=1.0, loss=hinge, penalty=elasticnet ........\n",
            "[CV]  alpha=0.01, l1_ratio=1.0, loss=hinge, penalty=elasticnet, score=0.252, total=   2.6s\n",
            "[CV] alpha=0.01, l1_ratio=1.0, loss=hinge, penalty=elasticnet ........\n",
            "[CV]  alpha=0.01, l1_ratio=1.0, loss=hinge, penalty=elasticnet, score=0.167, total=   2.6s\n",
            "[CV] alpha=0.01, l1_ratio=1.0, loss=hinge, penalty=elasticnet ........\n",
            "[CV]  alpha=0.01, l1_ratio=1.0, loss=hinge, penalty=elasticnet, score=0.213, total=   2.7s\n",
            "[CV] alpha=0.01, l1_ratio=1.0, loss=hinge, penalty=elasticnet ........\n",
            "[CV]  alpha=0.01, l1_ratio=1.0, loss=hinge, penalty=elasticnet, score=0.167, total=   2.7s\n",
            "[CV] alpha=0.01, l1_ratio=1.0, loss=hinge, penalty=elasticnet ........\n",
            "[CV]  alpha=0.01, l1_ratio=1.0, loss=hinge, penalty=elasticnet, score=0.248, total=   2.6s\n"
          ],
          "name": "stdout"
        },
        {
          "output_type": "stream",
          "text": [
            "[Parallel(n_jobs=1)]: Done  60 out of  60 | elapsed:  3.2min finished\n"
          ],
          "name": "stderr"
        },
        {
          "output_type": "stream",
          "text": [
            "Best parameters:\n",
            "{'alpha': 0.0001, 'l1_ratio': 0, 'loss': 'hinge', 'penalty': 'elasticnet'}\n",
            "Bestf1_weighted:0.797001735322447\n",
            "Train classification report:\n",
            "              precision    recall  f1-score   support\n",
            "\n",
            "           0       0.93      0.74      0.82     15000\n",
            "           1       0.82      0.97      0.89     15000\n",
            "           2       0.90      0.93      0.92     15000\n",
            "\n",
            "    accuracy                           0.88     45000\n",
            "   macro avg       0.89      0.88      0.88     45000\n",
            "weighted avg       0.89      0.88      0.88     45000\n",
            "\n",
            "Test classification report:\n",
            "              precision    recall  f1-score   support\n",
            "\n",
            "           0       0.84      0.64      0.73      5000\n",
            "           1       0.78      0.92      0.85      5000\n",
            "           2       0.83      0.88      0.85      5000\n",
            "\n",
            "    accuracy                           0.81     15000\n",
            "   macro avg       0.82      0.81      0.81     15000\n",
            "weighted avg       0.82      0.81      0.81     15000\n",
            "\n",
            " \n",
            "##########################################################################################################\n",
            "Now doing GradientBoostingClassifier\n",
            "Fitting 5 folds for each of 9 candidates, totalling 45 fits\n",
            "[CV] learning_rate=0.01, n_estimators=50 .............................\n"
          ],
          "name": "stdout"
        },
        {
          "output_type": "stream",
          "text": [
            "[Parallel(n_jobs=1)]: Using backend SequentialBackend with 1 concurrent workers.\n"
          ],
          "name": "stderr"
        }
      ]
    },
    {
      "cell_type": "markdown",
      "metadata": {
        "id": "RXoYj0BYSLU5"
      },
      "source": [
        "# TFIDF with 10000 max features"
      ]
    },
    {
      "cell_type": "code",
      "metadata": {
        "id": "_nxH7kQrSOwQ"
      },
      "source": [
        "def get_data2_maxfeats(path,g=1,c=None,tf=None,train=1):\n",
        "    d = pd.read_csv(path)\n",
        "    d['Body_joined'] = d['Body']+d['Title']\n",
        "    d['Body_joined'].apply(cleaning_text)\n",
        "    d['Body_joined'].apply(rem_stop_words)\n",
        "    if train == 1:\n",
        "        c = CountVectorizer(ngram_range=(1,g),max_features=10000)\n",
        "        counts = c.fit_transform(d.Body_joined)\n",
        "        tf = TfidfTransformer()\n",
        "        d_tfidf = tf.fit_transform(counts)\n",
        "    else:\n",
        "        assert c != None\n",
        "        assert tf != None\n",
        "        counts = c.transform(d.Body_joined)\n",
        "        d_tfidf = tf.transform(counts)\n",
        "    return d_tfidf,c,tf,d['Y']\n",
        "\n",
        "def cleaning_text(text):\n",
        "    text = text.lower()\n",
        "    text = re.sub(r'[^(a-zA-Z)\\s]','', text)\n",
        "    return text\n",
        "\n",
        "stop_words = set(stopwords.words('english'))\n",
        "def rem_stop_words(words):\n",
        "    l = [x for x in words.split(' ') if not x in stop_words]\n",
        "    return ' '.join(l)"
      ],
      "execution_count": null,
      "outputs": []
    },
    {
      "cell_type": "code",
      "metadata": {
        "colab": {
          "base_uri": "https://localhost:8080/"
        },
        "id": "4bBqbYbSTW6J",
        "outputId": "78bf6e41-fb6b-4480-c006-dc01f764539e"
      },
      "source": [
        "train_path = 'drive/MyDrive/EE769Project/train.csv'\n",
        "test_path = 'drive/MyDrive/EE769Project/valid.csv'\n",
        "d_train3,c_train3,tf_train3,y_train3 = get_data2_maxfeats(train_path)\n",
        "d_test3,c_train3,tf_train3,y_test3 = get_data2_maxfeats(test_path,c=c_train3,tf=tf_train3,train=0)\n",
        "\n",
        "print(d_train3.shape)\n",
        "print(d_test3.shape)\n",
        "\n",
        "new_values = {'HQ':2, 'LQ_EDIT':1, 'LQ_CLOSE':0}\n",
        "y_train3  = y_train3.replace(new_values)\n",
        "y_test3 = y_test3.replace(new_values)\n",
        "\n",
        "print(y_train3.shape)\n",
        "print(y_test3.shape)"
      ],
      "execution_count": null,
      "outputs": [
        {
          "output_type": "stream",
          "text": [
            "(45000, 10000)\n",
            "(15000, 10000)\n",
            "(45000,)\n",
            "(15000,)\n"
          ],
          "name": "stdout"
        }
      ]
    },
    {
      "cell_type": "code",
      "metadata": {
        "id": "EqnkzbMLQ-mE"
      },
      "source": [
        "clf_dict = {\n",
        "    'LogisticRegression': LogisticRegression(),\n",
        "    'SGDClassifier': SGDClassifier(),\n",
        "    'LinearSVC': LinearSVC(),\n",
        "    'RandomForestClassifier': RandomForestClassifier(),\n",
        "    'GradientBoostingClassifier': GradientBoostingClassifier(),\n",
        "}"
      ],
      "execution_count": null,
      "outputs": []
    },
    {
      "cell_type": "code",
      "metadata": {
        "colab": {
          "base_uri": "https://localhost:8080/",
          "height": 1000
        },
        "id": "obYekGZ1Tqcx",
        "outputId": "84300380-d02b-442e-8a3e-bfeabce8228d"
      },
      "source": [
        "result_dict3 = {}\n",
        "model_order = ['LogisticRegression','LinearSVC','RandomForestClassifier','SGDClassifier','GradientBoostingClassifier']\n",
        "for clf_str in model_order:\n",
        "    if clf_str == 'LogisticRegression':\n",
        "        params = {'C':[0.01,0.1,1.0,10.0,100.0],'max_iter':[50,150,300],'multi_class':['auto']}\n",
        "    elif clf_str == 'RandomForestClassifier':\n",
        "        params = {'n_estimators': [50,200,600],\n",
        "                  'max_depth': [10,15,20]}\n",
        "    elif clf_str == 'GradientBoostingClassifier':\n",
        "        params = {'n_estimators': [50,200,600],\n",
        "                  'learning_rate': [0.01,0.1,0.5]}\n",
        "    elif clf_str == 'LinearSVC':\n",
        "        params = {'C':[0.01,0.1,1.0,10.0,100.0]}\n",
        "    elif clf_str == 'SGDClassifier':\n",
        "        params = {'loss':['hinge'],'alpha':[0.0001,0.001,0.01],'penalty':['elasticnet'],'l1_ratio':[0,0.2,0.7,1.0]}\n",
        "    clf_fn = clf_dict[clf_str]\n",
        "    print(\" \")\n",
        "    print(\"##########################################################################################################\")\n",
        "    print(\"Now doing\",clf_str)\n",
        "    opt = do_gridSearch(clf_fn,d_train3,y_train3,d_test3,y_test3,params)\n",
        "    result_dict3[clf_str] = opt"
      ],
      "execution_count": null,
      "outputs": [
        {
          "output_type": "stream",
          "text": [
            " \n",
            "##########################################################################################################\n",
            "Now doing LogisticRegression\n",
            "Fitting 5 folds for each of 15 candidates, totalling 75 fits\n",
            "[CV] C=0.01, max_iter=50, multi_class=auto ...........................\n"
          ],
          "name": "stdout"
        },
        {
          "output_type": "stream",
          "text": [
            "[Parallel(n_jobs=1)]: Using backend SequentialBackend with 1 concurrent workers.\n"
          ],
          "name": "stderr"
        },
        {
          "output_type": "stream",
          "text": [
            "[CV]  C=0.01, max_iter=50, multi_class=auto, score=0.691, total=   2.2s\n",
            "[CV] C=0.01, max_iter=50, multi_class=auto ...........................\n"
          ],
          "name": "stdout"
        },
        {
          "output_type": "stream",
          "text": [
            "[Parallel(n_jobs=1)]: Done   1 out of   1 | elapsed:    2.2s remaining:    0.0s\n"
          ],
          "name": "stderr"
        },
        {
          "output_type": "stream",
          "text": [
            "[CV]  C=0.01, max_iter=50, multi_class=auto, score=0.702, total=   2.3s\n",
            "[CV] C=0.01, max_iter=50, multi_class=auto ...........................\n"
          ],
          "name": "stdout"
        },
        {
          "output_type": "stream",
          "text": [
            "[Parallel(n_jobs=1)]: Done   2 out of   2 | elapsed:    4.4s remaining:    0.0s\n"
          ],
          "name": "stderr"
        },
        {
          "output_type": "stream",
          "text": [
            "[CV]  C=0.01, max_iter=50, multi_class=auto, score=0.711, total=   2.1s\n",
            "[CV] C=0.01, max_iter=50, multi_class=auto ...........................\n",
            "[CV]  C=0.01, max_iter=50, multi_class=auto, score=0.716, total=   2.0s\n",
            "[CV] C=0.01, max_iter=50, multi_class=auto ...........................\n",
            "[CV]  C=0.01, max_iter=50, multi_class=auto, score=0.707, total=   3.0s\n",
            "[CV] C=0.01, max_iter=150, multi_class=auto ..........................\n",
            "[CV]  C=0.01, max_iter=150, multi_class=auto, score=0.691, total=   2.2s\n",
            "[CV] C=0.01, max_iter=150, multi_class=auto ..........................\n",
            "[CV]  C=0.01, max_iter=150, multi_class=auto, score=0.702, total=   2.3s\n",
            "[CV] C=0.01, max_iter=150, multi_class=auto ..........................\n",
            "[CV]  C=0.01, max_iter=150, multi_class=auto, score=0.711, total=   2.3s\n",
            "[CV] C=0.01, max_iter=150, multi_class=auto ..........................\n",
            "[CV]  C=0.01, max_iter=150, multi_class=auto, score=0.716, total=   1.9s\n",
            "[CV] C=0.01, max_iter=150, multi_class=auto ..........................\n",
            "[CV]  C=0.01, max_iter=150, multi_class=auto, score=0.707, total=   3.1s\n",
            "[CV] C=0.01, max_iter=300, multi_class=auto ..........................\n",
            "[CV]  C=0.01, max_iter=300, multi_class=auto, score=0.691, total=   2.1s\n",
            "[CV] C=0.01, max_iter=300, multi_class=auto ..........................\n",
            "[CV]  C=0.01, max_iter=300, multi_class=auto, score=0.702, total=   2.3s\n",
            "[CV] C=0.01, max_iter=300, multi_class=auto ..........................\n",
            "[CV]  C=0.01, max_iter=300, multi_class=auto, score=0.711, total=   2.5s\n",
            "[CV] C=0.01, max_iter=300, multi_class=auto ..........................\n",
            "[CV]  C=0.01, max_iter=300, multi_class=auto, score=0.716, total=   2.1s\n",
            "[CV] C=0.01, max_iter=300, multi_class=auto ..........................\n",
            "[CV]  C=0.01, max_iter=300, multi_class=auto, score=0.707, total=   2.9s\n",
            "[CV] C=0.1, max_iter=50, multi_class=auto ............................\n"
          ],
          "name": "stdout"
        },
        {
          "output_type": "stream",
          "text": [
            "/usr/local/lib/python3.7/dist-packages/sklearn/linear_model/_logistic.py:940: ConvergenceWarning: lbfgs failed to converge (status=1):\n",
            "STOP: TOTAL NO. of ITERATIONS REACHED LIMIT.\n",
            "\n",
            "Increase the number of iterations (max_iter) or scale the data as shown in:\n",
            "    https://scikit-learn.org/stable/modules/preprocessing.html\n",
            "Please also refer to the documentation for alternative solver options:\n",
            "    https://scikit-learn.org/stable/modules/linear_model.html#logistic-regression\n",
            "  extra_warning_msg=_LOGISTIC_SOLVER_CONVERGENCE_MSG)\n"
          ],
          "name": "stderr"
        },
        {
          "output_type": "stream",
          "text": [
            "[CV]  C=0.1, max_iter=50, multi_class=auto, score=0.779, total=   4.8s\n",
            "[CV] C=0.1, max_iter=50, multi_class=auto ............................\n"
          ],
          "name": "stdout"
        },
        {
          "output_type": "stream",
          "text": [
            "/usr/local/lib/python3.7/dist-packages/sklearn/linear_model/_logistic.py:940: ConvergenceWarning: lbfgs failed to converge (status=1):\n",
            "STOP: TOTAL NO. of ITERATIONS REACHED LIMIT.\n",
            "\n",
            "Increase the number of iterations (max_iter) or scale the data as shown in:\n",
            "    https://scikit-learn.org/stable/modules/preprocessing.html\n",
            "Please also refer to the documentation for alternative solver options:\n",
            "    https://scikit-learn.org/stable/modules/linear_model.html#logistic-regression\n",
            "  extra_warning_msg=_LOGISTIC_SOLVER_CONVERGENCE_MSG)\n"
          ],
          "name": "stderr"
        },
        {
          "output_type": "stream",
          "text": [
            "[CV]  C=0.1, max_iter=50, multi_class=auto, score=0.783, total=   4.6s\n",
            "[CV] C=0.1, max_iter=50, multi_class=auto ............................\n"
          ],
          "name": "stdout"
        },
        {
          "output_type": "stream",
          "text": [
            "/usr/local/lib/python3.7/dist-packages/sklearn/linear_model/_logistic.py:940: ConvergenceWarning: lbfgs failed to converge (status=1):\n",
            "STOP: TOTAL NO. of ITERATIONS REACHED LIMIT.\n",
            "\n",
            "Increase the number of iterations (max_iter) or scale the data as shown in:\n",
            "    https://scikit-learn.org/stable/modules/preprocessing.html\n",
            "Please also refer to the documentation for alternative solver options:\n",
            "    https://scikit-learn.org/stable/modules/linear_model.html#logistic-regression\n",
            "  extra_warning_msg=_LOGISTIC_SOLVER_CONVERGENCE_MSG)\n"
          ],
          "name": "stderr"
        },
        {
          "output_type": "stream",
          "text": [
            "[CV]  C=0.1, max_iter=50, multi_class=auto, score=0.794, total=   5.2s\n",
            "[CV] C=0.1, max_iter=50, multi_class=auto ............................\n"
          ],
          "name": "stdout"
        },
        {
          "output_type": "stream",
          "text": [
            "/usr/local/lib/python3.7/dist-packages/sklearn/linear_model/_logistic.py:940: ConvergenceWarning: lbfgs failed to converge (status=1):\n",
            "STOP: TOTAL NO. of ITERATIONS REACHED LIMIT.\n",
            "\n",
            "Increase the number of iterations (max_iter) or scale the data as shown in:\n",
            "    https://scikit-learn.org/stable/modules/preprocessing.html\n",
            "Please also refer to the documentation for alternative solver options:\n",
            "    https://scikit-learn.org/stable/modules/linear_model.html#logistic-regression\n",
            "  extra_warning_msg=_LOGISTIC_SOLVER_CONVERGENCE_MSG)\n"
          ],
          "name": "stderr"
        },
        {
          "output_type": "stream",
          "text": [
            "[CV]  C=0.1, max_iter=50, multi_class=auto, score=0.793, total=   4.8s\n",
            "[CV] C=0.1, max_iter=50, multi_class=auto ............................\n"
          ],
          "name": "stdout"
        },
        {
          "output_type": "stream",
          "text": [
            "/usr/local/lib/python3.7/dist-packages/sklearn/linear_model/_logistic.py:940: ConvergenceWarning: lbfgs failed to converge (status=1):\n",
            "STOP: TOTAL NO. of ITERATIONS REACHED LIMIT.\n",
            "\n",
            "Increase the number of iterations (max_iter) or scale the data as shown in:\n",
            "    https://scikit-learn.org/stable/modules/preprocessing.html\n",
            "Please also refer to the documentation for alternative solver options:\n",
            "    https://scikit-learn.org/stable/modules/linear_model.html#logistic-regression\n",
            "  extra_warning_msg=_LOGISTIC_SOLVER_CONVERGENCE_MSG)\n"
          ],
          "name": "stderr"
        },
        {
          "output_type": "stream",
          "text": [
            "[CV]  C=0.1, max_iter=50, multi_class=auto, score=0.790, total=   4.9s\n",
            "[CV] C=0.1, max_iter=150, multi_class=auto ...........................\n",
            "[CV]  C=0.1, max_iter=150, multi_class=auto, score=0.779, total=   7.0s\n",
            "[CV] C=0.1, max_iter=150, multi_class=auto ...........................\n",
            "[CV]  C=0.1, max_iter=150, multi_class=auto, score=0.782, total=   6.7s\n",
            "[CV] C=0.1, max_iter=150, multi_class=auto ...........................\n",
            "[CV]  C=0.1, max_iter=150, multi_class=auto, score=0.795, total=   7.8s\n",
            "[CV] C=0.1, max_iter=150, multi_class=auto ...........................\n",
            "[CV]  C=0.1, max_iter=150, multi_class=auto, score=0.792, total=   7.4s\n",
            "[CV] C=0.1, max_iter=150, multi_class=auto ...........................\n",
            "[CV]  C=0.1, max_iter=150, multi_class=auto, score=0.790, total=   7.6s\n",
            "[CV] C=0.1, max_iter=300, multi_class=auto ...........................\n",
            "[CV]  C=0.1, max_iter=300, multi_class=auto, score=0.779, total=   7.1s\n",
            "[CV] C=0.1, max_iter=300, multi_class=auto ...........................\n",
            "[CV]  C=0.1, max_iter=300, multi_class=auto, score=0.782, total=   6.8s\n",
            "[CV] C=0.1, max_iter=300, multi_class=auto ...........................\n",
            "[CV]  C=0.1, max_iter=300, multi_class=auto, score=0.795, total=   8.1s\n",
            "[CV] C=0.1, max_iter=300, multi_class=auto ...........................\n",
            "[CV]  C=0.1, max_iter=300, multi_class=auto, score=0.792, total=   7.1s\n",
            "[CV] C=0.1, max_iter=300, multi_class=auto ...........................\n",
            "[CV]  C=0.1, max_iter=300, multi_class=auto, score=0.790, total=   7.6s\n",
            "[CV] C=1.0, max_iter=50, multi_class=auto ............................\n"
          ],
          "name": "stdout"
        },
        {
          "output_type": "stream",
          "text": [
            "/usr/local/lib/python3.7/dist-packages/sklearn/linear_model/_logistic.py:940: ConvergenceWarning: lbfgs failed to converge (status=1):\n",
            "STOP: TOTAL NO. of ITERATIONS REACHED LIMIT.\n",
            "\n",
            "Increase the number of iterations (max_iter) or scale the data as shown in:\n",
            "    https://scikit-learn.org/stable/modules/preprocessing.html\n",
            "Please also refer to the documentation for alternative solver options:\n",
            "    https://scikit-learn.org/stable/modules/linear_model.html#logistic-regression\n",
            "  extra_warning_msg=_LOGISTIC_SOLVER_CONVERGENCE_MSG)\n"
          ],
          "name": "stderr"
        },
        {
          "output_type": "stream",
          "text": [
            "[CV]  C=1.0, max_iter=50, multi_class=auto, score=0.812, total=   4.7s\n",
            "[CV] C=1.0, max_iter=50, multi_class=auto ............................\n"
          ],
          "name": "stdout"
        },
        {
          "output_type": "stream",
          "text": [
            "/usr/local/lib/python3.7/dist-packages/sklearn/linear_model/_logistic.py:940: ConvergenceWarning: lbfgs failed to converge (status=1):\n",
            "STOP: TOTAL NO. of ITERATIONS REACHED LIMIT.\n",
            "\n",
            "Increase the number of iterations (max_iter) or scale the data as shown in:\n",
            "    https://scikit-learn.org/stable/modules/preprocessing.html\n",
            "Please also refer to the documentation for alternative solver options:\n",
            "    https://scikit-learn.org/stable/modules/linear_model.html#logistic-regression\n",
            "  extra_warning_msg=_LOGISTIC_SOLVER_CONVERGENCE_MSG)\n"
          ],
          "name": "stderr"
        },
        {
          "output_type": "stream",
          "text": [
            "[CV]  C=1.0, max_iter=50, multi_class=auto, score=0.813, total=   5.1s\n",
            "[CV] C=1.0, max_iter=50, multi_class=auto ............................\n"
          ],
          "name": "stdout"
        },
        {
          "output_type": "stream",
          "text": [
            "/usr/local/lib/python3.7/dist-packages/sklearn/linear_model/_logistic.py:940: ConvergenceWarning: lbfgs failed to converge (status=1):\n",
            "STOP: TOTAL NO. of ITERATIONS REACHED LIMIT.\n",
            "\n",
            "Increase the number of iterations (max_iter) or scale the data as shown in:\n",
            "    https://scikit-learn.org/stable/modules/preprocessing.html\n",
            "Please also refer to the documentation for alternative solver options:\n",
            "    https://scikit-learn.org/stable/modules/linear_model.html#logistic-regression\n",
            "  extra_warning_msg=_LOGISTIC_SOLVER_CONVERGENCE_MSG)\n"
          ],
          "name": "stderr"
        },
        {
          "output_type": "stream",
          "text": [
            "[CV]  C=1.0, max_iter=50, multi_class=auto, score=0.823, total=   4.3s\n",
            "[CV] C=1.0, max_iter=50, multi_class=auto ............................\n"
          ],
          "name": "stdout"
        },
        {
          "output_type": "stream",
          "text": [
            "/usr/local/lib/python3.7/dist-packages/sklearn/linear_model/_logistic.py:940: ConvergenceWarning: lbfgs failed to converge (status=1):\n",
            "STOP: TOTAL NO. of ITERATIONS REACHED LIMIT.\n",
            "\n",
            "Increase the number of iterations (max_iter) or scale the data as shown in:\n",
            "    https://scikit-learn.org/stable/modules/preprocessing.html\n",
            "Please also refer to the documentation for alternative solver options:\n",
            "    https://scikit-learn.org/stable/modules/linear_model.html#logistic-regression\n",
            "  extra_warning_msg=_LOGISTIC_SOLVER_CONVERGENCE_MSG)\n"
          ],
          "name": "stderr"
        },
        {
          "output_type": "stream",
          "text": [
            "[CV]  C=1.0, max_iter=50, multi_class=auto, score=0.826, total=   4.6s\n",
            "[CV] C=1.0, max_iter=50, multi_class=auto ............................\n"
          ],
          "name": "stdout"
        },
        {
          "output_type": "stream",
          "text": [
            "/usr/local/lib/python3.7/dist-packages/sklearn/linear_model/_logistic.py:940: ConvergenceWarning: lbfgs failed to converge (status=1):\n",
            "STOP: TOTAL NO. of ITERATIONS REACHED LIMIT.\n",
            "\n",
            "Increase the number of iterations (max_iter) or scale the data as shown in:\n",
            "    https://scikit-learn.org/stable/modules/preprocessing.html\n",
            "Please also refer to the documentation for alternative solver options:\n",
            "    https://scikit-learn.org/stable/modules/linear_model.html#logistic-regression\n",
            "  extra_warning_msg=_LOGISTIC_SOLVER_CONVERGENCE_MSG)\n"
          ],
          "name": "stderr"
        },
        {
          "output_type": "stream",
          "text": [
            "[CV]  C=1.0, max_iter=50, multi_class=auto, score=0.820, total=   4.7s\n",
            "[CV] C=1.0, max_iter=150, multi_class=auto ...........................\n"
          ],
          "name": "stdout"
        },
        {
          "output_type": "stream",
          "text": [
            "/usr/local/lib/python3.7/dist-packages/sklearn/linear_model/_logistic.py:940: ConvergenceWarning: lbfgs failed to converge (status=1):\n",
            "STOP: TOTAL NO. of ITERATIONS REACHED LIMIT.\n",
            "\n",
            "Increase the number of iterations (max_iter) or scale the data as shown in:\n",
            "    https://scikit-learn.org/stable/modules/preprocessing.html\n",
            "Please also refer to the documentation for alternative solver options:\n",
            "    https://scikit-learn.org/stable/modules/linear_model.html#logistic-regression\n",
            "  extra_warning_msg=_LOGISTIC_SOLVER_CONVERGENCE_MSG)\n"
          ],
          "name": "stderr"
        },
        {
          "output_type": "stream",
          "text": [
            "[CV]  C=1.0, max_iter=150, multi_class=auto, score=0.810, total=  14.1s\n",
            "[CV] C=1.0, max_iter=150, multi_class=auto ...........................\n"
          ],
          "name": "stdout"
        },
        {
          "output_type": "stream",
          "text": [
            "/usr/local/lib/python3.7/dist-packages/sklearn/linear_model/_logistic.py:940: ConvergenceWarning: lbfgs failed to converge (status=1):\n",
            "STOP: TOTAL NO. of ITERATIONS REACHED LIMIT.\n",
            "\n",
            "Increase the number of iterations (max_iter) or scale the data as shown in:\n",
            "    https://scikit-learn.org/stable/modules/preprocessing.html\n",
            "Please also refer to the documentation for alternative solver options:\n",
            "    https://scikit-learn.org/stable/modules/linear_model.html#logistic-regression\n",
            "  extra_warning_msg=_LOGISTIC_SOLVER_CONVERGENCE_MSG)\n"
          ],
          "name": "stderr"
        },
        {
          "output_type": "stream",
          "text": [
            "[CV]  C=1.0, max_iter=150, multi_class=auto, score=0.813, total=  14.6s\n",
            "[CV] C=1.0, max_iter=150, multi_class=auto ...........................\n"
          ],
          "name": "stdout"
        },
        {
          "output_type": "stream",
          "text": [
            "/usr/local/lib/python3.7/dist-packages/sklearn/linear_model/_logistic.py:940: ConvergenceWarning: lbfgs failed to converge (status=1):\n",
            "STOP: TOTAL NO. of ITERATIONS REACHED LIMIT.\n",
            "\n",
            "Increase the number of iterations (max_iter) or scale the data as shown in:\n",
            "    https://scikit-learn.org/stable/modules/preprocessing.html\n",
            "Please also refer to the documentation for alternative solver options:\n",
            "    https://scikit-learn.org/stable/modules/linear_model.html#logistic-regression\n",
            "  extra_warning_msg=_LOGISTIC_SOLVER_CONVERGENCE_MSG)\n"
          ],
          "name": "stderr"
        },
        {
          "output_type": "stream",
          "text": [
            "[CV]  C=1.0, max_iter=150, multi_class=auto, score=0.823, total=  14.3s\n",
            "[CV] C=1.0, max_iter=150, multi_class=auto ...........................\n"
          ],
          "name": "stdout"
        },
        {
          "output_type": "stream",
          "text": [
            "/usr/local/lib/python3.7/dist-packages/sklearn/linear_model/_logistic.py:940: ConvergenceWarning: lbfgs failed to converge (status=1):\n",
            "STOP: TOTAL NO. of ITERATIONS REACHED LIMIT.\n",
            "\n",
            "Increase the number of iterations (max_iter) or scale the data as shown in:\n",
            "    https://scikit-learn.org/stable/modules/preprocessing.html\n",
            "Please also refer to the documentation for alternative solver options:\n",
            "    https://scikit-learn.org/stable/modules/linear_model.html#logistic-regression\n",
            "  extra_warning_msg=_LOGISTIC_SOLVER_CONVERGENCE_MSG)\n"
          ],
          "name": "stderr"
        },
        {
          "output_type": "stream",
          "text": [
            "[CV]  C=1.0, max_iter=150, multi_class=auto, score=0.827, total=  14.5s\n",
            "[CV] C=1.0, max_iter=150, multi_class=auto ...........................\n"
          ],
          "name": "stdout"
        },
        {
          "output_type": "stream",
          "text": [
            "/usr/local/lib/python3.7/dist-packages/sklearn/linear_model/_logistic.py:940: ConvergenceWarning: lbfgs failed to converge (status=1):\n",
            "STOP: TOTAL NO. of ITERATIONS REACHED LIMIT.\n",
            "\n",
            "Increase the number of iterations (max_iter) or scale the data as shown in:\n",
            "    https://scikit-learn.org/stable/modules/preprocessing.html\n",
            "Please also refer to the documentation for alternative solver options:\n",
            "    https://scikit-learn.org/stable/modules/linear_model.html#logistic-regression\n",
            "  extra_warning_msg=_LOGISTIC_SOLVER_CONVERGENCE_MSG)\n"
          ],
          "name": "stderr"
        },
        {
          "output_type": "stream",
          "text": [
            "[CV]  C=1.0, max_iter=150, multi_class=auto, score=0.818, total=  16.1s\n",
            "[CV] C=1.0, max_iter=300, multi_class=auto ...........................\n",
            "[CV]  C=1.0, max_iter=300, multi_class=auto, score=0.810, total=  17.4s\n",
            "[CV] C=1.0, max_iter=300, multi_class=auto ...........................\n",
            "[CV]  C=1.0, max_iter=300, multi_class=auto, score=0.813, total=  18.5s\n",
            "[CV] C=1.0, max_iter=300, multi_class=auto ...........................\n",
            "[CV]  C=1.0, max_iter=300, multi_class=auto, score=0.823, total=  19.2s\n",
            "[CV] C=1.0, max_iter=300, multi_class=auto ...........................\n",
            "[CV]  C=1.0, max_iter=300, multi_class=auto, score=0.827, total=  18.0s\n",
            "[CV] C=1.0, max_iter=300, multi_class=auto ...........................\n",
            "[CV]  C=1.0, max_iter=300, multi_class=auto, score=0.818, total=  17.9s\n",
            "[CV] C=10.0, max_iter=50, multi_class=auto ...........................\n"
          ],
          "name": "stdout"
        },
        {
          "output_type": "stream",
          "text": [
            "/usr/local/lib/python3.7/dist-packages/sklearn/linear_model/_logistic.py:940: ConvergenceWarning: lbfgs failed to converge (status=1):\n",
            "STOP: TOTAL NO. of ITERATIONS REACHED LIMIT.\n",
            "\n",
            "Increase the number of iterations (max_iter) or scale the data as shown in:\n",
            "    https://scikit-learn.org/stable/modules/preprocessing.html\n",
            "Please also refer to the documentation for alternative solver options:\n",
            "    https://scikit-learn.org/stable/modules/linear_model.html#logistic-regression\n",
            "  extra_warning_msg=_LOGISTIC_SOLVER_CONVERGENCE_MSG)\n"
          ],
          "name": "stderr"
        },
        {
          "output_type": "stream",
          "text": [
            "[CV]  C=10.0, max_iter=50, multi_class=auto, score=0.805, total=   4.5s\n",
            "[CV] C=10.0, max_iter=50, multi_class=auto ...........................\n"
          ],
          "name": "stdout"
        },
        {
          "output_type": "stream",
          "text": [
            "/usr/local/lib/python3.7/dist-packages/sklearn/linear_model/_logistic.py:940: ConvergenceWarning: lbfgs failed to converge (status=1):\n",
            "STOP: TOTAL NO. of ITERATIONS REACHED LIMIT.\n",
            "\n",
            "Increase the number of iterations (max_iter) or scale the data as shown in:\n",
            "    https://scikit-learn.org/stable/modules/preprocessing.html\n",
            "Please also refer to the documentation for alternative solver options:\n",
            "    https://scikit-learn.org/stable/modules/linear_model.html#logistic-regression\n",
            "  extra_warning_msg=_LOGISTIC_SOLVER_CONVERGENCE_MSG)\n"
          ],
          "name": "stderr"
        },
        {
          "output_type": "stream",
          "text": [
            "[CV]  C=10.0, max_iter=50, multi_class=auto, score=0.815, total=   5.1s\n",
            "[CV] C=10.0, max_iter=50, multi_class=auto ...........................\n"
          ],
          "name": "stdout"
        },
        {
          "output_type": "stream",
          "text": [
            "/usr/local/lib/python3.7/dist-packages/sklearn/linear_model/_logistic.py:940: ConvergenceWarning: lbfgs failed to converge (status=1):\n",
            "STOP: TOTAL NO. of ITERATIONS REACHED LIMIT.\n",
            "\n",
            "Increase the number of iterations (max_iter) or scale the data as shown in:\n",
            "    https://scikit-learn.org/stable/modules/preprocessing.html\n",
            "Please also refer to the documentation for alternative solver options:\n",
            "    https://scikit-learn.org/stable/modules/linear_model.html#logistic-regression\n",
            "  extra_warning_msg=_LOGISTIC_SOLVER_CONVERGENCE_MSG)\n"
          ],
          "name": "stderr"
        },
        {
          "output_type": "stream",
          "text": [
            "[CV]  C=10.0, max_iter=50, multi_class=auto, score=0.822, total=   4.6s\n",
            "[CV] C=10.0, max_iter=50, multi_class=auto ...........................\n"
          ],
          "name": "stdout"
        },
        {
          "output_type": "stream",
          "text": [
            "/usr/local/lib/python3.7/dist-packages/sklearn/linear_model/_logistic.py:940: ConvergenceWarning: lbfgs failed to converge (status=1):\n",
            "STOP: TOTAL NO. of ITERATIONS REACHED LIMIT.\n",
            "\n",
            "Increase the number of iterations (max_iter) or scale the data as shown in:\n",
            "    https://scikit-learn.org/stable/modules/preprocessing.html\n",
            "Please also refer to the documentation for alternative solver options:\n",
            "    https://scikit-learn.org/stable/modules/linear_model.html#logistic-regression\n",
            "  extra_warning_msg=_LOGISTIC_SOLVER_CONVERGENCE_MSG)\n"
          ],
          "name": "stderr"
        },
        {
          "output_type": "stream",
          "text": [
            "[CV]  C=10.0, max_iter=50, multi_class=auto, score=0.824, total=   5.2s\n",
            "[CV] C=10.0, max_iter=50, multi_class=auto ...........................\n"
          ],
          "name": "stdout"
        },
        {
          "output_type": "stream",
          "text": [
            "/usr/local/lib/python3.7/dist-packages/sklearn/linear_model/_logistic.py:940: ConvergenceWarning: lbfgs failed to converge (status=1):\n",
            "STOP: TOTAL NO. of ITERATIONS REACHED LIMIT.\n",
            "\n",
            "Increase the number of iterations (max_iter) or scale the data as shown in:\n",
            "    https://scikit-learn.org/stable/modules/preprocessing.html\n",
            "Please also refer to the documentation for alternative solver options:\n",
            "    https://scikit-learn.org/stable/modules/linear_model.html#logistic-regression\n",
            "  extra_warning_msg=_LOGISTIC_SOLVER_CONVERGENCE_MSG)\n"
          ],
          "name": "stderr"
        },
        {
          "output_type": "stream",
          "text": [
            "[CV]  C=10.0, max_iter=50, multi_class=auto, score=0.818, total=   5.2s\n",
            "[CV] C=10.0, max_iter=150, multi_class=auto ..........................\n"
          ],
          "name": "stdout"
        },
        {
          "output_type": "stream",
          "text": [
            "/usr/local/lib/python3.7/dist-packages/sklearn/linear_model/_logistic.py:940: ConvergenceWarning: lbfgs failed to converge (status=1):\n",
            "STOP: TOTAL NO. of ITERATIONS REACHED LIMIT.\n",
            "\n",
            "Increase the number of iterations (max_iter) or scale the data as shown in:\n",
            "    https://scikit-learn.org/stable/modules/preprocessing.html\n",
            "Please also refer to the documentation for alternative solver options:\n",
            "    https://scikit-learn.org/stable/modules/linear_model.html#logistic-regression\n",
            "  extra_warning_msg=_LOGISTIC_SOLVER_CONVERGENCE_MSG)\n"
          ],
          "name": "stderr"
        },
        {
          "output_type": "stream",
          "text": [
            "[CV]  C=10.0, max_iter=150, multi_class=auto, score=0.799, total=  13.6s\n",
            "[CV] C=10.0, max_iter=150, multi_class=auto ..........................\n"
          ],
          "name": "stdout"
        },
        {
          "output_type": "stream",
          "text": [
            "/usr/local/lib/python3.7/dist-packages/sklearn/linear_model/_logistic.py:940: ConvergenceWarning: lbfgs failed to converge (status=1):\n",
            "STOP: TOTAL NO. of ITERATIONS REACHED LIMIT.\n",
            "\n",
            "Increase the number of iterations (max_iter) or scale the data as shown in:\n",
            "    https://scikit-learn.org/stable/modules/preprocessing.html\n",
            "Please also refer to the documentation for alternative solver options:\n",
            "    https://scikit-learn.org/stable/modules/linear_model.html#logistic-regression\n",
            "  extra_warning_msg=_LOGISTIC_SOLVER_CONVERGENCE_MSG)\n"
          ],
          "name": "stderr"
        },
        {
          "output_type": "stream",
          "text": [
            "[CV]  C=10.0, max_iter=150, multi_class=auto, score=0.810, total=  13.6s\n",
            "[CV] C=10.0, max_iter=150, multi_class=auto ..........................\n"
          ],
          "name": "stdout"
        },
        {
          "output_type": "stream",
          "text": [
            "/usr/local/lib/python3.7/dist-packages/sklearn/linear_model/_logistic.py:940: ConvergenceWarning: lbfgs failed to converge (status=1):\n",
            "STOP: TOTAL NO. of ITERATIONS REACHED LIMIT.\n",
            "\n",
            "Increase the number of iterations (max_iter) or scale the data as shown in:\n",
            "    https://scikit-learn.org/stable/modules/preprocessing.html\n",
            "Please also refer to the documentation for alternative solver options:\n",
            "    https://scikit-learn.org/stable/modules/linear_model.html#logistic-regression\n",
            "  extra_warning_msg=_LOGISTIC_SOLVER_CONVERGENCE_MSG)\n"
          ],
          "name": "stderr"
        },
        {
          "output_type": "stream",
          "text": [
            "[CV]  C=10.0, max_iter=150, multi_class=auto, score=0.820, total=  13.8s\n",
            "[CV] C=10.0, max_iter=150, multi_class=auto ..........................\n"
          ],
          "name": "stdout"
        },
        {
          "output_type": "stream",
          "text": [
            "/usr/local/lib/python3.7/dist-packages/sklearn/linear_model/_logistic.py:940: ConvergenceWarning: lbfgs failed to converge (status=1):\n",
            "STOP: TOTAL NO. of ITERATIONS REACHED LIMIT.\n",
            "\n",
            "Increase the number of iterations (max_iter) or scale the data as shown in:\n",
            "    https://scikit-learn.org/stable/modules/preprocessing.html\n",
            "Please also refer to the documentation for alternative solver options:\n",
            "    https://scikit-learn.org/stable/modules/linear_model.html#logistic-regression\n",
            "  extra_warning_msg=_LOGISTIC_SOLVER_CONVERGENCE_MSG)\n"
          ],
          "name": "stderr"
        },
        {
          "output_type": "stream",
          "text": [
            "[CV]  C=10.0, max_iter=150, multi_class=auto, score=0.819, total=  13.9s\n",
            "[CV] C=10.0, max_iter=150, multi_class=auto ..........................\n"
          ],
          "name": "stdout"
        },
        {
          "output_type": "stream",
          "text": [
            "/usr/local/lib/python3.7/dist-packages/sklearn/linear_model/_logistic.py:940: ConvergenceWarning: lbfgs failed to converge (status=1):\n",
            "STOP: TOTAL NO. of ITERATIONS REACHED LIMIT.\n",
            "\n",
            "Increase the number of iterations (max_iter) or scale the data as shown in:\n",
            "    https://scikit-learn.org/stable/modules/preprocessing.html\n",
            "Please also refer to the documentation for alternative solver options:\n",
            "    https://scikit-learn.org/stable/modules/linear_model.html#logistic-regression\n",
            "  extra_warning_msg=_LOGISTIC_SOLVER_CONVERGENCE_MSG)\n"
          ],
          "name": "stderr"
        },
        {
          "output_type": "stream",
          "text": [
            "[CV]  C=10.0, max_iter=150, multi_class=auto, score=0.813, total=  13.9s\n",
            "[CV] C=10.0, max_iter=300, multi_class=auto ..........................\n"
          ],
          "name": "stdout"
        },
        {
          "output_type": "stream",
          "text": [
            "/usr/local/lib/python3.7/dist-packages/sklearn/linear_model/_logistic.py:940: ConvergenceWarning: lbfgs failed to converge (status=1):\n",
            "STOP: TOTAL NO. of ITERATIONS REACHED LIMIT.\n",
            "\n",
            "Increase the number of iterations (max_iter) or scale the data as shown in:\n",
            "    https://scikit-learn.org/stable/modules/preprocessing.html\n",
            "Please also refer to the documentation for alternative solver options:\n",
            "    https://scikit-learn.org/stable/modules/linear_model.html#logistic-regression\n",
            "  extra_warning_msg=_LOGISTIC_SOLVER_CONVERGENCE_MSG)\n"
          ],
          "name": "stderr"
        },
        {
          "output_type": "stream",
          "text": [
            "[CV]  C=10.0, max_iter=300, multi_class=auto, score=0.797, total=  27.4s\n",
            "[CV] C=10.0, max_iter=300, multi_class=auto ..........................\n"
          ],
          "name": "stdout"
        },
        {
          "output_type": "stream",
          "text": [
            "/usr/local/lib/python3.7/dist-packages/sklearn/linear_model/_logistic.py:940: ConvergenceWarning: lbfgs failed to converge (status=1):\n",
            "STOP: TOTAL NO. of ITERATIONS REACHED LIMIT.\n",
            "\n",
            "Increase the number of iterations (max_iter) or scale the data as shown in:\n",
            "    https://scikit-learn.org/stable/modules/preprocessing.html\n",
            "Please also refer to the documentation for alternative solver options:\n",
            "    https://scikit-learn.org/stable/modules/linear_model.html#logistic-regression\n",
            "  extra_warning_msg=_LOGISTIC_SOLVER_CONVERGENCE_MSG)\n"
          ],
          "name": "stderr"
        },
        {
          "output_type": "stream",
          "text": [
            "[CV]  C=10.0, max_iter=300, multi_class=auto, score=0.810, total=  27.8s\n",
            "[CV] C=10.0, max_iter=300, multi_class=auto ..........................\n"
          ],
          "name": "stdout"
        },
        {
          "output_type": "stream",
          "text": [
            "/usr/local/lib/python3.7/dist-packages/sklearn/linear_model/_logistic.py:940: ConvergenceWarning: lbfgs failed to converge (status=1):\n",
            "STOP: TOTAL NO. of ITERATIONS REACHED LIMIT.\n",
            "\n",
            "Increase the number of iterations (max_iter) or scale the data as shown in:\n",
            "    https://scikit-learn.org/stable/modules/preprocessing.html\n",
            "Please also refer to the documentation for alternative solver options:\n",
            "    https://scikit-learn.org/stable/modules/linear_model.html#logistic-regression\n",
            "  extra_warning_msg=_LOGISTIC_SOLVER_CONVERGENCE_MSG)\n"
          ],
          "name": "stderr"
        },
        {
          "output_type": "stream",
          "text": [
            "[CV]  C=10.0, max_iter=300, multi_class=auto, score=0.819, total=  27.2s\n",
            "[CV] C=10.0, max_iter=300, multi_class=auto ..........................\n"
          ],
          "name": "stdout"
        },
        {
          "output_type": "stream",
          "text": [
            "/usr/local/lib/python3.7/dist-packages/sklearn/linear_model/_logistic.py:940: ConvergenceWarning: lbfgs failed to converge (status=1):\n",
            "STOP: TOTAL NO. of ITERATIONS REACHED LIMIT.\n",
            "\n",
            "Increase the number of iterations (max_iter) or scale the data as shown in:\n",
            "    https://scikit-learn.org/stable/modules/preprocessing.html\n",
            "Please also refer to the documentation for alternative solver options:\n",
            "    https://scikit-learn.org/stable/modules/linear_model.html#logistic-regression\n",
            "  extra_warning_msg=_LOGISTIC_SOLVER_CONVERGENCE_MSG)\n"
          ],
          "name": "stderr"
        },
        {
          "output_type": "stream",
          "text": [
            "[CV]  C=10.0, max_iter=300, multi_class=auto, score=0.819, total=  28.2s\n",
            "[CV] C=10.0, max_iter=300, multi_class=auto ..........................\n"
          ],
          "name": "stdout"
        },
        {
          "output_type": "stream",
          "text": [
            "/usr/local/lib/python3.7/dist-packages/sklearn/linear_model/_logistic.py:940: ConvergenceWarning: lbfgs failed to converge (status=1):\n",
            "STOP: TOTAL NO. of ITERATIONS REACHED LIMIT.\n",
            "\n",
            "Increase the number of iterations (max_iter) or scale the data as shown in:\n",
            "    https://scikit-learn.org/stable/modules/preprocessing.html\n",
            "Please also refer to the documentation for alternative solver options:\n",
            "    https://scikit-learn.org/stable/modules/linear_model.html#logistic-regression\n",
            "  extra_warning_msg=_LOGISTIC_SOLVER_CONVERGENCE_MSG)\n"
          ],
          "name": "stderr"
        },
        {
          "output_type": "stream",
          "text": [
            "[CV]  C=10.0, max_iter=300, multi_class=auto, score=0.813, total=  27.4s\n",
            "[CV] C=100.0, max_iter=50, multi_class=auto ..........................\n"
          ],
          "name": "stdout"
        },
        {
          "output_type": "stream",
          "text": [
            "/usr/local/lib/python3.7/dist-packages/sklearn/linear_model/_logistic.py:940: ConvergenceWarning: lbfgs failed to converge (status=1):\n",
            "STOP: TOTAL NO. of ITERATIONS REACHED LIMIT.\n",
            "\n",
            "Increase the number of iterations (max_iter) or scale the data as shown in:\n",
            "    https://scikit-learn.org/stable/modules/preprocessing.html\n",
            "Please also refer to the documentation for alternative solver options:\n",
            "    https://scikit-learn.org/stable/modules/linear_model.html#logistic-regression\n",
            "  extra_warning_msg=_LOGISTIC_SOLVER_CONVERGENCE_MSG)\n"
          ],
          "name": "stderr"
        },
        {
          "output_type": "stream",
          "text": [
            "[CV]  C=100.0, max_iter=50, multi_class=auto, score=0.807, total=   4.9s\n",
            "[CV] C=100.0, max_iter=50, multi_class=auto ..........................\n"
          ],
          "name": "stdout"
        },
        {
          "output_type": "stream",
          "text": [
            "/usr/local/lib/python3.7/dist-packages/sklearn/linear_model/_logistic.py:940: ConvergenceWarning: lbfgs failed to converge (status=1):\n",
            "STOP: TOTAL NO. of ITERATIONS REACHED LIMIT.\n",
            "\n",
            "Increase the number of iterations (max_iter) or scale the data as shown in:\n",
            "    https://scikit-learn.org/stable/modules/preprocessing.html\n",
            "Please also refer to the documentation for alternative solver options:\n",
            "    https://scikit-learn.org/stable/modules/linear_model.html#logistic-regression\n",
            "  extra_warning_msg=_LOGISTIC_SOLVER_CONVERGENCE_MSG)\n"
          ],
          "name": "stderr"
        },
        {
          "output_type": "stream",
          "text": [
            "[CV]  C=100.0, max_iter=50, multi_class=auto, score=0.817, total=   4.6s\n",
            "[CV] C=100.0, max_iter=50, multi_class=auto ..........................\n"
          ],
          "name": "stdout"
        },
        {
          "output_type": "stream",
          "text": [
            "/usr/local/lib/python3.7/dist-packages/sklearn/linear_model/_logistic.py:940: ConvergenceWarning: lbfgs failed to converge (status=1):\n",
            "STOP: TOTAL NO. of ITERATIONS REACHED LIMIT.\n",
            "\n",
            "Increase the number of iterations (max_iter) or scale the data as shown in:\n",
            "    https://scikit-learn.org/stable/modules/preprocessing.html\n",
            "Please also refer to the documentation for alternative solver options:\n",
            "    https://scikit-learn.org/stable/modules/linear_model.html#logistic-regression\n",
            "  extra_warning_msg=_LOGISTIC_SOLVER_CONVERGENCE_MSG)\n"
          ],
          "name": "stderr"
        },
        {
          "output_type": "stream",
          "text": [
            "[CV]  C=100.0, max_iter=50, multi_class=auto, score=0.821, total=   4.7s\n",
            "[CV] C=100.0, max_iter=50, multi_class=auto ..........................\n"
          ],
          "name": "stdout"
        },
        {
          "output_type": "stream",
          "text": [
            "/usr/local/lib/python3.7/dist-packages/sklearn/linear_model/_logistic.py:940: ConvergenceWarning: lbfgs failed to converge (status=1):\n",
            "STOP: TOTAL NO. of ITERATIONS REACHED LIMIT.\n",
            "\n",
            "Increase the number of iterations (max_iter) or scale the data as shown in:\n",
            "    https://scikit-learn.org/stable/modules/preprocessing.html\n",
            "Please also refer to the documentation for alternative solver options:\n",
            "    https://scikit-learn.org/stable/modules/linear_model.html#logistic-regression\n",
            "  extra_warning_msg=_LOGISTIC_SOLVER_CONVERGENCE_MSG)\n"
          ],
          "name": "stderr"
        },
        {
          "output_type": "stream",
          "text": [
            "[CV]  C=100.0, max_iter=50, multi_class=auto, score=0.819, total=   4.7s\n",
            "[CV] C=100.0, max_iter=50, multi_class=auto ..........................\n"
          ],
          "name": "stdout"
        },
        {
          "output_type": "stream",
          "text": [
            "/usr/local/lib/python3.7/dist-packages/sklearn/linear_model/_logistic.py:940: ConvergenceWarning: lbfgs failed to converge (status=1):\n",
            "STOP: TOTAL NO. of ITERATIONS REACHED LIMIT.\n",
            "\n",
            "Increase the number of iterations (max_iter) or scale the data as shown in:\n",
            "    https://scikit-learn.org/stable/modules/preprocessing.html\n",
            "Please also refer to the documentation for alternative solver options:\n",
            "    https://scikit-learn.org/stable/modules/linear_model.html#logistic-regression\n",
            "  extra_warning_msg=_LOGISTIC_SOLVER_CONVERGENCE_MSG)\n"
          ],
          "name": "stderr"
        },
        {
          "output_type": "stream",
          "text": [
            "[CV]  C=100.0, max_iter=50, multi_class=auto, score=0.815, total=   4.6s\n",
            "[CV] C=100.0, max_iter=150, multi_class=auto .........................\n"
          ],
          "name": "stdout"
        },
        {
          "output_type": "stream",
          "text": [
            "/usr/local/lib/python3.7/dist-packages/sklearn/linear_model/_logistic.py:940: ConvergenceWarning: lbfgs failed to converge (status=1):\n",
            "STOP: TOTAL NO. of ITERATIONS REACHED LIMIT.\n",
            "\n",
            "Increase the number of iterations (max_iter) or scale the data as shown in:\n",
            "    https://scikit-learn.org/stable/modules/preprocessing.html\n",
            "Please also refer to the documentation for alternative solver options:\n",
            "    https://scikit-learn.org/stable/modules/linear_model.html#logistic-regression\n",
            "  extra_warning_msg=_LOGISTIC_SOLVER_CONVERGENCE_MSG)\n"
          ],
          "name": "stderr"
        },
        {
          "output_type": "stream",
          "text": [
            "[CV]  C=100.0, max_iter=150, multi_class=auto, score=0.779, total=  14.4s\n",
            "[CV] C=100.0, max_iter=150, multi_class=auto .........................\n"
          ],
          "name": "stdout"
        },
        {
          "output_type": "stream",
          "text": [
            "/usr/local/lib/python3.7/dist-packages/sklearn/linear_model/_logistic.py:940: ConvergenceWarning: lbfgs failed to converge (status=1):\n",
            "STOP: TOTAL NO. of ITERATIONS REACHED LIMIT.\n",
            "\n",
            "Increase the number of iterations (max_iter) or scale the data as shown in:\n",
            "    https://scikit-learn.org/stable/modules/preprocessing.html\n",
            "Please also refer to the documentation for alternative solver options:\n",
            "    https://scikit-learn.org/stable/modules/linear_model.html#logistic-regression\n",
            "  extra_warning_msg=_LOGISTIC_SOLVER_CONVERGENCE_MSG)\n"
          ],
          "name": "stderr"
        },
        {
          "output_type": "stream",
          "text": [
            "[CV]  C=100.0, max_iter=150, multi_class=auto, score=0.798, total=  13.9s\n",
            "[CV] C=100.0, max_iter=150, multi_class=auto .........................\n"
          ],
          "name": "stdout"
        },
        {
          "output_type": "stream",
          "text": [
            "/usr/local/lib/python3.7/dist-packages/sklearn/linear_model/_logistic.py:940: ConvergenceWarning: lbfgs failed to converge (status=1):\n",
            "STOP: TOTAL NO. of ITERATIONS REACHED LIMIT.\n",
            "\n",
            "Increase the number of iterations (max_iter) or scale the data as shown in:\n",
            "    https://scikit-learn.org/stable/modules/preprocessing.html\n",
            "Please also refer to the documentation for alternative solver options:\n",
            "    https://scikit-learn.org/stable/modules/linear_model.html#logistic-regression\n",
            "  extra_warning_msg=_LOGISTIC_SOLVER_CONVERGENCE_MSG)\n"
          ],
          "name": "stderr"
        },
        {
          "output_type": "stream",
          "text": [
            "[CV]  C=100.0, max_iter=150, multi_class=auto, score=0.804, total=  14.1s\n",
            "[CV] C=100.0, max_iter=150, multi_class=auto .........................\n"
          ],
          "name": "stdout"
        },
        {
          "output_type": "stream",
          "text": [
            "/usr/local/lib/python3.7/dist-packages/sklearn/linear_model/_logistic.py:940: ConvergenceWarning: lbfgs failed to converge (status=1):\n",
            "STOP: TOTAL NO. of ITERATIONS REACHED LIMIT.\n",
            "\n",
            "Increase the number of iterations (max_iter) or scale the data as shown in:\n",
            "    https://scikit-learn.org/stable/modules/preprocessing.html\n",
            "Please also refer to the documentation for alternative solver options:\n",
            "    https://scikit-learn.org/stable/modules/linear_model.html#logistic-regression\n",
            "  extra_warning_msg=_LOGISTIC_SOLVER_CONVERGENCE_MSG)\n"
          ],
          "name": "stderr"
        },
        {
          "output_type": "stream",
          "text": [
            "[CV]  C=100.0, max_iter=150, multi_class=auto, score=0.807, total=  14.0s\n",
            "[CV] C=100.0, max_iter=150, multi_class=auto .........................\n"
          ],
          "name": "stdout"
        },
        {
          "output_type": "stream",
          "text": [
            "/usr/local/lib/python3.7/dist-packages/sklearn/linear_model/_logistic.py:940: ConvergenceWarning: lbfgs failed to converge (status=1):\n",
            "STOP: TOTAL NO. of ITERATIONS REACHED LIMIT.\n",
            "\n",
            "Increase the number of iterations (max_iter) or scale the data as shown in:\n",
            "    https://scikit-learn.org/stable/modules/preprocessing.html\n",
            "Please also refer to the documentation for alternative solver options:\n",
            "    https://scikit-learn.org/stable/modules/linear_model.html#logistic-regression\n",
            "  extra_warning_msg=_LOGISTIC_SOLVER_CONVERGENCE_MSG)\n"
          ],
          "name": "stderr"
        },
        {
          "output_type": "stream",
          "text": [
            "[CV]  C=100.0, max_iter=150, multi_class=auto, score=0.799, total=  14.1s\n",
            "[CV] C=100.0, max_iter=300, multi_class=auto .........................\n"
          ],
          "name": "stdout"
        },
        {
          "output_type": "stream",
          "text": [
            "/usr/local/lib/python3.7/dist-packages/sklearn/linear_model/_logistic.py:940: ConvergenceWarning: lbfgs failed to converge (status=1):\n",
            "STOP: TOTAL NO. of ITERATIONS REACHED LIMIT.\n",
            "\n",
            "Increase the number of iterations (max_iter) or scale the data as shown in:\n",
            "    https://scikit-learn.org/stable/modules/preprocessing.html\n",
            "Please also refer to the documentation for alternative solver options:\n",
            "    https://scikit-learn.org/stable/modules/linear_model.html#logistic-regression\n",
            "  extra_warning_msg=_LOGISTIC_SOLVER_CONVERGENCE_MSG)\n"
          ],
          "name": "stderr"
        },
        {
          "output_type": "stream",
          "text": [
            "[CV]  C=100.0, max_iter=300, multi_class=auto, score=0.773, total=  28.1s\n",
            "[CV] C=100.0, max_iter=300, multi_class=auto .........................\n"
          ],
          "name": "stdout"
        },
        {
          "output_type": "stream",
          "text": [
            "/usr/local/lib/python3.7/dist-packages/sklearn/linear_model/_logistic.py:940: ConvergenceWarning: lbfgs failed to converge (status=1):\n",
            "STOP: TOTAL NO. of ITERATIONS REACHED LIMIT.\n",
            "\n",
            "Increase the number of iterations (max_iter) or scale the data as shown in:\n",
            "    https://scikit-learn.org/stable/modules/preprocessing.html\n",
            "Please also refer to the documentation for alternative solver options:\n",
            "    https://scikit-learn.org/stable/modules/linear_model.html#logistic-regression\n",
            "  extra_warning_msg=_LOGISTIC_SOLVER_CONVERGENCE_MSG)\n"
          ],
          "name": "stderr"
        },
        {
          "output_type": "stream",
          "text": [
            "[CV]  C=100.0, max_iter=300, multi_class=auto, score=0.786, total=  28.5s\n",
            "[CV] C=100.0, max_iter=300, multi_class=auto .........................\n"
          ],
          "name": "stdout"
        },
        {
          "output_type": "stream",
          "text": [
            "/usr/local/lib/python3.7/dist-packages/sklearn/linear_model/_logistic.py:940: ConvergenceWarning: lbfgs failed to converge (status=1):\n",
            "STOP: TOTAL NO. of ITERATIONS REACHED LIMIT.\n",
            "\n",
            "Increase the number of iterations (max_iter) or scale the data as shown in:\n",
            "    https://scikit-learn.org/stable/modules/preprocessing.html\n",
            "Please also refer to the documentation for alternative solver options:\n",
            "    https://scikit-learn.org/stable/modules/linear_model.html#logistic-regression\n",
            "  extra_warning_msg=_LOGISTIC_SOLVER_CONVERGENCE_MSG)\n"
          ],
          "name": "stderr"
        },
        {
          "output_type": "stream",
          "text": [
            "[CV]  C=100.0, max_iter=300, multi_class=auto, score=0.796, total=  27.9s\n",
            "[CV] C=100.0, max_iter=300, multi_class=auto .........................\n"
          ],
          "name": "stdout"
        },
        {
          "output_type": "stream",
          "text": [
            "/usr/local/lib/python3.7/dist-packages/sklearn/linear_model/_logistic.py:940: ConvergenceWarning: lbfgs failed to converge (status=1):\n",
            "STOP: TOTAL NO. of ITERATIONS REACHED LIMIT.\n",
            "\n",
            "Increase the number of iterations (max_iter) or scale the data as shown in:\n",
            "    https://scikit-learn.org/stable/modules/preprocessing.html\n",
            "Please also refer to the documentation for alternative solver options:\n",
            "    https://scikit-learn.org/stable/modules/linear_model.html#logistic-regression\n",
            "  extra_warning_msg=_LOGISTIC_SOLVER_CONVERGENCE_MSG)\n"
          ],
          "name": "stderr"
        },
        {
          "output_type": "stream",
          "text": [
            "[CV]  C=100.0, max_iter=300, multi_class=auto, score=0.789, total=  27.5s\n",
            "[CV] C=100.0, max_iter=300, multi_class=auto .........................\n"
          ],
          "name": "stdout"
        },
        {
          "output_type": "stream",
          "text": [
            "/usr/local/lib/python3.7/dist-packages/sklearn/linear_model/_logistic.py:940: ConvergenceWarning: lbfgs failed to converge (status=1):\n",
            "STOP: TOTAL NO. of ITERATIONS REACHED LIMIT.\n",
            "\n",
            "Increase the number of iterations (max_iter) or scale the data as shown in:\n",
            "    https://scikit-learn.org/stable/modules/preprocessing.html\n",
            "Please also refer to the documentation for alternative solver options:\n",
            "    https://scikit-learn.org/stable/modules/linear_model.html#logistic-regression\n",
            "  extra_warning_msg=_LOGISTIC_SOLVER_CONVERGENCE_MSG)\n",
            "[Parallel(n_jobs=1)]: Done  75 out of  75 | elapsed: 13.1min finished\n"
          ],
          "name": "stderr"
        },
        {
          "output_type": "stream",
          "text": [
            "[CV]  C=100.0, max_iter=300, multi_class=auto, score=0.786, total=  27.4s\n"
          ],
          "name": "stdout"
        },
        {
          "output_type": "stream",
          "text": [
            "/usr/local/lib/python3.7/dist-packages/sklearn/linear_model/_logistic.py:940: ConvergenceWarning: lbfgs failed to converge (status=1):\n",
            "STOP: TOTAL NO. of ITERATIONS REACHED LIMIT.\n",
            "\n",
            "Increase the number of iterations (max_iter) or scale the data as shown in:\n",
            "    https://scikit-learn.org/stable/modules/preprocessing.html\n",
            "Please also refer to the documentation for alternative solver options:\n",
            "    https://scikit-learn.org/stable/modules/linear_model.html#logistic-regression\n",
            "  extra_warning_msg=_LOGISTIC_SOLVER_CONVERGENCE_MSG)\n"
          ],
          "name": "stderr"
        },
        {
          "output_type": "stream",
          "text": [
            "Best parameters:\n",
            "{'C': 1.0, 'max_iter': 50, 'multi_class': 'auto'}\n",
            "Bestf1_weighted:0.8187442771566923\n",
            "Train classification report:\n",
            "              precision    recall  f1-score   support\n",
            "\n",
            "           0       0.85      0.79      0.82     15000\n",
            "           1       0.86      0.93      0.89     15000\n",
            "           2       0.89      0.89      0.89     15000\n",
            "\n",
            "    accuracy                           0.87     45000\n",
            "   macro avg       0.87      0.87      0.87     45000\n",
            "weighted avg       0.87      0.87      0.87     45000\n",
            "\n",
            "Test classification report:\n",
            "              precision    recall  f1-score   support\n",
            "\n",
            "           0       0.79      0.74      0.76      5000\n",
            "           1       0.83      0.89      0.86      5000\n",
            "           2       0.86      0.85      0.85      5000\n",
            "\n",
            "    accuracy                           0.83     15000\n",
            "   macro avg       0.82      0.83      0.82     15000\n",
            "weighted avg       0.82      0.83      0.82     15000\n",
            "\n",
            " \n",
            "##########################################################################################################\n",
            "Now doing LinearSVC\n"
          ],
          "name": "stdout"
        },
        {
          "output_type": "stream",
          "text": [
            "[Parallel(n_jobs=1)]: Using backend SequentialBackend with 1 concurrent workers.\n"
          ],
          "name": "stderr"
        },
        {
          "output_type": "stream",
          "text": [
            "Fitting 5 folds for each of 5 candidates, totalling 25 fits\n",
            "[CV] C=0.01 ..........................................................\n",
            "[CV] .............................. C=0.01, score=0.756, total=   0.8s\n",
            "[CV] C=0.01 ..........................................................\n"
          ],
          "name": "stdout"
        },
        {
          "output_type": "stream",
          "text": [
            "[Parallel(n_jobs=1)]: Done   1 out of   1 | elapsed:    0.8s remaining:    0.0s\n"
          ],
          "name": "stderr"
        },
        {
          "output_type": "stream",
          "text": [
            "[CV] .............................. C=0.01, score=0.757, total=   0.8s\n",
            "[CV] C=0.01 ..........................................................\n"
          ],
          "name": "stdout"
        },
        {
          "output_type": "stream",
          "text": [
            "[Parallel(n_jobs=1)]: Done   2 out of   2 | elapsed:    1.5s remaining:    0.0s\n"
          ],
          "name": "stderr"
        },
        {
          "output_type": "stream",
          "text": [
            "[CV] .............................. C=0.01, score=0.772, total=   0.7s\n",
            "[CV] C=0.01 ..........................................................\n",
            "[CV] .............................. C=0.01, score=0.764, total=   0.8s\n",
            "[CV] C=0.01 ..........................................................\n",
            "[CV] .............................. C=0.01, score=0.759, total=   0.7s\n",
            "[CV] C=0.1 ...........................................................\n",
            "[CV] ............................... C=0.1, score=0.805, total=   0.8s\n",
            "[CV] C=0.1 ...........................................................\n",
            "[CV] ............................... C=0.1, score=0.809, total=   0.8s\n",
            "[CV] C=0.1 ...........................................................\n",
            "[CV] ............................... C=0.1, score=0.818, total=   0.8s\n",
            "[CV] C=0.1 ...........................................................\n",
            "[CV] ............................... C=0.1, score=0.814, total=   0.7s\n",
            "[CV] C=0.1 ...........................................................\n",
            "[CV] ............................... C=0.1, score=0.810, total=   0.7s\n",
            "[CV] C=1.0 ...........................................................\n",
            "[CV] ............................... C=1.0, score=0.798, total=   1.8s\n",
            "[CV] C=1.0 ...........................................................\n",
            "[CV] ............................... C=1.0, score=0.810, total=   1.9s\n",
            "[CV] C=1.0 ...........................................................\n",
            "[CV] ............................... C=1.0, score=0.815, total=   1.8s\n",
            "[CV] C=1.0 ...........................................................\n",
            "[CV] ............................... C=1.0, score=0.819, total=   1.8s\n",
            "[CV] C=1.0 ...........................................................\n",
            "[CV] ............................... C=1.0, score=0.805, total=   1.9s\n",
            "[CV] C=10.0 ..........................................................\n",
            "[CV] .............................. C=10.0, score=0.769, total=  12.0s\n",
            "[CV] C=10.0 ..........................................................\n",
            "[CV] .............................. C=10.0, score=0.788, total=  11.3s\n",
            "[CV] C=10.0 ..........................................................\n",
            "[CV] .............................. C=10.0, score=0.793, total=  10.8s\n",
            "[CV] C=10.0 ..........................................................\n",
            "[CV] .............................. C=10.0, score=0.790, total=  11.0s\n",
            "[CV] C=10.0 ..........................................................\n",
            "[CV] .............................. C=10.0, score=0.785, total=  10.2s\n",
            "[CV] C=100.0 .........................................................\n"
          ],
          "name": "stdout"
        },
        {
          "output_type": "stream",
          "text": [
            "/usr/local/lib/python3.7/dist-packages/sklearn/svm/_base.py:947: ConvergenceWarning: Liblinear failed to converge, increase the number of iterations.\n",
            "  \"the number of iterations.\", ConvergenceWarning)\n"
          ],
          "name": "stderr"
        },
        {
          "output_type": "stream",
          "text": [
            "[CV] ............................. C=100.0, score=0.746, total=  20.8s\n",
            "[CV] C=100.0 .........................................................\n",
            "[CV] ............................. C=100.0, score=0.761, total=  22.6s\n",
            "[CV] C=100.0 .........................................................\n",
            "[CV] ............................. C=100.0, score=0.766, total=  22.4s\n",
            "[CV] C=100.0 .........................................................\n",
            "[CV] ............................. C=100.0, score=0.766, total=  21.6s\n",
            "[CV] C=100.0 .........................................................\n",
            "[CV] ............................. C=100.0, score=0.757, total=  22.6s\n"
          ],
          "name": "stdout"
        },
        {
          "output_type": "stream",
          "text": [
            "[Parallel(n_jobs=1)]: Done  25 out of  25 | elapsed:  3.0min finished\n"
          ],
          "name": "stderr"
        },
        {
          "output_type": "stream",
          "text": [
            "Best parameters:\n",
            "{'C': 0.1}\n",
            "Bestf1_weighted:0.8111823418405884\n",
            "Train classification report:\n",
            "              precision    recall  f1-score   support\n",
            "\n",
            "           0       0.86      0.77      0.81     15000\n",
            "           1       0.85      0.93      0.89     15000\n",
            "           2       0.88      0.90      0.89     15000\n",
            "\n",
            "    accuracy                           0.86     45000\n",
            "   macro avg       0.86      0.86      0.86     45000\n",
            "weighted avg       0.86      0.86      0.86     45000\n",
            "\n",
            "Test classification report:\n",
            "              precision    recall  f1-score   support\n",
            "\n",
            "           0       0.80      0.71      0.75      5000\n",
            "           1       0.80      0.89      0.85      5000\n",
            "           2       0.85      0.86      0.86      5000\n",
            "\n",
            "    accuracy                           0.82     15000\n",
            "   macro avg       0.82      0.82      0.82     15000\n",
            "weighted avg       0.82      0.82      0.82     15000\n",
            "\n",
            " \n",
            "##########################################################################################################\n",
            "Now doing RandomForestClassifier\n",
            "Fitting 5 folds for each of 9 candidates, totalling 45 fits\n",
            "[CV] max_depth=10, n_estimators=50 ...................................\n"
          ],
          "name": "stdout"
        },
        {
          "output_type": "stream",
          "text": [
            "[Parallel(n_jobs=1)]: Using backend SequentialBackend with 1 concurrent workers.\n"
          ],
          "name": "stderr"
        },
        {
          "output_type": "stream",
          "text": [
            "[CV] ....... max_depth=10, n_estimators=50, score=0.694, total=   2.8s\n",
            "[CV] max_depth=10, n_estimators=50 ...................................\n"
          ],
          "name": "stdout"
        },
        {
          "output_type": "stream",
          "text": [
            "[Parallel(n_jobs=1)]: Done   1 out of   1 | elapsed:    2.8s remaining:    0.0s\n"
          ],
          "name": "stderr"
        },
        {
          "output_type": "stream",
          "text": [
            "[CV] ....... max_depth=10, n_estimators=50, score=0.705, total=   2.7s\n",
            "[CV] max_depth=10, n_estimators=50 ...................................\n"
          ],
          "name": "stdout"
        },
        {
          "output_type": "stream",
          "text": [
            "[Parallel(n_jobs=1)]: Done   2 out of   2 | elapsed:    5.4s remaining:    0.0s\n"
          ],
          "name": "stderr"
        },
        {
          "output_type": "stream",
          "text": [
            "[CV] ....... max_depth=10, n_estimators=50, score=0.728, total=   2.6s\n",
            "[CV] max_depth=10, n_estimators=50 ...................................\n",
            "[CV] ....... max_depth=10, n_estimators=50, score=0.730, total=   2.4s\n",
            "[CV] max_depth=10, n_estimators=50 ...................................\n",
            "[CV] ....... max_depth=10, n_estimators=50, score=0.723, total=   2.7s\n",
            "[CV] max_depth=10, n_estimators=200 ..................................\n",
            "[CV] ...... max_depth=10, n_estimators=200, score=0.705, total=  10.4s\n",
            "[CV] max_depth=10, n_estimators=200 ..................................\n",
            "[CV] ...... max_depth=10, n_estimators=200, score=0.710, total=  10.1s\n",
            "[CV] max_depth=10, n_estimators=200 ..................................\n",
            "[CV] ...... max_depth=10, n_estimators=200, score=0.737, total=   9.8s\n",
            "[CV] max_depth=10, n_estimators=200 ..................................\n",
            "[CV] ...... max_depth=10, n_estimators=200, score=0.744, total=   9.5s\n",
            "[CV] max_depth=10, n_estimators=200 ..................................\n",
            "[CV] ...... max_depth=10, n_estimators=200, score=0.748, total=  10.7s\n",
            "[CV] max_depth=10, n_estimators=600 ..................................\n",
            "[CV] ...... max_depth=10, n_estimators=600, score=0.711, total=  31.1s\n",
            "[CV] max_depth=10, n_estimators=600 ..................................\n",
            "[CV] ...... max_depth=10, n_estimators=600, score=0.716, total=  29.9s\n",
            "[CV] max_depth=10, n_estimators=600 ..................................\n",
            "[CV] ...... max_depth=10, n_estimators=600, score=0.734, total=  30.1s\n",
            "[CV] max_depth=10, n_estimators=600 ..................................\n",
            "[CV] ...... max_depth=10, n_estimators=600, score=0.752, total=  28.5s\n",
            "[CV] max_depth=10, n_estimators=600 ..................................\n",
            "[CV] ...... max_depth=10, n_estimators=600, score=0.747, total=  31.4s\n",
            "[CV] max_depth=15, n_estimators=50 ...................................\n",
            "[CV] ....... max_depth=15, n_estimators=50, score=0.721, total=   4.7s\n",
            "[CV] max_depth=15, n_estimators=50 ...................................\n",
            "[CV] ....... max_depth=15, n_estimators=50, score=0.718, total=   4.7s\n",
            "[CV] max_depth=15, n_estimators=50 ...................................\n",
            "[CV] ....... max_depth=15, n_estimators=50, score=0.753, total=   4.7s\n",
            "[CV] max_depth=15, n_estimators=50 ...................................\n",
            "[CV] ....... max_depth=15, n_estimators=50, score=0.749, total=   4.6s\n",
            "[CV] max_depth=15, n_estimators=50 ...................................\n",
            "[CV] ....... max_depth=15, n_estimators=50, score=0.747, total=   4.9s\n",
            "[CV] max_depth=15, n_estimators=200 ..................................\n",
            "[CV] ...... max_depth=15, n_estimators=200, score=0.726, total=  19.2s\n",
            "[CV] max_depth=15, n_estimators=200 ..................................\n",
            "[CV] ...... max_depth=15, n_estimators=200, score=0.732, total=  18.8s\n",
            "[CV] max_depth=15, n_estimators=200 ..................................\n",
            "[CV] ...... max_depth=15, n_estimators=200, score=0.755, total=  19.3s\n",
            "[CV] max_depth=15, n_estimators=200 ..................................\n",
            "[CV] ...... max_depth=15, n_estimators=200, score=0.759, total=  18.0s\n",
            "[CV] max_depth=15, n_estimators=200 ..................................\n",
            "[CV] ...... max_depth=15, n_estimators=200, score=0.760, total=  19.5s\n",
            "[CV] max_depth=15, n_estimators=600 ..................................\n",
            "[CV] ...... max_depth=15, n_estimators=600, score=0.729, total=  57.5s\n",
            "[CV] max_depth=15, n_estimators=600 ..................................\n",
            "[CV] ...... max_depth=15, n_estimators=600, score=0.733, total=  57.0s\n",
            "[CV] max_depth=15, n_estimators=600 ..................................\n",
            "[CV] ...... max_depth=15, n_estimators=600, score=0.758, total=  56.1s\n",
            "[CV] max_depth=15, n_estimators=600 ..................................\n",
            "[CV] ...... max_depth=15, n_estimators=600, score=0.764, total=  53.2s\n",
            "[CV] max_depth=15, n_estimators=600 ..................................\n",
            "[CV] ...... max_depth=15, n_estimators=600, score=0.762, total=  59.5s\n",
            "[CV] max_depth=20, n_estimators=50 ...................................\n",
            "[CV] ....... max_depth=20, n_estimators=50, score=0.734, total=   7.9s\n",
            "[CV] max_depth=20, n_estimators=50 ...................................\n",
            "[CV] ....... max_depth=20, n_estimators=50, score=0.739, total=   7.9s\n",
            "[CV] max_depth=20, n_estimators=50 ...................................\n",
            "[CV] ....... max_depth=20, n_estimators=50, score=0.767, total=   8.1s\n",
            "[CV] max_depth=20, n_estimators=50 ...................................\n",
            "[CV] ....... max_depth=20, n_estimators=50, score=0.759, total=   8.1s\n",
            "[CV] max_depth=20, n_estimators=50 ...................................\n",
            "[CV] ....... max_depth=20, n_estimators=50, score=0.756, total=   8.6s\n",
            "[CV] max_depth=20, n_estimators=200 ..................................\n",
            "[CV] ...... max_depth=20, n_estimators=200, score=0.743, total=  32.4s\n",
            "[CV] max_depth=20, n_estimators=200 ..................................\n",
            "[CV] ...... max_depth=20, n_estimators=200, score=0.747, total=  32.1s\n",
            "[CV] max_depth=20, n_estimators=200 ..................................\n",
            "[CV] ...... max_depth=20, n_estimators=200, score=0.766, total=  31.7s\n",
            "[CV] max_depth=20, n_estimators=200 ..................................\n",
            "[CV] ...... max_depth=20, n_estimators=200, score=0.776, total=  30.9s\n",
            "[CV] max_depth=20, n_estimators=200 ..................................\n",
            "[CV] ...... max_depth=20, n_estimators=200, score=0.770, total=  32.6s\n",
            "[CV] max_depth=20, n_estimators=600 ..................................\n",
            "[CV] ...... max_depth=20, n_estimators=600, score=0.742, total= 1.6min\n",
            "[CV] max_depth=20, n_estimators=600 ..................................\n",
            "[CV] ...... max_depth=20, n_estimators=600, score=0.749, total= 1.6min\n",
            "[CV] max_depth=20, n_estimators=600 ..................................\n",
            "[CV] ...... max_depth=20, n_estimators=600, score=0.771, total= 1.6min\n",
            "[CV] max_depth=20, n_estimators=600 ..................................\n",
            "[CV] ...... max_depth=20, n_estimators=600, score=0.777, total= 1.5min\n",
            "[CV] max_depth=20, n_estimators=600 ..................................\n",
            "[CV] ...... max_depth=20, n_estimators=600, score=0.774, total= 1.6min\n"
          ],
          "name": "stdout"
        },
        {
          "output_type": "stream",
          "text": [
            "[Parallel(n_jobs=1)]: Done  45 out of  45 | elapsed: 21.6min finished\n"
          ],
          "name": "stderr"
        },
        {
          "output_type": "stream",
          "text": [
            "Best parameters:\n",
            "{'max_depth': 20, 'n_estimators': 600}\n",
            "Bestf1_weighted:0.7625727359892924\n",
            "Train classification report:\n",
            "              precision    recall  f1-score   support\n",
            "\n",
            "           0       0.89      0.76      0.82     15000\n",
            "           1       0.77      0.99      0.87     15000\n",
            "           2       0.97      0.83      0.90     15000\n",
            "\n",
            "    accuracy                           0.86     45000\n",
            "   macro avg       0.88      0.86      0.86     45000\n",
            "weighted avg       0.88      0.86      0.86     45000\n",
            "\n",
            "Test classification report:\n",
            "              precision    recall  f1-score   support\n",
            "\n",
            "           0       0.79      0.60      0.68      5000\n",
            "           1       0.72      0.96      0.82      5000\n",
            "           2       0.85      0.76      0.80      5000\n",
            "\n",
            "    accuracy                           0.77     15000\n",
            "   macro avg       0.78      0.77      0.77     15000\n",
            "weighted avg       0.78      0.77      0.77     15000\n",
            "\n",
            " \n",
            "##########################################################################################################\n",
            "Now doing SGDClassifier\n",
            "Fitting 5 folds for each of 12 candidates, totalling 60 fits\n",
            "[CV] alpha=0.0001, l1_ratio=0, loss=hinge, penalty=elasticnet ........\n"
          ],
          "name": "stdout"
        },
        {
          "output_type": "stream",
          "text": [
            "[Parallel(n_jobs=1)]: Using backend SequentialBackend with 1 concurrent workers.\n"
          ],
          "name": "stderr"
        },
        {
          "output_type": "stream",
          "text": [
            "[CV]  alpha=0.0001, l1_ratio=0, loss=hinge, penalty=elasticnet, score=0.797, total=   1.3s\n",
            "[CV] alpha=0.0001, l1_ratio=0, loss=hinge, penalty=elasticnet ........\n"
          ],
          "name": "stdout"
        },
        {
          "output_type": "stream",
          "text": [
            "[Parallel(n_jobs=1)]: Done   1 out of   1 | elapsed:    1.3s remaining:    0.0s\n"
          ],
          "name": "stderr"
        },
        {
          "output_type": "stream",
          "text": [
            "[CV]  alpha=0.0001, l1_ratio=0, loss=hinge, penalty=elasticnet, score=0.802, total=   1.3s\n",
            "[CV] alpha=0.0001, l1_ratio=0, loss=hinge, penalty=elasticnet ........\n"
          ],
          "name": "stdout"
        },
        {
          "output_type": "stream",
          "text": [
            "[Parallel(n_jobs=1)]: Done   2 out of   2 | elapsed:    2.6s remaining:    0.0s\n"
          ],
          "name": "stderr"
        },
        {
          "output_type": "stream",
          "text": [
            "[CV]  alpha=0.0001, l1_ratio=0, loss=hinge, penalty=elasticnet, score=0.811, total=   1.3s\n",
            "[CV] alpha=0.0001, l1_ratio=0, loss=hinge, penalty=elasticnet ........\n",
            "[CV]  alpha=0.0001, l1_ratio=0, loss=hinge, penalty=elasticnet, score=0.805, total=   1.3s\n",
            "[CV] alpha=0.0001, l1_ratio=0, loss=hinge, penalty=elasticnet ........\n",
            "[CV]  alpha=0.0001, l1_ratio=0, loss=hinge, penalty=elasticnet, score=0.805, total=   1.4s\n",
            "[CV] alpha=0.0001, l1_ratio=0.2, loss=hinge, penalty=elasticnet ......\n",
            "[CV]  alpha=0.0001, l1_ratio=0.2, loss=hinge, penalty=elasticnet, score=0.797, total=   1.3s\n",
            "[CV] alpha=0.0001, l1_ratio=0.2, loss=hinge, penalty=elasticnet ......\n",
            "[CV]  alpha=0.0001, l1_ratio=0.2, loss=hinge, penalty=elasticnet, score=0.799, total=   1.4s\n",
            "[CV] alpha=0.0001, l1_ratio=0.2, loss=hinge, penalty=elasticnet ......\n",
            "[CV]  alpha=0.0001, l1_ratio=0.2, loss=hinge, penalty=elasticnet, score=0.812, total=   1.4s\n",
            "[CV] alpha=0.0001, l1_ratio=0.2, loss=hinge, penalty=elasticnet ......\n",
            "[CV]  alpha=0.0001, l1_ratio=0.2, loss=hinge, penalty=elasticnet, score=0.806, total=   1.3s\n",
            "[CV] alpha=0.0001, l1_ratio=0.2, loss=hinge, penalty=elasticnet ......\n",
            "[CV]  alpha=0.0001, l1_ratio=0.2, loss=hinge, penalty=elasticnet, score=0.801, total=   1.4s\n",
            "[CV] alpha=0.0001, l1_ratio=0.7, loss=hinge, penalty=elasticnet ......\n",
            "[CV]  alpha=0.0001, l1_ratio=0.7, loss=hinge, penalty=elasticnet, score=0.793, total=   1.1s\n",
            "[CV] alpha=0.0001, l1_ratio=0.7, loss=hinge, penalty=elasticnet ......\n",
            "[CV]  alpha=0.0001, l1_ratio=0.7, loss=hinge, penalty=elasticnet, score=0.798, total=   1.1s\n",
            "[CV] alpha=0.0001, l1_ratio=0.7, loss=hinge, penalty=elasticnet ......\n",
            "[CV]  alpha=0.0001, l1_ratio=0.7, loss=hinge, penalty=elasticnet, score=0.812, total=   1.0s\n",
            "[CV] alpha=0.0001, l1_ratio=0.7, loss=hinge, penalty=elasticnet ......\n",
            "[CV]  alpha=0.0001, l1_ratio=0.7, loss=hinge, penalty=elasticnet, score=0.810, total=   1.1s\n",
            "[CV] alpha=0.0001, l1_ratio=0.7, loss=hinge, penalty=elasticnet ......\n",
            "[CV]  alpha=0.0001, l1_ratio=0.7, loss=hinge, penalty=elasticnet, score=0.803, total=   1.1s\n",
            "[CV] alpha=0.0001, l1_ratio=1.0, loss=hinge, penalty=elasticnet ......\n",
            "[CV]  alpha=0.0001, l1_ratio=1.0, loss=hinge, penalty=elasticnet, score=0.791, total=   0.9s\n",
            "[CV] alpha=0.0001, l1_ratio=1.0, loss=hinge, penalty=elasticnet ......\n",
            "[CV]  alpha=0.0001, l1_ratio=1.0, loss=hinge, penalty=elasticnet, score=0.800, total=   1.0s\n",
            "[CV] alpha=0.0001, l1_ratio=1.0, loss=hinge, penalty=elasticnet ......\n",
            "[CV]  alpha=0.0001, l1_ratio=1.0, loss=hinge, penalty=elasticnet, score=0.812, total=   0.9s\n",
            "[CV] alpha=0.0001, l1_ratio=1.0, loss=hinge, penalty=elasticnet ......\n",
            "[CV]  alpha=0.0001, l1_ratio=1.0, loss=hinge, penalty=elasticnet, score=0.813, total=   1.0s\n",
            "[CV] alpha=0.0001, l1_ratio=1.0, loss=hinge, penalty=elasticnet ......\n",
            "[CV]  alpha=0.0001, l1_ratio=1.0, loss=hinge, penalty=elasticnet, score=0.809, total=   0.9s\n",
            "[CV] alpha=0.001, l1_ratio=0, loss=hinge, penalty=elasticnet .........\n",
            "[CV]  alpha=0.001, l1_ratio=0, loss=hinge, penalty=elasticnet, score=0.692, total=   0.9s\n",
            "[CV] alpha=0.001, l1_ratio=0, loss=hinge, penalty=elasticnet .........\n",
            "[CV]  alpha=0.001, l1_ratio=0, loss=hinge, penalty=elasticnet, score=0.701, total=   0.9s\n",
            "[CV] alpha=0.001, l1_ratio=0, loss=hinge, penalty=elasticnet .........\n",
            "[CV]  alpha=0.001, l1_ratio=0, loss=hinge, penalty=elasticnet, score=0.710, total=   0.9s\n",
            "[CV] alpha=0.001, l1_ratio=0, loss=hinge, penalty=elasticnet .........\n",
            "[CV]  alpha=0.001, l1_ratio=0, loss=hinge, penalty=elasticnet, score=0.692, total=   0.9s\n",
            "[CV] alpha=0.001, l1_ratio=0, loss=hinge, penalty=elasticnet .........\n",
            "[CV]  alpha=0.001, l1_ratio=0, loss=hinge, penalty=elasticnet, score=0.687, total=   0.9s\n",
            "[CV] alpha=0.001, l1_ratio=0.2, loss=hinge, penalty=elasticnet .......\n",
            "[CV]  alpha=0.001, l1_ratio=0.2, loss=hinge, penalty=elasticnet, score=0.655, total=   0.8s\n",
            "[CV] alpha=0.001, l1_ratio=0.2, loss=hinge, penalty=elasticnet .......\n",
            "[CV]  alpha=0.001, l1_ratio=0.2, loss=hinge, penalty=elasticnet, score=0.661, total=   0.8s\n",
            "[CV] alpha=0.001, l1_ratio=0.2, loss=hinge, penalty=elasticnet .......\n",
            "[CV]  alpha=0.001, l1_ratio=0.2, loss=hinge, penalty=elasticnet, score=0.663, total=   0.7s\n",
            "[CV] alpha=0.001, l1_ratio=0.2, loss=hinge, penalty=elasticnet .......\n",
            "[CV]  alpha=0.001, l1_ratio=0.2, loss=hinge, penalty=elasticnet, score=0.652, total=   0.8s\n",
            "[CV] alpha=0.001, l1_ratio=0.2, loss=hinge, penalty=elasticnet .......\n",
            "[CV]  alpha=0.001, l1_ratio=0.2, loss=hinge, penalty=elasticnet, score=0.643, total=   0.7s\n",
            "[CV] alpha=0.001, l1_ratio=0.7, loss=hinge, penalty=elasticnet .......\n",
            "[CV]  alpha=0.001, l1_ratio=0.7, loss=hinge, penalty=elasticnet, score=0.635, total=   0.6s\n",
            "[CV] alpha=0.001, l1_ratio=0.7, loss=hinge, penalty=elasticnet .......\n",
            "[CV]  alpha=0.001, l1_ratio=0.7, loss=hinge, penalty=elasticnet, score=0.627, total=   0.6s\n",
            "[CV] alpha=0.001, l1_ratio=0.7, loss=hinge, penalty=elasticnet .......\n",
            "[CV]  alpha=0.001, l1_ratio=0.7, loss=hinge, penalty=elasticnet, score=0.633, total=   0.6s\n",
            "[CV] alpha=0.001, l1_ratio=0.7, loss=hinge, penalty=elasticnet .......\n",
            "[CV]  alpha=0.001, l1_ratio=0.7, loss=hinge, penalty=elasticnet, score=0.626, total=   0.7s\n",
            "[CV] alpha=0.001, l1_ratio=0.7, loss=hinge, penalty=elasticnet .......\n",
            "[CV]  alpha=0.001, l1_ratio=0.7, loss=hinge, penalty=elasticnet, score=0.621, total=   0.6s\n",
            "[CV] alpha=0.001, l1_ratio=1.0, loss=hinge, penalty=elasticnet .......\n",
            "[CV]  alpha=0.001, l1_ratio=1.0, loss=hinge, penalty=elasticnet, score=0.651, total=   0.7s\n",
            "[CV] alpha=0.001, l1_ratio=1.0, loss=hinge, penalty=elasticnet .......\n",
            "[CV]  alpha=0.001, l1_ratio=1.0, loss=hinge, penalty=elasticnet, score=0.640, total=   0.7s\n",
            "[CV] alpha=0.001, l1_ratio=1.0, loss=hinge, penalty=elasticnet .......\n",
            "[CV]  alpha=0.001, l1_ratio=1.0, loss=hinge, penalty=elasticnet, score=0.643, total=   0.7s\n",
            "[CV] alpha=0.001, l1_ratio=1.0, loss=hinge, penalty=elasticnet .......\n",
            "[CV]  alpha=0.001, l1_ratio=1.0, loss=hinge, penalty=elasticnet, score=0.646, total=   0.7s\n",
            "[CV] alpha=0.001, l1_ratio=1.0, loss=hinge, penalty=elasticnet .......\n",
            "[CV]  alpha=0.001, l1_ratio=1.0, loss=hinge, penalty=elasticnet, score=0.639, total=   0.7s\n",
            "[CV] alpha=0.01, l1_ratio=0, loss=hinge, penalty=elasticnet ..........\n",
            "[CV]  alpha=0.01, l1_ratio=0, loss=hinge, penalty=elasticnet, score=0.589, total=   0.7s\n",
            "[CV] alpha=0.01, l1_ratio=0, loss=hinge, penalty=elasticnet ..........\n",
            "[CV]  alpha=0.01, l1_ratio=0, loss=hinge, penalty=elasticnet, score=0.595, total=   0.7s\n",
            "[CV] alpha=0.01, l1_ratio=0, loss=hinge, penalty=elasticnet ..........\n",
            "[CV]  alpha=0.01, l1_ratio=0, loss=hinge, penalty=elasticnet, score=0.601, total=   0.7s\n",
            "[CV] alpha=0.01, l1_ratio=0, loss=hinge, penalty=elasticnet ..........\n",
            "[CV]  alpha=0.01, l1_ratio=0, loss=hinge, penalty=elasticnet, score=0.591, total=   0.7s\n",
            "[CV] alpha=0.01, l1_ratio=0, loss=hinge, penalty=elasticnet ..........\n",
            "[CV]  alpha=0.01, l1_ratio=0, loss=hinge, penalty=elasticnet, score=0.588, total=   0.7s\n",
            "[CV] alpha=0.01, l1_ratio=0.2, loss=hinge, penalty=elasticnet ........\n",
            "[CV]  alpha=0.01, l1_ratio=0.2, loss=hinge, penalty=elasticnet, score=0.491, total=   0.5s\n",
            "[CV] alpha=0.01, l1_ratio=0.2, loss=hinge, penalty=elasticnet ........\n",
            "[CV]  alpha=0.01, l1_ratio=0.2, loss=hinge, penalty=elasticnet, score=0.497, total=   0.5s\n",
            "[CV] alpha=0.01, l1_ratio=0.2, loss=hinge, penalty=elasticnet ........\n",
            "[CV]  alpha=0.01, l1_ratio=0.2, loss=hinge, penalty=elasticnet, score=0.493, total=   0.5s\n",
            "[CV] alpha=0.01, l1_ratio=0.2, loss=hinge, penalty=elasticnet ........\n",
            "[CV]  alpha=0.01, l1_ratio=0.2, loss=hinge, penalty=elasticnet, score=0.502, total=   0.5s\n",
            "[CV] alpha=0.01, l1_ratio=0.2, loss=hinge, penalty=elasticnet ........\n",
            "[CV]  alpha=0.01, l1_ratio=0.2, loss=hinge, penalty=elasticnet, score=0.500, total=   0.5s\n",
            "[CV] alpha=0.01, l1_ratio=0.7, loss=hinge, penalty=elasticnet ........\n",
            "[CV]  alpha=0.01, l1_ratio=0.7, loss=hinge, penalty=elasticnet, score=0.405, total=   0.5s\n",
            "[CV] alpha=0.01, l1_ratio=0.7, loss=hinge, penalty=elasticnet ........\n",
            "[CV]  alpha=0.01, l1_ratio=0.7, loss=hinge, penalty=elasticnet, score=0.430, total=   0.5s\n",
            "[CV] alpha=0.01, l1_ratio=0.7, loss=hinge, penalty=elasticnet ........\n",
            "[CV]  alpha=0.01, l1_ratio=0.7, loss=hinge, penalty=elasticnet, score=0.385, total=   0.5s\n",
            "[CV] alpha=0.01, l1_ratio=0.7, loss=hinge, penalty=elasticnet ........\n",
            "[CV]  alpha=0.01, l1_ratio=0.7, loss=hinge, penalty=elasticnet, score=0.385, total=   0.5s\n",
            "[CV] alpha=0.01, l1_ratio=0.7, loss=hinge, penalty=elasticnet ........\n",
            "[CV]  alpha=0.01, l1_ratio=0.7, loss=hinge, penalty=elasticnet, score=0.385, total=   0.5s\n",
            "[CV] alpha=0.01, l1_ratio=1.0, loss=hinge, penalty=elasticnet ........\n",
            "[CV]  alpha=0.01, l1_ratio=1.0, loss=hinge, penalty=elasticnet, score=0.387, total=   0.5s\n",
            "[CV] alpha=0.01, l1_ratio=1.0, loss=hinge, penalty=elasticnet ........\n",
            "[CV]  alpha=0.01, l1_ratio=1.0, loss=hinge, penalty=elasticnet, score=0.385, total=   0.5s\n",
            "[CV] alpha=0.01, l1_ratio=1.0, loss=hinge, penalty=elasticnet ........\n",
            "[CV]  alpha=0.01, l1_ratio=1.0, loss=hinge, penalty=elasticnet, score=0.374, total=   0.5s\n",
            "[CV] alpha=0.01, l1_ratio=1.0, loss=hinge, penalty=elasticnet ........\n",
            "[CV]  alpha=0.01, l1_ratio=1.0, loss=hinge, penalty=elasticnet, score=0.381, total=   0.5s\n",
            "[CV] alpha=0.01, l1_ratio=1.0, loss=hinge, penalty=elasticnet ........\n",
            "[CV]  alpha=0.01, l1_ratio=1.0, loss=hinge, penalty=elasticnet, score=0.382, total=   0.5s\n"
          ],
          "name": "stdout"
        },
        {
          "output_type": "stream",
          "text": [
            "[Parallel(n_jobs=1)]: Done  60 out of  60 | elapsed:   49.6s finished\n"
          ],
          "name": "stderr"
        },
        {
          "output_type": "stream",
          "text": [
            "Best parameters:\n",
            "{'alpha': 0.0001, 'l1_ratio': 1.0, 'loss': 'hinge', 'penalty': 'elasticnet'}\n",
            "Bestf1_weighted:0.8050778603698397\n",
            "Train classification report:\n",
            "              precision    recall  f1-score   support\n",
            "\n",
            "           0       0.81      0.71      0.76     15000\n",
            "           1       0.81      0.93      0.86     15000\n",
            "           2       0.85      0.84      0.85     15000\n",
            "\n",
            "    accuracy                           0.82     45000\n",
            "   macro avg       0.83      0.82      0.82     45000\n",
            "weighted avg       0.83      0.82      0.82     45000\n",
            "\n",
            "Test classification report:\n",
            "              precision    recall  f1-score   support\n",
            "\n",
            "           0       0.79      0.70      0.74      5000\n",
            "           1       0.81      0.91      0.86      5000\n",
            "           2       0.84      0.82      0.83      5000\n",
            "\n",
            "    accuracy                           0.81     15000\n",
            "   macro avg       0.81      0.81      0.81     15000\n",
            "weighted avg       0.81      0.81      0.81     15000\n",
            "\n",
            " \n",
            "##########################################################################################################\n",
            "Now doing GradientBoostingClassifier\n",
            "Fitting 5 folds for each of 9 candidates, totalling 45 fits\n",
            "[CV] learning_rate=0.01, n_estimators=50 .............................\n"
          ],
          "name": "stdout"
        },
        {
          "output_type": "stream",
          "text": [
            "[Parallel(n_jobs=1)]: Using backend SequentialBackend with 1 concurrent workers.\n"
          ],
          "name": "stderr"
        },
        {
          "output_type": "stream",
          "text": [
            "[CV] . learning_rate=0.01, n_estimators=50, score=0.628, total= 2.2min\n",
            "[CV] learning_rate=0.01, n_estimators=50 .............................\n"
          ],
          "name": "stdout"
        },
        {
          "output_type": "stream",
          "text": [
            "[Parallel(n_jobs=1)]: Done   1 out of   1 | elapsed:  2.2min remaining:    0.0s\n"
          ],
          "name": "stderr"
        },
        {
          "output_type": "stream",
          "text": [
            "[CV] . learning_rate=0.01, n_estimators=50, score=0.646, total= 2.1min\n",
            "[CV] learning_rate=0.01, n_estimators=50 .............................\n"
          ],
          "name": "stdout"
        },
        {
          "output_type": "stream",
          "text": [
            "[Parallel(n_jobs=1)]: Done   2 out of   2 | elapsed:  4.3min remaining:    0.0s\n"
          ],
          "name": "stderr"
        },
        {
          "output_type": "stream",
          "text": [
            "[CV] . learning_rate=0.01, n_estimators=50, score=0.667, total= 2.1min\n",
            "[CV] learning_rate=0.01, n_estimators=50 .............................\n",
            "[CV] . learning_rate=0.01, n_estimators=50, score=0.654, total= 2.1min\n",
            "[CV] learning_rate=0.01, n_estimators=50 .............................\n",
            "[CV] . learning_rate=0.01, n_estimators=50, score=0.662, total= 2.2min\n",
            "[CV] learning_rate=0.01, n_estimators=200 ............................\n",
            "[CV]  learning_rate=0.01, n_estimators=200, score=0.679, total= 8.8min\n",
            "[CV] learning_rate=0.01, n_estimators=200 ............................\n",
            "[CV]  learning_rate=0.01, n_estimators=200, score=0.691, total= 8.6min\n",
            "[CV] learning_rate=0.01, n_estimators=200 ............................\n",
            "[CV]  learning_rate=0.01, n_estimators=200, score=0.706, total= 8.5min\n",
            "[CV] learning_rate=0.01, n_estimators=200 ............................\n",
            "[CV]  learning_rate=0.01, n_estimators=200, score=0.716, total= 8.6min\n",
            "[CV] learning_rate=0.01, n_estimators=200 ............................\n",
            "[CV]  learning_rate=0.01, n_estimators=200, score=0.717, total= 8.6min\n",
            "[CV] learning_rate=0.01, n_estimators=600 ............................\n",
            "[CV]  learning_rate=0.01, n_estimators=600, score=0.734, total=26.0min\n",
            "[CV] learning_rate=0.01, n_estimators=600 ............................\n",
            "[CV]  learning_rate=0.01, n_estimators=600, score=0.744, total=25.5min\n",
            "[CV] learning_rate=0.01, n_estimators=600 ............................\n"
          ],
          "name": "stdout"
        },
        {
          "output_type": "error",
          "ename": "KeyboardInterrupt",
          "evalue": "ignored",
          "traceback": [
            "\u001b[0;31m---------------------------------------------------------------------------\u001b[0m",
            "\u001b[0;31mKeyboardInterrupt\u001b[0m                         Traceback (most recent call last)",
            "\u001b[0;32m<ipython-input-10-be585275d693>\u001b[0m in \u001b[0;36m<module>\u001b[0;34m()\u001b[0m\n\u001b[1;32m     18\u001b[0m     \u001b[0mprint\u001b[0m\u001b[0;34m(\u001b[0m\u001b[0;34m\"##########################################################################################################\"\u001b[0m\u001b[0;34m)\u001b[0m\u001b[0;34m\u001b[0m\u001b[0;34m\u001b[0m\u001b[0m\n\u001b[1;32m     19\u001b[0m     \u001b[0mprint\u001b[0m\u001b[0;34m(\u001b[0m\u001b[0;34m\"Now doing\"\u001b[0m\u001b[0;34m,\u001b[0m\u001b[0mclf_str\u001b[0m\u001b[0;34m)\u001b[0m\u001b[0;34m\u001b[0m\u001b[0;34m\u001b[0m\u001b[0m\n\u001b[0;32m---> 20\u001b[0;31m     \u001b[0mopt\u001b[0m \u001b[0;34m=\u001b[0m \u001b[0mdo_gridSearch\u001b[0m\u001b[0;34m(\u001b[0m\u001b[0mclf_fn\u001b[0m\u001b[0;34m,\u001b[0m\u001b[0md_train3\u001b[0m\u001b[0;34m,\u001b[0m\u001b[0my_train3\u001b[0m\u001b[0;34m,\u001b[0m\u001b[0md_test3\u001b[0m\u001b[0;34m,\u001b[0m\u001b[0my_test3\u001b[0m\u001b[0;34m,\u001b[0m\u001b[0mparams\u001b[0m\u001b[0;34m)\u001b[0m\u001b[0;34m\u001b[0m\u001b[0;34m\u001b[0m\u001b[0m\n\u001b[0m\u001b[1;32m     21\u001b[0m     \u001b[0mresult_dict3\u001b[0m\u001b[0;34m[\u001b[0m\u001b[0mclf_str\u001b[0m\u001b[0;34m]\u001b[0m \u001b[0;34m=\u001b[0m \u001b[0mopt\u001b[0m\u001b[0;34m\u001b[0m\u001b[0;34m\u001b[0m\u001b[0m\n",
            "\u001b[0;32m<ipython-input-9-36184dc720a5>\u001b[0m in \u001b[0;36mdo_gridSearch\u001b[0;34m(clf, d_train, y_train, d_test, y_test, hyperparams)\u001b[0m\n\u001b[1;32m      9\u001b[0m \u001b[0;32mdef\u001b[0m \u001b[0mdo_gridSearch\u001b[0m\u001b[0;34m(\u001b[0m\u001b[0mclf\u001b[0m\u001b[0;34m,\u001b[0m\u001b[0md_train\u001b[0m\u001b[0;34m,\u001b[0m\u001b[0my_train\u001b[0m\u001b[0;34m,\u001b[0m\u001b[0md_test\u001b[0m\u001b[0;34m,\u001b[0m\u001b[0my_test\u001b[0m\u001b[0;34m,\u001b[0m\u001b[0mhyperparams\u001b[0m\u001b[0;34m)\u001b[0m\u001b[0;34m:\u001b[0m\u001b[0;34m\u001b[0m\u001b[0;34m\u001b[0m\u001b[0m\n\u001b[1;32m     10\u001b[0m     \u001b[0mopt\u001b[0m \u001b[0;34m=\u001b[0m \u001b[0mGridSearchCV\u001b[0m\u001b[0;34m(\u001b[0m\u001b[0mclf\u001b[0m\u001b[0;34m,\u001b[0m \u001b[0mcv\u001b[0m\u001b[0;34m=\u001b[0m\u001b[0;36m5\u001b[0m\u001b[0;34m,\u001b[0m \u001b[0mparam_grid\u001b[0m\u001b[0;34m=\u001b[0m\u001b[0mhyperparams\u001b[0m\u001b[0;34m,\u001b[0m  \u001b[0mscoring\u001b[0m\u001b[0;34m=\u001b[0m\u001b[0;34m'f1_weighted'\u001b[0m\u001b[0;34m,\u001b[0m \u001b[0mverbose\u001b[0m\u001b[0;34m=\u001b[0m\u001b[0;36m2.1\u001b[0m\u001b[0;34m)\u001b[0m\u001b[0;34m\u001b[0m\u001b[0;34m\u001b[0m\u001b[0m\n\u001b[0;32m---> 11\u001b[0;31m     \u001b[0mopt\u001b[0m\u001b[0;34m.\u001b[0m\u001b[0mfit\u001b[0m\u001b[0;34m(\u001b[0m\u001b[0md_train\u001b[0m\u001b[0;34m,\u001b[0m \u001b[0mnp\u001b[0m\u001b[0;34m.\u001b[0m\u001b[0msqueeze\u001b[0m\u001b[0;34m(\u001b[0m\u001b[0my_train\u001b[0m\u001b[0;34m)\u001b[0m\u001b[0;34m)\u001b[0m\u001b[0;34m\u001b[0m\u001b[0;34m\u001b[0m\u001b[0m\n\u001b[0m\u001b[1;32m     12\u001b[0m     \u001b[0mprint\u001b[0m\u001b[0;34m(\u001b[0m\u001b[0;34m'Best parameters:'\u001b[0m\u001b[0;34m)\u001b[0m\u001b[0;34m\u001b[0m\u001b[0;34m\u001b[0m\u001b[0m\n\u001b[1;32m     13\u001b[0m     \u001b[0mprint\u001b[0m\u001b[0;34m(\u001b[0m\u001b[0mopt\u001b[0m\u001b[0;34m.\u001b[0m\u001b[0mbest_params_\u001b[0m\u001b[0;34m)\u001b[0m\u001b[0;34m\u001b[0m\u001b[0;34m\u001b[0m\u001b[0m\n",
            "\u001b[0;32m/usr/local/lib/python3.7/dist-packages/sklearn/model_selection/_search.py\u001b[0m in \u001b[0;36mfit\u001b[0;34m(self, X, y, groups, **fit_params)\u001b[0m\n\u001b[1;32m    708\u001b[0m                 \u001b[0;32mreturn\u001b[0m \u001b[0mresults\u001b[0m\u001b[0;34m\u001b[0m\u001b[0;34m\u001b[0m\u001b[0m\n\u001b[1;32m    709\u001b[0m \u001b[0;34m\u001b[0m\u001b[0m\n\u001b[0;32m--> 710\u001b[0;31m             \u001b[0mself\u001b[0m\u001b[0;34m.\u001b[0m\u001b[0m_run_search\u001b[0m\u001b[0;34m(\u001b[0m\u001b[0mevaluate_candidates\u001b[0m\u001b[0;34m)\u001b[0m\u001b[0;34m\u001b[0m\u001b[0;34m\u001b[0m\u001b[0m\n\u001b[0m\u001b[1;32m    711\u001b[0m \u001b[0;34m\u001b[0m\u001b[0m\n\u001b[1;32m    712\u001b[0m         \u001b[0;31m# For multi-metric evaluation, store the best_index_, best_params_ and\u001b[0m\u001b[0;34m\u001b[0m\u001b[0;34m\u001b[0m\u001b[0;34m\u001b[0m\u001b[0m\n",
            "\u001b[0;32m/usr/local/lib/python3.7/dist-packages/sklearn/model_selection/_search.py\u001b[0m in \u001b[0;36m_run_search\u001b[0;34m(self, evaluate_candidates)\u001b[0m\n\u001b[1;32m   1149\u001b[0m     \u001b[0;32mdef\u001b[0m \u001b[0m_run_search\u001b[0m\u001b[0;34m(\u001b[0m\u001b[0mself\u001b[0m\u001b[0;34m,\u001b[0m \u001b[0mevaluate_candidates\u001b[0m\u001b[0;34m)\u001b[0m\u001b[0;34m:\u001b[0m\u001b[0;34m\u001b[0m\u001b[0;34m\u001b[0m\u001b[0m\n\u001b[1;32m   1150\u001b[0m         \u001b[0;34m\"\"\"Search all candidates in param_grid\"\"\"\u001b[0m\u001b[0;34m\u001b[0m\u001b[0;34m\u001b[0m\u001b[0m\n\u001b[0;32m-> 1151\u001b[0;31m         \u001b[0mevaluate_candidates\u001b[0m\u001b[0;34m(\u001b[0m\u001b[0mParameterGrid\u001b[0m\u001b[0;34m(\u001b[0m\u001b[0mself\u001b[0m\u001b[0;34m.\u001b[0m\u001b[0mparam_grid\u001b[0m\u001b[0;34m)\u001b[0m\u001b[0;34m)\u001b[0m\u001b[0;34m\u001b[0m\u001b[0;34m\u001b[0m\u001b[0m\n\u001b[0m\u001b[1;32m   1152\u001b[0m \u001b[0;34m\u001b[0m\u001b[0m\n\u001b[1;32m   1153\u001b[0m \u001b[0;34m\u001b[0m\u001b[0m\n",
            "\u001b[0;32m/usr/local/lib/python3.7/dist-packages/sklearn/model_selection/_search.py\u001b[0m in \u001b[0;36mevaluate_candidates\u001b[0;34m(candidate_params)\u001b[0m\n\u001b[1;32m    687\u001b[0m                                \u001b[0;32mfor\u001b[0m \u001b[0mparameters\u001b[0m\u001b[0;34m,\u001b[0m \u001b[0;34m(\u001b[0m\u001b[0mtrain\u001b[0m\u001b[0;34m,\u001b[0m \u001b[0mtest\u001b[0m\u001b[0;34m)\u001b[0m\u001b[0;34m\u001b[0m\u001b[0;34m\u001b[0m\u001b[0m\n\u001b[1;32m    688\u001b[0m                                in product(candidate_params,\n\u001b[0;32m--> 689\u001b[0;31m                                           cv.split(X, y, groups)))\n\u001b[0m\u001b[1;32m    690\u001b[0m \u001b[0;34m\u001b[0m\u001b[0m\n\u001b[1;32m    691\u001b[0m                 \u001b[0;32mif\u001b[0m \u001b[0mlen\u001b[0m\u001b[0;34m(\u001b[0m\u001b[0mout\u001b[0m\u001b[0;34m)\u001b[0m \u001b[0;34m<\u001b[0m \u001b[0;36m1\u001b[0m\u001b[0;34m:\u001b[0m\u001b[0;34m\u001b[0m\u001b[0;34m\u001b[0m\u001b[0m\n",
            "\u001b[0;32m/usr/local/lib/python3.7/dist-packages/joblib/parallel.py\u001b[0m in \u001b[0;36m__call__\u001b[0;34m(self, iterable)\u001b[0m\n\u001b[1;32m   1042\u001b[0m                 \u001b[0mself\u001b[0m\u001b[0;34m.\u001b[0m\u001b[0m_iterating\u001b[0m \u001b[0;34m=\u001b[0m \u001b[0mself\u001b[0m\u001b[0;34m.\u001b[0m\u001b[0m_original_iterator\u001b[0m \u001b[0;32mis\u001b[0m \u001b[0;32mnot\u001b[0m \u001b[0;32mNone\u001b[0m\u001b[0;34m\u001b[0m\u001b[0;34m\u001b[0m\u001b[0m\n\u001b[1;32m   1043\u001b[0m \u001b[0;34m\u001b[0m\u001b[0m\n\u001b[0;32m-> 1044\u001b[0;31m             \u001b[0;32mwhile\u001b[0m \u001b[0mself\u001b[0m\u001b[0;34m.\u001b[0m\u001b[0mdispatch_one_batch\u001b[0m\u001b[0;34m(\u001b[0m\u001b[0miterator\u001b[0m\u001b[0;34m)\u001b[0m\u001b[0;34m:\u001b[0m\u001b[0;34m\u001b[0m\u001b[0;34m\u001b[0m\u001b[0m\n\u001b[0m\u001b[1;32m   1045\u001b[0m                 \u001b[0;32mpass\u001b[0m\u001b[0;34m\u001b[0m\u001b[0;34m\u001b[0m\u001b[0m\n\u001b[1;32m   1046\u001b[0m \u001b[0;34m\u001b[0m\u001b[0m\n",
            "\u001b[0;32m/usr/local/lib/python3.7/dist-packages/joblib/parallel.py\u001b[0m in \u001b[0;36mdispatch_one_batch\u001b[0;34m(self, iterator)\u001b[0m\n\u001b[1;32m    857\u001b[0m                 \u001b[0;32mreturn\u001b[0m \u001b[0;32mFalse\u001b[0m\u001b[0;34m\u001b[0m\u001b[0;34m\u001b[0m\u001b[0m\n\u001b[1;32m    858\u001b[0m             \u001b[0;32melse\u001b[0m\u001b[0;34m:\u001b[0m\u001b[0;34m\u001b[0m\u001b[0;34m\u001b[0m\u001b[0m\n\u001b[0;32m--> 859\u001b[0;31m                 \u001b[0mself\u001b[0m\u001b[0;34m.\u001b[0m\u001b[0m_dispatch\u001b[0m\u001b[0;34m(\u001b[0m\u001b[0mtasks\u001b[0m\u001b[0;34m)\u001b[0m\u001b[0;34m\u001b[0m\u001b[0;34m\u001b[0m\u001b[0m\n\u001b[0m\u001b[1;32m    860\u001b[0m                 \u001b[0;32mreturn\u001b[0m \u001b[0;32mTrue\u001b[0m\u001b[0;34m\u001b[0m\u001b[0;34m\u001b[0m\u001b[0m\n\u001b[1;32m    861\u001b[0m \u001b[0;34m\u001b[0m\u001b[0m\n",
            "\u001b[0;32m/usr/local/lib/python3.7/dist-packages/joblib/parallel.py\u001b[0m in \u001b[0;36m_dispatch\u001b[0;34m(self, batch)\u001b[0m\n\u001b[1;32m    775\u001b[0m         \u001b[0;32mwith\u001b[0m \u001b[0mself\u001b[0m\u001b[0;34m.\u001b[0m\u001b[0m_lock\u001b[0m\u001b[0;34m:\u001b[0m\u001b[0;34m\u001b[0m\u001b[0;34m\u001b[0m\u001b[0m\n\u001b[1;32m    776\u001b[0m             \u001b[0mjob_idx\u001b[0m \u001b[0;34m=\u001b[0m \u001b[0mlen\u001b[0m\u001b[0;34m(\u001b[0m\u001b[0mself\u001b[0m\u001b[0;34m.\u001b[0m\u001b[0m_jobs\u001b[0m\u001b[0;34m)\u001b[0m\u001b[0;34m\u001b[0m\u001b[0;34m\u001b[0m\u001b[0m\n\u001b[0;32m--> 777\u001b[0;31m             \u001b[0mjob\u001b[0m \u001b[0;34m=\u001b[0m \u001b[0mself\u001b[0m\u001b[0;34m.\u001b[0m\u001b[0m_backend\u001b[0m\u001b[0;34m.\u001b[0m\u001b[0mapply_async\u001b[0m\u001b[0;34m(\u001b[0m\u001b[0mbatch\u001b[0m\u001b[0;34m,\u001b[0m \u001b[0mcallback\u001b[0m\u001b[0;34m=\u001b[0m\u001b[0mcb\u001b[0m\u001b[0;34m)\u001b[0m\u001b[0;34m\u001b[0m\u001b[0;34m\u001b[0m\u001b[0m\n\u001b[0m\u001b[1;32m    778\u001b[0m             \u001b[0;31m# A job can complete so quickly than its callback is\u001b[0m\u001b[0;34m\u001b[0m\u001b[0;34m\u001b[0m\u001b[0;34m\u001b[0m\u001b[0m\n\u001b[1;32m    779\u001b[0m             \u001b[0;31m# called before we get here, causing self._jobs to\u001b[0m\u001b[0;34m\u001b[0m\u001b[0;34m\u001b[0m\u001b[0;34m\u001b[0m\u001b[0m\n",
            "\u001b[0;32m/usr/local/lib/python3.7/dist-packages/joblib/_parallel_backends.py\u001b[0m in \u001b[0;36mapply_async\u001b[0;34m(self, func, callback)\u001b[0m\n\u001b[1;32m    206\u001b[0m     \u001b[0;32mdef\u001b[0m \u001b[0mapply_async\u001b[0m\u001b[0;34m(\u001b[0m\u001b[0mself\u001b[0m\u001b[0;34m,\u001b[0m \u001b[0mfunc\u001b[0m\u001b[0;34m,\u001b[0m \u001b[0mcallback\u001b[0m\u001b[0;34m=\u001b[0m\u001b[0;32mNone\u001b[0m\u001b[0;34m)\u001b[0m\u001b[0;34m:\u001b[0m\u001b[0;34m\u001b[0m\u001b[0;34m\u001b[0m\u001b[0m\n\u001b[1;32m    207\u001b[0m         \u001b[0;34m\"\"\"Schedule a func to be run\"\"\"\u001b[0m\u001b[0;34m\u001b[0m\u001b[0;34m\u001b[0m\u001b[0m\n\u001b[0;32m--> 208\u001b[0;31m         \u001b[0mresult\u001b[0m \u001b[0;34m=\u001b[0m \u001b[0mImmediateResult\u001b[0m\u001b[0;34m(\u001b[0m\u001b[0mfunc\u001b[0m\u001b[0;34m)\u001b[0m\u001b[0;34m\u001b[0m\u001b[0;34m\u001b[0m\u001b[0m\n\u001b[0m\u001b[1;32m    209\u001b[0m         \u001b[0;32mif\u001b[0m \u001b[0mcallback\u001b[0m\u001b[0;34m:\u001b[0m\u001b[0;34m\u001b[0m\u001b[0;34m\u001b[0m\u001b[0m\n\u001b[1;32m    210\u001b[0m             \u001b[0mcallback\u001b[0m\u001b[0;34m(\u001b[0m\u001b[0mresult\u001b[0m\u001b[0;34m)\u001b[0m\u001b[0;34m\u001b[0m\u001b[0;34m\u001b[0m\u001b[0m\n",
            "\u001b[0;32m/usr/local/lib/python3.7/dist-packages/joblib/_parallel_backends.py\u001b[0m in \u001b[0;36m__init__\u001b[0;34m(self, batch)\u001b[0m\n\u001b[1;32m    570\u001b[0m         \u001b[0;31m# Don't delay the application, to avoid keeping the input\u001b[0m\u001b[0;34m\u001b[0m\u001b[0;34m\u001b[0m\u001b[0;34m\u001b[0m\u001b[0m\n\u001b[1;32m    571\u001b[0m         \u001b[0;31m# arguments in memory\u001b[0m\u001b[0;34m\u001b[0m\u001b[0;34m\u001b[0m\u001b[0;34m\u001b[0m\u001b[0m\n\u001b[0;32m--> 572\u001b[0;31m         \u001b[0mself\u001b[0m\u001b[0;34m.\u001b[0m\u001b[0mresults\u001b[0m \u001b[0;34m=\u001b[0m \u001b[0mbatch\u001b[0m\u001b[0;34m(\u001b[0m\u001b[0;34m)\u001b[0m\u001b[0;34m\u001b[0m\u001b[0;34m\u001b[0m\u001b[0m\n\u001b[0m\u001b[1;32m    573\u001b[0m \u001b[0;34m\u001b[0m\u001b[0m\n\u001b[1;32m    574\u001b[0m     \u001b[0;32mdef\u001b[0m \u001b[0mget\u001b[0m\u001b[0;34m(\u001b[0m\u001b[0mself\u001b[0m\u001b[0;34m)\u001b[0m\u001b[0;34m:\u001b[0m\u001b[0;34m\u001b[0m\u001b[0;34m\u001b[0m\u001b[0m\n",
            "\u001b[0;32m/usr/local/lib/python3.7/dist-packages/joblib/parallel.py\u001b[0m in \u001b[0;36m__call__\u001b[0;34m(self)\u001b[0m\n\u001b[1;32m    261\u001b[0m         \u001b[0;32mwith\u001b[0m \u001b[0mparallel_backend\u001b[0m\u001b[0;34m(\u001b[0m\u001b[0mself\u001b[0m\u001b[0;34m.\u001b[0m\u001b[0m_backend\u001b[0m\u001b[0;34m,\u001b[0m \u001b[0mn_jobs\u001b[0m\u001b[0;34m=\u001b[0m\u001b[0mself\u001b[0m\u001b[0;34m.\u001b[0m\u001b[0m_n_jobs\u001b[0m\u001b[0;34m)\u001b[0m\u001b[0;34m:\u001b[0m\u001b[0;34m\u001b[0m\u001b[0;34m\u001b[0m\u001b[0m\n\u001b[1;32m    262\u001b[0m             return [func(*args, **kwargs)\n\u001b[0;32m--> 263\u001b[0;31m                     for func, args, kwargs in self.items]\n\u001b[0m\u001b[1;32m    264\u001b[0m \u001b[0;34m\u001b[0m\u001b[0m\n\u001b[1;32m    265\u001b[0m     \u001b[0;32mdef\u001b[0m \u001b[0m__reduce__\u001b[0m\u001b[0;34m(\u001b[0m\u001b[0mself\u001b[0m\u001b[0;34m)\u001b[0m\u001b[0;34m:\u001b[0m\u001b[0;34m\u001b[0m\u001b[0;34m\u001b[0m\u001b[0m\n",
            "\u001b[0;32m/usr/local/lib/python3.7/dist-packages/joblib/parallel.py\u001b[0m in \u001b[0;36m<listcomp>\u001b[0;34m(.0)\u001b[0m\n\u001b[1;32m    261\u001b[0m         \u001b[0;32mwith\u001b[0m \u001b[0mparallel_backend\u001b[0m\u001b[0;34m(\u001b[0m\u001b[0mself\u001b[0m\u001b[0;34m.\u001b[0m\u001b[0m_backend\u001b[0m\u001b[0;34m,\u001b[0m \u001b[0mn_jobs\u001b[0m\u001b[0;34m=\u001b[0m\u001b[0mself\u001b[0m\u001b[0;34m.\u001b[0m\u001b[0m_n_jobs\u001b[0m\u001b[0;34m)\u001b[0m\u001b[0;34m:\u001b[0m\u001b[0;34m\u001b[0m\u001b[0;34m\u001b[0m\u001b[0m\n\u001b[1;32m    262\u001b[0m             return [func(*args, **kwargs)\n\u001b[0;32m--> 263\u001b[0;31m                     for func, args, kwargs in self.items]\n\u001b[0m\u001b[1;32m    264\u001b[0m \u001b[0;34m\u001b[0m\u001b[0m\n\u001b[1;32m    265\u001b[0m     \u001b[0;32mdef\u001b[0m \u001b[0m__reduce__\u001b[0m\u001b[0;34m(\u001b[0m\u001b[0mself\u001b[0m\u001b[0;34m)\u001b[0m\u001b[0;34m:\u001b[0m\u001b[0;34m\u001b[0m\u001b[0;34m\u001b[0m\u001b[0m\n",
            "\u001b[0;32m/usr/local/lib/python3.7/dist-packages/sklearn/model_selection/_validation.py\u001b[0m in \u001b[0;36m_fit_and_score\u001b[0;34m(estimator, X, y, scorer, train, test, verbose, parameters, fit_params, return_train_score, return_parameters, return_n_test_samples, return_times, return_estimator, error_score)\u001b[0m\n\u001b[1;32m    513\u001b[0m             \u001b[0mestimator\u001b[0m\u001b[0;34m.\u001b[0m\u001b[0mfit\u001b[0m\u001b[0;34m(\u001b[0m\u001b[0mX_train\u001b[0m\u001b[0;34m,\u001b[0m \u001b[0;34m**\u001b[0m\u001b[0mfit_params\u001b[0m\u001b[0;34m)\u001b[0m\u001b[0;34m\u001b[0m\u001b[0;34m\u001b[0m\u001b[0m\n\u001b[1;32m    514\u001b[0m         \u001b[0;32melse\u001b[0m\u001b[0;34m:\u001b[0m\u001b[0;34m\u001b[0m\u001b[0;34m\u001b[0m\u001b[0m\n\u001b[0;32m--> 515\u001b[0;31m             \u001b[0mestimator\u001b[0m\u001b[0;34m.\u001b[0m\u001b[0mfit\u001b[0m\u001b[0;34m(\u001b[0m\u001b[0mX_train\u001b[0m\u001b[0;34m,\u001b[0m \u001b[0my_train\u001b[0m\u001b[0;34m,\u001b[0m \u001b[0;34m**\u001b[0m\u001b[0mfit_params\u001b[0m\u001b[0;34m)\u001b[0m\u001b[0;34m\u001b[0m\u001b[0;34m\u001b[0m\u001b[0m\n\u001b[0m\u001b[1;32m    516\u001b[0m \u001b[0;34m\u001b[0m\u001b[0m\n\u001b[1;32m    517\u001b[0m     \u001b[0;32mexcept\u001b[0m \u001b[0mException\u001b[0m \u001b[0;32mas\u001b[0m \u001b[0me\u001b[0m\u001b[0;34m:\u001b[0m\u001b[0;34m\u001b[0m\u001b[0;34m\u001b[0m\u001b[0m\n",
            "\u001b[0;32m/usr/local/lib/python3.7/dist-packages/sklearn/ensemble/_gb.py\u001b[0m in \u001b[0;36mfit\u001b[0;34m(self, X, y, sample_weight, monitor)\u001b[0m\n\u001b[1;32m   1535\u001b[0m         n_stages = self._fit_stages(\n\u001b[1;32m   1536\u001b[0m             \u001b[0mX\u001b[0m\u001b[0;34m,\u001b[0m \u001b[0my\u001b[0m\u001b[0;34m,\u001b[0m \u001b[0mraw_predictions\u001b[0m\u001b[0;34m,\u001b[0m \u001b[0msample_weight\u001b[0m\u001b[0;34m,\u001b[0m \u001b[0mself\u001b[0m\u001b[0;34m.\u001b[0m\u001b[0m_rng\u001b[0m\u001b[0;34m,\u001b[0m \u001b[0mX_val\u001b[0m\u001b[0;34m,\u001b[0m \u001b[0my_val\u001b[0m\u001b[0;34m,\u001b[0m\u001b[0;34m\u001b[0m\u001b[0;34m\u001b[0m\u001b[0m\n\u001b[0;32m-> 1537\u001b[0;31m             sample_weight_val, begin_at_stage, monitor, X_idx_sorted)\n\u001b[0m\u001b[1;32m   1538\u001b[0m \u001b[0;34m\u001b[0m\u001b[0m\n\u001b[1;32m   1539\u001b[0m         \u001b[0;31m# change shape of arrays after fit (early-stopping or additional ests)\u001b[0m\u001b[0;34m\u001b[0m\u001b[0;34m\u001b[0m\u001b[0;34m\u001b[0m\u001b[0m\n",
            "\u001b[0;32m/usr/local/lib/python3.7/dist-packages/sklearn/ensemble/_gb.py\u001b[0m in \u001b[0;36m_fit_stages\u001b[0;34m(self, X, y, raw_predictions, sample_weight, random_state, X_val, y_val, sample_weight_val, begin_at_stage, monitor, X_idx_sorted)\u001b[0m\n\u001b[1;32m   1592\u001b[0m             raw_predictions = self._fit_stage(\n\u001b[1;32m   1593\u001b[0m                 \u001b[0mi\u001b[0m\u001b[0;34m,\u001b[0m \u001b[0mX\u001b[0m\u001b[0;34m,\u001b[0m \u001b[0my\u001b[0m\u001b[0;34m,\u001b[0m \u001b[0mraw_predictions\u001b[0m\u001b[0;34m,\u001b[0m \u001b[0msample_weight\u001b[0m\u001b[0;34m,\u001b[0m \u001b[0msample_mask\u001b[0m\u001b[0;34m,\u001b[0m\u001b[0;34m\u001b[0m\u001b[0;34m\u001b[0m\u001b[0m\n\u001b[0;32m-> 1594\u001b[0;31m                 random_state, X_idx_sorted, X_csc, X_csr)\n\u001b[0m\u001b[1;32m   1595\u001b[0m \u001b[0;34m\u001b[0m\u001b[0m\n\u001b[1;32m   1596\u001b[0m             \u001b[0;31m# track deviance (= loss)\u001b[0m\u001b[0;34m\u001b[0m\u001b[0;34m\u001b[0m\u001b[0;34m\u001b[0m\u001b[0m\n",
            "\u001b[0;32m/usr/local/lib/python3.7/dist-packages/sklearn/ensemble/_gb.py\u001b[0m in \u001b[0;36m_fit_stage\u001b[0;34m(self, i, X, y, raw_predictions, sample_weight, sample_mask, random_state, X_idx_sorted, X_csc, X_csr)\u001b[0m\n\u001b[1;32m   1243\u001b[0m             \u001b[0mX\u001b[0m \u001b[0;34m=\u001b[0m \u001b[0mX_csr\u001b[0m \u001b[0;32mif\u001b[0m \u001b[0mX_csr\u001b[0m \u001b[0;32mis\u001b[0m \u001b[0;32mnot\u001b[0m \u001b[0;32mNone\u001b[0m \u001b[0;32melse\u001b[0m \u001b[0mX\u001b[0m\u001b[0;34m\u001b[0m\u001b[0;34m\u001b[0m\u001b[0m\n\u001b[1;32m   1244\u001b[0m             tree.fit(X, residual, sample_weight=sample_weight,\n\u001b[0;32m-> 1245\u001b[0;31m                      check_input=False, X_idx_sorted=X_idx_sorted)\n\u001b[0m\u001b[1;32m   1246\u001b[0m \u001b[0;34m\u001b[0m\u001b[0m\n\u001b[1;32m   1247\u001b[0m             \u001b[0;31m# update tree leaves\u001b[0m\u001b[0;34m\u001b[0m\u001b[0;34m\u001b[0m\u001b[0;34m\u001b[0m\u001b[0m\n",
            "\u001b[0;32m/usr/local/lib/python3.7/dist-packages/sklearn/tree/_classes.py\u001b[0m in \u001b[0;36mfit\u001b[0;34m(self, X, y, sample_weight, check_input, X_idx_sorted)\u001b[0m\n\u001b[1;32m   1223\u001b[0m             \u001b[0msample_weight\u001b[0m\u001b[0;34m=\u001b[0m\u001b[0msample_weight\u001b[0m\u001b[0;34m,\u001b[0m\u001b[0;34m\u001b[0m\u001b[0;34m\u001b[0m\u001b[0m\n\u001b[1;32m   1224\u001b[0m             \u001b[0mcheck_input\u001b[0m\u001b[0;34m=\u001b[0m\u001b[0mcheck_input\u001b[0m\u001b[0;34m,\u001b[0m\u001b[0;34m\u001b[0m\u001b[0;34m\u001b[0m\u001b[0m\n\u001b[0;32m-> 1225\u001b[0;31m             X_idx_sorted=X_idx_sorted)\n\u001b[0m\u001b[1;32m   1226\u001b[0m         \u001b[0;32mreturn\u001b[0m \u001b[0mself\u001b[0m\u001b[0;34m\u001b[0m\u001b[0;34m\u001b[0m\u001b[0m\n\u001b[1;32m   1227\u001b[0m \u001b[0;34m\u001b[0m\u001b[0m\n",
            "\u001b[0;32m/usr/local/lib/python3.7/dist-packages/sklearn/tree/_classes.py\u001b[0m in \u001b[0;36mfit\u001b[0;34m(self, X, y, sample_weight, check_input, X_idx_sorted)\u001b[0m\n\u001b[1;32m    365\u001b[0m                                            min_impurity_split)\n\u001b[1;32m    366\u001b[0m \u001b[0;34m\u001b[0m\u001b[0m\n\u001b[0;32m--> 367\u001b[0;31m         \u001b[0mbuilder\u001b[0m\u001b[0;34m.\u001b[0m\u001b[0mbuild\u001b[0m\u001b[0;34m(\u001b[0m\u001b[0mself\u001b[0m\u001b[0;34m.\u001b[0m\u001b[0mtree_\u001b[0m\u001b[0;34m,\u001b[0m \u001b[0mX\u001b[0m\u001b[0;34m,\u001b[0m \u001b[0my\u001b[0m\u001b[0;34m,\u001b[0m \u001b[0msample_weight\u001b[0m\u001b[0;34m,\u001b[0m \u001b[0mX_idx_sorted\u001b[0m\u001b[0;34m)\u001b[0m\u001b[0;34m\u001b[0m\u001b[0;34m\u001b[0m\u001b[0m\n\u001b[0m\u001b[1;32m    368\u001b[0m \u001b[0;34m\u001b[0m\u001b[0m\n\u001b[1;32m    369\u001b[0m         \u001b[0;32mif\u001b[0m \u001b[0mself\u001b[0m\u001b[0;34m.\u001b[0m\u001b[0mn_outputs_\u001b[0m \u001b[0;34m==\u001b[0m \u001b[0;36m1\u001b[0m \u001b[0;32mand\u001b[0m \u001b[0mis_classifier\u001b[0m\u001b[0;34m(\u001b[0m\u001b[0mself\u001b[0m\u001b[0;34m)\u001b[0m\u001b[0;34m:\u001b[0m\u001b[0;34m\u001b[0m\u001b[0;34m\u001b[0m\u001b[0m\n",
            "\u001b[0;31mKeyboardInterrupt\u001b[0m: "
          ]
        }
      ]
    },
    {
      "cell_type": "markdown",
      "metadata": {
        "id": "C9uDrT8q0v-7"
      },
      "source": [
        "Stopped as training was taking too much time (~25 minutes)"
      ]
    },
    {
      "cell_type": "code",
      "metadata": {
        "id": "9LELVHzSQ471"
      },
      "source": [
        ""
      ],
      "execution_count": null,
      "outputs": []
    }
  ]
}